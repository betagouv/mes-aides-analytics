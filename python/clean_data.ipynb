{
 "cells": [
  {
   "cell_type": "code",
   "execution_count": 2,
   "metadata": {
    "collapsed": false
   },
   "outputs": [],
   "source": [
    "import numpy as np\n",
    "import pandas as pd\n",
    "import json\n",
    "import pymongo\n",
    "from clean_table import get_all_possible_keys, add_id_to_individus\n",
    "path = '/media/flo/Stockage/Data/MesAides/'"
   ]
  },
  {
   "cell_type": "code",
   "execution_count": 27,
   "metadata": {
    "collapsed": false,
    "scrolled": true
   },
   "outputs": [
    {
     "name": "stderr",
     "output_type": "stream",
     "text": [
      "/usr/local/lib/python3.4/dist-packages/IPython/parallel.py:13: ShimWarning: The `IPython.parallel` package has been deprecated. You should import from ipyparallel instead.\n",
      "  \"You should import from ipyparallel instead.\", ShimWarning)\n"
     ]
    }
   ],
   "source": [
    "%qtconsole\n",
    "%matplotlib inline"
   ]
  },
  {
   "cell_type": "markdown",
   "metadata": {},
   "source": [
    "## Mongo db"
   ]
  },
  {
   "cell_type": "code",
   "execution_count": 3,
   "metadata": {
    "collapsed": false,
    "scrolled": true
   },
   "outputs": [],
   "source": [
    "from pymongo import MongoClient\n",
    "import bson"
   ]
  },
  {
   "cell_type": "code",
   "execution_count": 4,
   "metadata": {
    "collapsed": false
   },
   "outputs": [],
   "source": [
    "client = MongoClient('localhost', 27017)\n",
    "db = client['MesAides']\n",
    "collection = db['situations']"
   ]
  },
  {
   "cell_type": "raw",
   "metadata": {
    "collapsed": false
   },
   "source": [
    "bson_file = open(path + 'situations.bson', 'rb')\n",
    "b = bson.decode_all(bson_file.read())"
   ]
  },
  {
   "cell_type": "raw",
   "metadata": {
    "collapsed": false
   },
   "source": [
    "collection.insert(b)"
   ]
  },
  {
   "cell_type": "markdown",
   "metadata": {},
   "source": [
    "#### import data"
   ]
  },
  {
   "cell_type": "code",
   "execution_count": 5,
   "metadata": {
    "collapsed": false
   },
   "outputs": [],
   "source": [
    "input_data = db.situations\n",
    "data = pd.DataFrame(list(input_data.find()))"
   ]
  },
  {
   "cell_type": "markdown",
   "metadata": {},
   "source": [
    "## Clean Data"
   ]
  },
  {
   "cell_type": "code",
   "execution_count": 6,
   "metadata": {
    "collapsed": false
   },
   "outputs": [
    {
     "data": {
      "text/html": [
       "<div>\n",
       "<table border=\"1\" class=\"dataframe\">\n",
       "  <thead>\n",
       "    <tr style=\"text-align: right;\">\n",
       "      <th></th>\n",
       "      <th>__v</th>\n",
       "      <th>_id</th>\n",
       "      <th>_updated</th>\n",
       "      <th>dateDeValeur</th>\n",
       "      <th>email</th>\n",
       "      <th>individus</th>\n",
       "      <th>logement</th>\n",
       "      <th>mobilierValue</th>\n",
       "      <th>patrimoine</th>\n",
       "      <th>phoneNumber</th>\n",
       "      <th>ressourcesYearMoins2Captured</th>\n",
       "      <th>rfr</th>\n",
       "      <th>status</th>\n",
       "      <th>token</th>\n",
       "    </tr>\n",
       "  </thead>\n",
       "  <tbody>\n",
       "    <tr>\n",
       "      <th>0</th>\n",
       "      <td>3</td>\n",
       "      <td>53cd46e76e5e3202000f4616</td>\n",
       "      <td>NaN</td>\n",
       "      <td>2014-07-15</td>\n",
       "      <td>NaN</td>\n",
       "      <td>[{'_id': 53cd46e76e5e3202000f4617, 'ressources...</td>\n",
       "      <td>{'membreFamilleProprietaire': True, 'loyer': 1...</td>\n",
       "      <td>NaN</td>\n",
       "      <td>{'revenusDuCapital': [], 'revenusLocatifs': []}</td>\n",
       "      <td>NaN</td>\n",
       "      <td>NaN</td>\n",
       "      <td>NaN</td>\n",
       "      <td>test</td>\n",
       "      <td>NaN</td>\n",
       "    </tr>\n",
       "  </tbody>\n",
       "</table>\n",
       "</div>"
      ],
      "text/plain": [
       "   __v                       _id _updated dateDeValeur email  \\\n",
       "0    3  53cd46e76e5e3202000f4616      NaN   2014-07-15   NaN   \n",
       "\n",
       "                                           individus  \\\n",
       "0  [{'_id': 53cd46e76e5e3202000f4617, 'ressources...   \n",
       "\n",
       "                                            logement  mobilierValue  \\\n",
       "0  {'membreFamilleProprietaire': True, 'loyer': 1...            NaN   \n",
       "\n",
       "                                        patrimoine phoneNumber  \\\n",
       "0  {'revenusDuCapital': [], 'revenusLocatifs': []}         NaN   \n",
       "\n",
       "  ressourcesYearMoins2Captured  rfr status token  \n",
       "0                          NaN  NaN   test   NaN  "
      ]
     },
     "execution_count": 6,
     "metadata": {},
     "output_type": "execute_result"
    }
   ],
   "source": [
    "data.head(1)"
   ]
  },
  {
   "cell_type": "markdown",
   "metadata": {},
   "source": [
    "#### individus"
   ]
  },
  {
   "cell_type": "code",
   "execution_count": 26,
   "metadata": {
    "collapsed": false
   },
   "outputs": [
    {
     "data": {
      "text/plain": [
       "[{'_id': ObjectId('53cd46e76e5e3202000f4617'),\n",
       "  'dateDeNaissance': datetime.datetime(1954, 9, 14, 0, 0),\n",
       "  'enceinte': False,\n",
       "  'interruptedRessources': [],\n",
       "  'ressources': [{'_id': ObjectId('54465def99337c9d5413681f'),\n",
       "    'montant': 720,\n",
       "    'periode': '2014-04',\n",
       "    'type': 'revenusSalarie'},\n",
       "   {'_id': ObjectId('54465def99337c9d5413681e'),\n",
       "    'montant': 720,\n",
       "    'periode': '2014-05',\n",
       "    'type': 'revenusSalarie'},\n",
       "   {'_id': ObjectId('54465def99337c9d5413681d'),\n",
       "    'montant': 720,\n",
       "    'periode': '2014-06',\n",
       "    'type': 'revenusSalarie'}],\n",
       "  'role': 'demandeur',\n",
       "  'specificSituations': []}]"
      ]
     },
     "execution_count": 26,
     "metadata": {},
     "output_type": "execute_result"
    }
   ],
   "source": [
    "data.individus[0]"
   ]
  },
  {
   "cell_type": "code",
   "execution_count": 36,
   "metadata": {
    "collapsed": false
   },
   "outputs": [],
   "source": [
    "k = 0\n",
    "for list_ind in data.individus:\n",
    "    if len(list_ind) > 0:\n",
    "        for d in list_ind:\n",
    "            d['_id_demandeur'] = data.loc[k]['_id']\n",
    "    k += 1"
   ]
  },
  {
   "cell_type": "code",
   "execution_count": 37,
   "metadata": {
    "collapsed": false,
    "scrolled": false
   },
   "outputs": [],
   "source": [
    "t_individus = pd.DataFrame(data.individus.sum())"
   ]
  },
  {
   "cell_type": "code",
   "execution_count": 41,
   "metadata": {
    "collapsed": false
   },
   "outputs": [
    {
     "data": {
      "text/html": [
       "<div>\n",
       "<table border=\"1\" class=\"dataframe\">\n",
       "  <thead>\n",
       "    <tr style=\"text-align: right;\">\n",
       "      <th></th>\n",
       "      <th>_id</th>\n",
       "      <th>_id_demandeur</th>\n",
       "      <th>aCharge</th>\n",
       "      <th>assPreconditionRemplie</th>\n",
       "      <th>autoEntrepreneurActiviteType</th>\n",
       "      <th>autresRevenusTns</th>\n",
       "      <th>autresRevenusTnsActiviteType</th>\n",
       "      <th>autresRevenusTnsEmployes</th>\n",
       "      <th>boursier</th>\n",
       "      <th>boursierEnseignementSup</th>\n",
       "      <th>...</th>\n",
       "      <th>situation</th>\n",
       "      <th>situationsPro</th>\n",
       "      <th>specificSituations</th>\n",
       "      <th>statusMarital</th>\n",
       "      <th>statutMarital</th>\n",
       "      <th>tauxIncapacite</th>\n",
       "      <th>tauxInvalidite</th>\n",
       "      <th>tnsActiviteType</th>\n",
       "      <th>tnsStructureType</th>\n",
       "      <th>villeNaissance</th>\n",
       "    </tr>\n",
       "  </thead>\n",
       "  <tbody>\n",
       "    <tr>\n",
       "      <th>0</th>\n",
       "      <td>53cd46e76e5e3202000f4617</td>\n",
       "      <td>53cd46e76e5e3202000f4616</td>\n",
       "      <td>NaN</td>\n",
       "      <td>NaN</td>\n",
       "      <td>NaN</td>\n",
       "      <td>NaN</td>\n",
       "      <td>NaN</td>\n",
       "      <td>NaN</td>\n",
       "      <td>NaN</td>\n",
       "      <td>NaN</td>\n",
       "      <td>...</td>\n",
       "      <td>NaN</td>\n",
       "      <td>NaN</td>\n",
       "      <td>[]</td>\n",
       "      <td>NaN</td>\n",
       "      <td>NaN</td>\n",
       "      <td>NaN</td>\n",
       "      <td>NaN</td>\n",
       "      <td>NaN</td>\n",
       "      <td>NaN</td>\n",
       "      <td>NaN</td>\n",
       "    </tr>\n",
       "    <tr>\n",
       "      <th>1</th>\n",
       "      <td>53cd48556e5e3202000f4625</td>\n",
       "      <td>53cd48556e5e3202000f4624</td>\n",
       "      <td>NaN</td>\n",
       "      <td>NaN</td>\n",
       "      <td>NaN</td>\n",
       "      <td>NaN</td>\n",
       "      <td>NaN</td>\n",
       "      <td>NaN</td>\n",
       "      <td>NaN</td>\n",
       "      <td>NaN</td>\n",
       "      <td>...</td>\n",
       "      <td>NaN</td>\n",
       "      <td>NaN</td>\n",
       "      <td>[]</td>\n",
       "      <td>NaN</td>\n",
       "      <td>NaN</td>\n",
       "      <td>NaN</td>\n",
       "      <td>NaN</td>\n",
       "      <td>NaN</td>\n",
       "      <td>NaN</td>\n",
       "      <td>NaN</td>\n",
       "    </tr>\n",
       "    <tr>\n",
       "      <th>2</th>\n",
       "      <td>53d0c86489d7bd02003d8459</td>\n",
       "      <td>53d0c86489d7bd02003d8457</td>\n",
       "      <td>NaN</td>\n",
       "      <td>NaN</td>\n",
       "      <td>NaN</td>\n",
       "      <td>NaN</td>\n",
       "      <td>NaN</td>\n",
       "      <td>NaN</td>\n",
       "      <td>NaN</td>\n",
       "      <td>NaN</td>\n",
       "      <td>...</td>\n",
       "      <td>NaN</td>\n",
       "      <td>NaN</td>\n",
       "      <td>[]</td>\n",
       "      <td>NaN</td>\n",
       "      <td>mariage</td>\n",
       "      <td>NaN</td>\n",
       "      <td>NaN</td>\n",
       "      <td>NaN</td>\n",
       "      <td>NaN</td>\n",
       "      <td>NaN</td>\n",
       "    </tr>\n",
       "    <tr>\n",
       "      <th>3</th>\n",
       "      <td>53d0c86489d7bd02003d8458</td>\n",
       "      <td>53d0c86489d7bd02003d8457</td>\n",
       "      <td>NaN</td>\n",
       "      <td>NaN</td>\n",
       "      <td>NaN</td>\n",
       "      <td>NaN</td>\n",
       "      <td>NaN</td>\n",
       "      <td>NaN</td>\n",
       "      <td>NaN</td>\n",
       "      <td>NaN</td>\n",
       "      <td>...</td>\n",
       "      <td>NaN</td>\n",
       "      <td>NaN</td>\n",
       "      <td>[]</td>\n",
       "      <td>NaN</td>\n",
       "      <td>NaN</td>\n",
       "      <td>NaN</td>\n",
       "      <td>NaN</td>\n",
       "      <td>NaN</td>\n",
       "      <td>NaN</td>\n",
       "      <td>NaN</td>\n",
       "    </tr>\n",
       "    <tr>\n",
       "      <th>4</th>\n",
       "      <td>53d0d01889d7bd02003d84a4</td>\n",
       "      <td>53d0d01889d7bd02003d84a1</td>\n",
       "      <td>NaN</td>\n",
       "      <td>NaN</td>\n",
       "      <td>NaN</td>\n",
       "      <td>NaN</td>\n",
       "      <td>NaN</td>\n",
       "      <td>NaN</td>\n",
       "      <td>NaN</td>\n",
       "      <td>NaN</td>\n",
       "      <td>...</td>\n",
       "      <td>NaN</td>\n",
       "      <td>NaN</td>\n",
       "      <td>[]</td>\n",
       "      <td>NaN</td>\n",
       "      <td>NaN</td>\n",
       "      <td>NaN</td>\n",
       "      <td>NaN</td>\n",
       "      <td>NaN</td>\n",
       "      <td>NaN</td>\n",
       "      <td>NaN</td>\n",
       "    </tr>\n",
       "  </tbody>\n",
       "</table>\n",
       "<p>5 rows × 54 columns</p>\n",
       "</div>"
      ],
      "text/plain": [
       "                        _id             _id_demandeur aCharge  \\\n",
       "0  53cd46e76e5e3202000f4617  53cd46e76e5e3202000f4616     NaN   \n",
       "1  53cd48556e5e3202000f4625  53cd48556e5e3202000f4624     NaN   \n",
       "2  53d0c86489d7bd02003d8459  53d0c86489d7bd02003d8457     NaN   \n",
       "3  53d0c86489d7bd02003d8458  53d0c86489d7bd02003d8457     NaN   \n",
       "4  53d0d01889d7bd02003d84a4  53d0d01889d7bd02003d84a1     NaN   \n",
       "\n",
       "  assPreconditionRemplie autoEntrepreneurActiviteType  autresRevenusTns  \\\n",
       "0                    NaN                          NaN               NaN   \n",
       "1                    NaN                          NaN               NaN   \n",
       "2                    NaN                          NaN               NaN   \n",
       "3                    NaN                          NaN               NaN   \n",
       "4                    NaN                          NaN               NaN   \n",
       "\n",
       "  autresRevenusTnsActiviteType autresRevenusTnsEmployes boursier  \\\n",
       "0                          NaN                      NaN      NaN   \n",
       "1                          NaN                      NaN      NaN   \n",
       "2                          NaN                      NaN      NaN   \n",
       "3                          NaN                      NaN      NaN   \n",
       "4                          NaN                      NaN      NaN   \n",
       "\n",
       "  boursierEnseignementSup      ...        situation  situationsPro  \\\n",
       "0                     NaN      ...              NaN            NaN   \n",
       "1                     NaN      ...              NaN            NaN   \n",
       "2                     NaN      ...              NaN            NaN   \n",
       "3                     NaN      ...              NaN            NaN   \n",
       "4                     NaN      ...              NaN            NaN   \n",
       "\n",
       "   specificSituations statusMarital statutMarital tauxIncapacite  \\\n",
       "0                  []           NaN           NaN            NaN   \n",
       "1                  []           NaN           NaN            NaN   \n",
       "2                  []           NaN       mariage            NaN   \n",
       "3                  []           NaN           NaN            NaN   \n",
       "4                  []           NaN           NaN            NaN   \n",
       "\n",
       "  tauxInvalidite tnsActiviteType tnsStructureType villeNaissance  \n",
       "0            NaN             NaN              NaN            NaN  \n",
       "1            NaN             NaN              NaN            NaN  \n",
       "2            NaN             NaN              NaN            NaN  \n",
       "3            NaN             NaN              NaN            NaN  \n",
       "4            NaN             NaN              NaN            NaN  \n",
       "\n",
       "[5 rows x 54 columns]"
      ]
     },
     "execution_count": 41,
     "metadata": {},
     "output_type": "execute_result"
    }
   ],
   "source": [
    "t_individus.head(5)"
   ]
  },
  {
   "cell_type": "code",
   "execution_count": 40,
   "metadata": {
    "collapsed": false
   },
   "outputs": [
    {
     "data": {
      "text/plain": [
       "_id_demandeur             role     \n",
       "53cd46e76e5e3202000f4616  demandeur    1\n",
       "53cd48556e5e3202000f4624  demandeur    1\n",
       "53d0c86489d7bd02003d8457  conjoint     1\n",
       "                          demandeur    1\n",
       "53d0d01889d7bd02003d84a1  enfant       2\n",
       "                          demandeur    1\n",
       "53d0d35089d7bd02003d84a6  enfant       3\n",
       "                          conjoint     1\n",
       "                          demandeur    1\n",
       "53d0d49189d7bd02003d84b5  demandeur    1\n",
       "dtype: int64"
      ]
     },
     "execution_count": 40,
     "metadata": {},
     "output_type": "execute_result"
    }
   ],
   "source": [
    "# -- Exemple de l'utilité de l'ajour du _id_demandeur\n",
    "t_individus.groupby('_id_demandeur')['role'].value_counts().head(10)"
   ]
  },
  {
   "cell_type": "markdown",
   "metadata": {},
   "source": [
    "#### logements"
   ]
  },
  {
   "cell_type": "code",
   "execution_count": 44,
   "metadata": {
    "collapsed": false
   },
   "outputs": [
    {
     "data": {
      "text/plain": [
       "0    {'type': 'locataire', 'adresse': {'codePostal'...\n",
       "Name: logement, dtype: object"
      ]
     },
     "execution_count": 44,
     "metadata": {},
     "output_type": "execute_result"
    }
   ],
   "source": [
    "data.logement.head(1)"
   ]
  },
  {
   "cell_type": "code",
   "execution_count": 45,
   "metadata": {
    "collapsed": false
   },
   "outputs": [],
   "source": [
    "# -- Replace NaN by {}\n",
    "t_logements = data.logement.apply(lambda x: {} if pd.isnull(x) else x)"
   ]
  },
  {
   "cell_type": "code",
   "execution_count": 46,
   "metadata": {
    "collapsed": false
   },
   "outputs": [],
   "source": [
    "# -- Convert to DataFrame\n",
    "t_logements = pd.DataFrame(t_logements.tolist())"
   ]
  },
  {
   "cell_type": "code",
   "execution_count": 52,
   "metadata": {
    "collapsed": false,
    "scrolled": true
   },
   "outputs": [],
   "source": [
    "t_logements['_id_demandeur'] = data['_id']"
   ]
  },
  {
   "cell_type": "code",
   "execution_count": 54,
   "metadata": {
    "collapsed": false
   },
   "outputs": [
    {
     "data": {
      "text/html": [
       "<div>\n",
       "<table border=\"1\" class=\"dataframe\">\n",
       "  <thead>\n",
       "    <tr style=\"text-align: right;\">\n",
       "      <th></th>\n",
       "      <th>adresse</th>\n",
       "      <th>adresseConjoint</th>\n",
       "      <th>charges</th>\n",
       "      <th>codePostal</th>\n",
       "      <th>colocation</th>\n",
       "      <th>conjointMemeAdresse</th>\n",
       "      <th>dateArrivee</th>\n",
       "      <th>inhabitantForThreeYearsOutOfLastFive</th>\n",
       "      <th>isChambre</th>\n",
       "      <th>locationType</th>\n",
       "      <th>loyer</th>\n",
       "      <th>membreFamilleProprietaire</th>\n",
       "      <th>participationFrais</th>\n",
       "      <th>pretConventionne</th>\n",
       "      <th>primoAccedant</th>\n",
       "      <th>type</th>\n",
       "      <th>_id_demandeur</th>\n",
       "    </tr>\n",
       "  </thead>\n",
       "  <tbody>\n",
       "    <tr>\n",
       "      <th>0</th>\n",
       "      <td>{'codePostal': '123'}</td>\n",
       "      <td>NaN</td>\n",
       "      <td>NaN</td>\n",
       "      <td>123</td>\n",
       "      <td>NaN</td>\n",
       "      <td>NaN</td>\n",
       "      <td>NaN</td>\n",
       "      <td>NaN</td>\n",
       "      <td>NaN</td>\n",
       "      <td>NaN</td>\n",
       "      <td>123</td>\n",
       "      <td>True</td>\n",
       "      <td>NaN</td>\n",
       "      <td>NaN</td>\n",
       "      <td>NaN</td>\n",
       "      <td>locataire</td>\n",
       "      <td>53cd46e76e5e3202000f4616</td>\n",
       "    </tr>\n",
       "    <tr>\n",
       "      <th>1</th>\n",
       "      <td>{'codePostal': '97400'}</td>\n",
       "      <td>NaN</td>\n",
       "      <td>NaN</td>\n",
       "      <td>NaN</td>\n",
       "      <td>NaN</td>\n",
       "      <td>NaN</td>\n",
       "      <td>NaN</td>\n",
       "      <td>NaN</td>\n",
       "      <td>NaN</td>\n",
       "      <td>NaN</td>\n",
       "      <td>123</td>\n",
       "      <td>NaN</td>\n",
       "      <td>NaN</td>\n",
       "      <td>NaN</td>\n",
       "      <td>False</td>\n",
       "      <td>proprietaire</td>\n",
       "      <td>53cd48556e5e3202000f4624</td>\n",
       "    </tr>\n",
       "  </tbody>\n",
       "</table>\n",
       "</div>"
      ],
      "text/plain": [
       "                   adresse adresseConjoint  charges codePostal colocation  \\\n",
       "0    {'codePostal': '123'}             NaN      NaN        123        NaN   \n",
       "1  {'codePostal': '97400'}             NaN      NaN        NaN        NaN   \n",
       "\n",
       "  conjointMemeAdresse dateArrivee inhabitantForThreeYearsOutOfLastFive  \\\n",
       "0                 NaN         NaN                                  NaN   \n",
       "1                 NaN         NaN                                  NaN   \n",
       "\n",
       "  isChambre locationType  loyer membreFamilleProprietaire participationFrais  \\\n",
       "0       NaN          NaN    123                      True                NaN   \n",
       "1       NaN          NaN    123                       NaN                NaN   \n",
       "\n",
       "  pretConventionne primoAccedant          type             _id_demandeur  \n",
       "0              NaN           NaN     locataire  53cd46e76e5e3202000f4616  \n",
       "1              NaN         False  proprietaire  53cd48556e5e3202000f4624  "
      ]
     },
     "execution_count": 54,
     "metadata": {},
     "output_type": "execute_result"
    }
   ],
   "source": [
    "t_logements.head(2)"
   ]
  },
  {
   "cell_type": "code",
   "execution_count": null,
   "metadata": {
    "collapsed": true
   },
   "outputs": [],
   "source": []
  },
  {
   "cell_type": "markdown",
   "metadata": {},
   "source": [
    "#### patrimoines"
   ]
  },
  {
   "cell_type": "code",
   "execution_count": 41,
   "metadata": {
    "collapsed": false
   },
   "outputs": [
    {
     "data": {
      "text/plain": [
       "0    {'revenusDuCapital': [], 'revenusLocatifs': []}\n",
       "Name: patrimoine, dtype: object"
      ]
     },
     "execution_count": 41,
     "metadata": {},
     "output_type": "execute_result"
    }
   ],
   "source": [
    "data.patrimoine.head(1)"
   ]
  },
  {
   "cell_type": "code",
   "execution_count": 55,
   "metadata": {
    "collapsed": false
   },
   "outputs": [
    {
     "data": {
      "text/plain": [
       "0"
      ]
     },
     "execution_count": 55,
     "metadata": {},
     "output_type": "execute_result"
    }
   ],
   "source": [
    "data.patrimoine.isnull().sum()"
   ]
  },
  {
   "cell_type": "code",
   "execution_count": 57,
   "metadata": {
    "collapsed": false,
    "scrolled": true
   },
   "outputs": [],
   "source": [
    "t_patrimoines = pd.DataFrame(data.patrimoine.tolist())"
   ]
  },
  {
   "cell_type": "code",
   "execution_count": 63,
   "metadata": {
    "collapsed": false
   },
   "outputs": [],
   "source": [
    "t_patrimoines['_id_demandeur'] = data['_id']"
   ]
  },
  {
   "cell_type": "code",
   "execution_count": 65,
   "metadata": {
    "collapsed": false,
    "scrolled": true
   },
   "outputs": [
    {
     "data": {
      "text/html": [
       "<div>\n",
       "<table border=\"1\" class=\"dataframe\">\n",
       "  <thead>\n",
       "    <tr style=\"text-align: right;\">\n",
       "      <th></th>\n",
       "      <th>captured</th>\n",
       "      <th>epargneSansRevenus</th>\n",
       "      <th>epargneSurLivret</th>\n",
       "      <th>revenusDuCapital</th>\n",
       "      <th>revenusLocatifs</th>\n",
       "      <th>valeurLocativeImmoNonLoue</th>\n",
       "      <th>valeurLocativeTerrainNonLoue</th>\n",
       "      <th>_id_demandeur</th>\n",
       "    </tr>\n",
       "  </thead>\n",
       "  <tbody>\n",
       "    <tr>\n",
       "      <th>0</th>\n",
       "      <td>NaN</td>\n",
       "      <td>NaN</td>\n",
       "      <td>NaN</td>\n",
       "      <td>[]</td>\n",
       "      <td>[]</td>\n",
       "      <td>NaN</td>\n",
       "      <td>NaN</td>\n",
       "      <td>53cd46e76e5e3202000f4616</td>\n",
       "    </tr>\n",
       "    <tr>\n",
       "      <th>1</th>\n",
       "      <td>NaN</td>\n",
       "      <td>NaN</td>\n",
       "      <td>NaN</td>\n",
       "      <td>[]</td>\n",
       "      <td>[]</td>\n",
       "      <td>NaN</td>\n",
       "      <td>NaN</td>\n",
       "      <td>53cd48556e5e3202000f4624</td>\n",
       "    </tr>\n",
       "  </tbody>\n",
       "</table>\n",
       "</div>"
      ],
      "text/plain": [
       "  captured  epargneSansRevenus  epargneSurLivret revenusDuCapital  \\\n",
       "0      NaN                 NaN               NaN               []   \n",
       "1      NaN                 NaN               NaN               []   \n",
       "\n",
       "  revenusLocatifs  valeurLocativeImmoNonLoue  valeurLocativeTerrainNonLoue  \\\n",
       "0              []                        NaN                           NaN   \n",
       "1              []                        NaN                           NaN   \n",
       "\n",
       "              _id_demandeur  \n",
       "0  53cd46e76e5e3202000f4616  \n",
       "1  53cd48556e5e3202000f4624  "
      ]
     },
     "execution_count": 65,
     "metadata": {},
     "output_type": "execute_result"
    }
   ],
   "source": [
    "t_patrimoines.head(2)"
   ]
  },
  {
   "cell_type": "markdown",
   "metadata": {},
   "source": [
    "### Tests"
   ]
  },
  {
   "cell_type": "code",
   "execution_count": 19,
   "metadata": {
    "collapsed": false
   },
   "outputs": [
    {
     "data": {
      "text/plain": [
       "Series([], Name: individus, dtype: object)"
      ]
     },
     "execution_count": 19,
     "metadata": {},
     "output_type": "execute_result"
    }
   ],
   "source": [
    "data.individus[data._id == '56fd555a91dac855400fd4ab']"
   ]
  },
  {
   "cell_type": "code",
   "execution_count": 25,
   "metadata": {
    "collapsed": false
   },
   "outputs": [
    {
     "data": {
      "text/plain": [
       "[{'_id': ObjectId('53cd46e76e5e3202000f4617'),\n",
       "  'dateDeNaissance': datetime.datetime(1954, 9, 14, 0, 0),\n",
       "  'enceinte': False,\n",
       "  'interruptedRessources': [],\n",
       "  'ressources': [{'_id': ObjectId('54465def99337c9d5413681f'),\n",
       "    'montant': 720,\n",
       "    'periode': '2014-04',\n",
       "    'type': 'revenusSalarie'},\n",
       "   {'_id': ObjectId('54465def99337c9d5413681e'),\n",
       "    'montant': 720,\n",
       "    'periode': '2014-05',\n",
       "    'type': 'revenusSalarie'},\n",
       "   {'_id': ObjectId('54465def99337c9d5413681d'),\n",
       "    'montant': 720,\n",
       "    'periode': '2014-06',\n",
       "    'type': 'revenusSalarie'}],\n",
       "  'role': 'demandeur',\n",
       "  'specificSituations': []}]"
      ]
     },
     "execution_count": 25,
     "metadata": {},
     "output_type": "execute_result"
    }
   ],
   "source": [
    "data[['individus', '_id']].loc[0][0]"
   ]
  },
  {
   "cell_type": "markdown",
   "metadata": {},
   "source": [
    "### Dump"
   ]
  },
  {
   "cell_type": "code",
   "execution_count": 42,
   "metadata": {
    "collapsed": true
   },
   "outputs": [],
   "source": [
    "t_individus.to_csv(path + 'tables/individus.csv')"
   ]
  },
  {
   "cell_type": "code",
   "execution_count": 94,
   "metadata": {
    "collapsed": false
   },
   "outputs": [],
   "source": [
    "t_individus.to_csv(path + 'tables/individus.csv')\n",
    "t_logements.to_csv(path + 'tables/logements.csv')\n",
    "t_patrimoines.to_csv(path + 'tables/patrimoines.csv')"
   ]
  }
 ],
 "metadata": {
  "kernelspec": {
   "display_name": "Python 3",
   "language": "python",
   "name": "python3"
  },
  "language_info": {
   "codemirror_mode": {
    "name": "ipython",
    "version": 3
   },
   "file_extension": ".py",
   "mimetype": "text/x-python",
   "name": "python",
   "nbconvert_exporter": "python",
   "pygments_lexer": "ipython3",
   "version": "3.4.3"
  }
 },
 "nbformat": 4,
 "nbformat_minor": 0
}
