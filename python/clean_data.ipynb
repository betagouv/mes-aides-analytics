{
 "cells": [
  {
   "cell_type": "code",
   "execution_count": 118,
   "metadata": {
    "collapsed": false
   },
   "outputs": [],
   "source": [
    "import numpy as np\n",
    "import pandas as pd\n",
    "import json\n",
    "import pymongo\n",
    "from clean_table import get_all_possible_keys, dict_to_df\n",
    "path = '/media/flo/Stockage/Data/MesAides/'"
   ]
  },
  {
   "cell_type": "code",
   "execution_count": 2,
   "metadata": {
    "collapsed": false,
    "scrolled": true
   },
   "outputs": [
    {
     "name": "stderr",
     "output_type": "stream",
     "text": [
      "/usr/local/lib/python3.4/dist-packages/IPython/parallel.py:13: ShimWarning: The `IPython.parallel` package has been deprecated. You should import from ipyparallel instead.\n",
      "  \"You should import from ipyparallel instead.\", ShimWarning)\n"
     ]
    }
   ],
   "source": [
    "%qtconsole\n",
    "%matplotlib inline"
   ]
  },
  {
   "cell_type": "markdown",
   "metadata": {},
   "source": [
    "## Mongo db"
   ]
  },
  {
   "cell_type": "code",
   "execution_count": 3,
   "metadata": {
    "collapsed": false,
    "scrolled": true
   },
   "outputs": [],
   "source": [
    "from pymongo import MongoClient\n",
    "import bson"
   ]
  },
  {
   "cell_type": "code",
   "execution_count": 4,
   "metadata": {
    "collapsed": false
   },
   "outputs": [],
   "source": [
    "client = MongoClient('localhost', 27017)\n",
    "db = client['MesAides']\n",
    "collection = db['situations']\n",
    "#collection = db['test-collection']"
   ]
  },
  {
   "cell_type": "code",
   "execution_count": 5,
   "metadata": {
    "collapsed": false
   },
   "outputs": [],
   "source": [
    "bson_file = open(path + 'situations.bson', 'rb')\n",
    "b = bson.decode_all(bson_file.read())"
   ]
  },
  {
   "cell_type": "code",
   "execution_count": null,
   "metadata": {
    "collapsed": false
   },
   "outputs": [],
   "source": [
    "collection.insert(b)"
   ]
  },
  {
   "cell_type": "code",
   "execution_count": 5,
   "metadata": {
    "collapsed": false
   },
   "outputs": [],
   "source": [
    "input_data = db.situations\n",
    "data = pd.DataFrame(list(input_data.find()))"
   ]
  },
  {
   "cell_type": "code",
   "execution_count": 6,
   "metadata": {
    "collapsed": false,
    "scrolled": false
   },
   "outputs": [
    {
     "data": {
      "text/html": [
       "<div>\n",
       "<table border=\"1\" class=\"dataframe\">\n",
       "  <thead>\n",
       "    <tr style=\"text-align: right;\">\n",
       "      <th></th>\n",
       "      <th>__v</th>\n",
       "      <th>_id</th>\n",
       "      <th>_updated</th>\n",
       "      <th>dateDeValeur</th>\n",
       "      <th>email</th>\n",
       "      <th>individus</th>\n",
       "      <th>logement</th>\n",
       "      <th>mobilierValue</th>\n",
       "      <th>patrimoine</th>\n",
       "      <th>phoneNumber</th>\n",
       "      <th>ressourcesYearMoins2Captured</th>\n",
       "      <th>rfr</th>\n",
       "      <th>status</th>\n",
       "      <th>token</th>\n",
       "    </tr>\n",
       "  </thead>\n",
       "  <tbody>\n",
       "    <tr>\n",
       "      <th>0</th>\n",
       "      <td>3</td>\n",
       "      <td>53cd46e76e5e3202000f4616</td>\n",
       "      <td>NaN</td>\n",
       "      <td>2014-07-15</td>\n",
       "      <td>NaN</td>\n",
       "      <td>[{'dateDeNaissance': 1954-09-14 00:00:00, '_id...</td>\n",
       "      <td>{'membreFamilleProprietaire': True, 'loyer': 1...</td>\n",
       "      <td>NaN</td>\n",
       "      <td>{'revenusDuCapital': [], 'revenusLocatifs': []}</td>\n",
       "      <td>NaN</td>\n",
       "      <td>NaN</td>\n",
       "      <td>NaN</td>\n",
       "      <td>test</td>\n",
       "      <td>NaN</td>\n",
       "    </tr>\n",
       "    <tr>\n",
       "      <th>1</th>\n",
       "      <td>3</td>\n",
       "      <td>53cd48556e5e3202000f4624</td>\n",
       "      <td>NaN</td>\n",
       "      <td>2014-07-15</td>\n",
       "      <td>NaN</td>\n",
       "      <td>[{'dateDeNaissance': 1984-09-14 00:00:00, '_id...</td>\n",
       "      <td>{'loyer': 123, 'primoAccedant': False, 'type':...</td>\n",
       "      <td>NaN</td>\n",
       "      <td>{'revenusDuCapital': [], 'revenusLocatifs': []}</td>\n",
       "      <td>NaN</td>\n",
       "      <td>NaN</td>\n",
       "      <td>NaN</td>\n",
       "      <td>test</td>\n",
       "      <td>NaN</td>\n",
       "    </tr>\n",
       "  </tbody>\n",
       "</table>\n",
       "</div>"
      ],
      "text/plain": [
       "   __v                       _id _updated dateDeValeur email  \\\n",
       "0    3  53cd46e76e5e3202000f4616      NaN   2014-07-15   NaN   \n",
       "1    3  53cd48556e5e3202000f4624      NaN   2014-07-15   NaN   \n",
       "\n",
       "                                           individus  \\\n",
       "0  [{'dateDeNaissance': 1954-09-14 00:00:00, '_id...   \n",
       "1  [{'dateDeNaissance': 1984-09-14 00:00:00, '_id...   \n",
       "\n",
       "                                            logement  mobilierValue  \\\n",
       "0  {'membreFamilleProprietaire': True, 'loyer': 1...            NaN   \n",
       "1  {'loyer': 123, 'primoAccedant': False, 'type':...            NaN   \n",
       "\n",
       "                                        patrimoine phoneNumber  \\\n",
       "0  {'revenusDuCapital': [], 'revenusLocatifs': []}         NaN   \n",
       "1  {'revenusDuCapital': [], 'revenusLocatifs': []}         NaN   \n",
       "\n",
       "  ressourcesYearMoins2Captured  rfr status token  \n",
       "0                          NaN  NaN   test   NaN  \n",
       "1                          NaN  NaN   test   NaN  "
      ]
     },
     "execution_count": 6,
     "metadata": {},
     "output_type": "execute_result"
    }
   ],
   "source": [
    "data.head(2)"
   ]
  },
  {
   "cell_type": "markdown",
   "metadata": {},
   "source": [
    "## Clean Data"
   ]
  },
  {
   "cell_type": "code",
   "execution_count": 114,
   "metadata": {
    "collapsed": false,
    "scrolled": true
   },
   "outputs": [
    {
     "name": "stdout",
     "output_type": "stream",
     "text": [
      "110198 / 110199\n"
     ]
    }
   ],
   "source": [
    "t_individus = dict_to_df(data.individus)"
   ]
  },
  {
   "cell_type": "code",
   "execution_count": 116,
   "metadata": {
    "collapsed": false
   },
   "outputs": [
    {
     "name": "stdout",
     "output_type": "stream",
     "text": [
      "110198 / 110199\n"
     ]
    }
   ],
   "source": [
    "t_logements = dict_to_df(data.logement)"
   ]
  },
  {
   "cell_type": "code",
   "execution_count": 117,
   "metadata": {
    "collapsed": false
   },
   "outputs": [
    {
     "name": "stdout",
     "output_type": "stream",
     "text": [
      "110199 / 110199\n"
     ]
    }
   ],
   "source": [
    "t_patrimoine = dict_to_df(data.patrimoine)"
   ]
  },
  {
   "cell_type": "markdown",
   "metadata": {},
   "source": [
    "### Dump"
   ]
  },
  {
   "cell_type": "raw",
   "metadata": {},
   "source": [
    "t_individus.to_csv(path + 'tables/individus.csv')\n",
    "t_logements.to_csv(path + 'tables/logements.csv')\n",
    "t_patrimoine.to_csv(path + 'tables/patrimoines.csv')"
   ]
  },
  {
   "cell_type": "markdown",
   "metadata": {},
   "source": []
  }
 ],
 "metadata": {
  "kernelspec": {
   "display_name": "Python 3",
   "language": "python",
   "name": "python3"
  },
  "language_info": {
   "codemirror_mode": {
    "name": "ipython",
    "version": 3
   },
   "file_extension": ".py",
   "mimetype": "text/x-python",
   "name": "python",
   "nbconvert_exporter": "python",
   "pygments_lexer": "ipython3",
   "version": "3.4.3"
  }
 },
 "nbformat": 4,
 "nbformat_minor": 0
}
