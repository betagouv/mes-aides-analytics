{
 "cells": [
  {
   "cell_type": "code",
   "execution_count": 1,
   "metadata": {
    "collapsed": false
   },
   "outputs": [],
   "source": [
    "import numpy as np\n",
    "import pandas as pd\n",
    "import json\n",
    "import ast\n",
    "import pymongo\n",
    "from matplotlib import pyplot as plt\n",
    "path = '/media/flo/Stockage/Data/MesAides/tables/'"
   ]
  },
  {
   "cell_type": "code",
   "execution_count": 2,
   "metadata": {
    "collapsed": false
   },
   "outputs": [
    {
     "name": "stderr",
     "output_type": "stream",
     "text": [
      "/usr/local/lib/python3.4/dist-packages/IPython/parallel.py:13: ShimWarning: The `IPython.parallel` package has been deprecated. You should import from ipyparallel instead.\n",
      "  \"You should import from ipyparallel instead.\", ShimWarning)\n"
     ]
    }
   ],
   "source": [
    "%qtconsole\n",
    "%matplotlib inline"
   ]
  },
  {
   "cell_type": "markdown",
   "metadata": {},
   "source": [
    "# Individus"
   ]
  },
  {
   "cell_type": "code",
   "execution_count": 194,
   "metadata": {
    "collapsed": false,
    "scrolled": true
   },
   "outputs": [
    {
     "name": "stderr",
     "output_type": "stream",
     "text": [
      "/usr/local/lib/python3.4/dist-packages/IPython/core/interactiveshell.py:2902: DtypeWarning: Columns (3,5,10,14,15,17,18,19,21,24,27,28,31,33,34,35,36,37,39,41,45,46,48,50,51,52,53,54) have mixed types. Specify dtype option on import or set low_memory=False.\n",
      "  interactivity=interactivity, compiler=compiler, result=result)\n"
     ]
    }
   ],
   "source": [
    "t_individus = pd.read_csv(path + \"individus.csv\", index_col=False)"
   ]
  },
  {
   "cell_type": "code",
   "execution_count": 195,
   "metadata": {
    "collapsed": false
   },
   "outputs": [],
   "source": [
    "del t_individus['Unnamed: 0']"
   ]
  },
  {
   "cell_type": "code",
   "execution_count": 196,
   "metadata": {
    "collapsed": false,
    "scrolled": true
   },
   "outputs": [
    {
     "data": {
      "text/html": [
       "<div>\n",
       "<table border=\"1\" class=\"dataframe\">\n",
       "  <thead>\n",
       "    <tr style=\"text-align: right;\">\n",
       "      <th></th>\n",
       "      <th>_id</th>\n",
       "      <th>_id_demandeur</th>\n",
       "      <th>aCharge</th>\n",
       "      <th>assPreconditionRemplie</th>\n",
       "      <th>autoEntrepreneurActiviteType</th>\n",
       "      <th>autresRevenusTns</th>\n",
       "      <th>autresRevenusTnsActiviteType</th>\n",
       "      <th>autresRevenusTnsEmployes</th>\n",
       "      <th>boursier</th>\n",
       "      <th>boursierEnseignementSup</th>\n",
       "      <th>...</th>\n",
       "      <th>situation</th>\n",
       "      <th>situationsPro</th>\n",
       "      <th>specificSituations</th>\n",
       "      <th>statusMarital</th>\n",
       "      <th>statutMarital</th>\n",
       "      <th>tauxIncapacite</th>\n",
       "      <th>tauxInvalidite</th>\n",
       "      <th>tnsActiviteType</th>\n",
       "      <th>tnsStructureType</th>\n",
       "      <th>villeNaissance</th>\n",
       "    </tr>\n",
       "  </thead>\n",
       "  <tbody>\n",
       "    <tr>\n",
       "      <th>0</th>\n",
       "      <td>53cd46e76e5e3202000f4617</td>\n",
       "      <td>53cd46e76e5e3202000f4617</td>\n",
       "      <td>NaN</td>\n",
       "      <td>NaN</td>\n",
       "      <td>NaN</td>\n",
       "      <td>NaN</td>\n",
       "      <td>NaN</td>\n",
       "      <td>NaN</td>\n",
       "      <td>NaN</td>\n",
       "      <td>NaN</td>\n",
       "      <td>...</td>\n",
       "      <td>NaN</td>\n",
       "      <td>NaN</td>\n",
       "      <td>[]</td>\n",
       "      <td>NaN</td>\n",
       "      <td>NaN</td>\n",
       "      <td>NaN</td>\n",
       "      <td>NaN</td>\n",
       "      <td>NaN</td>\n",
       "      <td>NaN</td>\n",
       "      <td>NaN</td>\n",
       "    </tr>\n",
       "  </tbody>\n",
       "</table>\n",
       "<p>1 rows × 54 columns</p>\n",
       "</div>"
      ],
      "text/plain": [
       "                        _id             _id_demandeur aCharge  \\\n",
       "0  53cd46e76e5e3202000f4617  53cd46e76e5e3202000f4617     NaN   \n",
       "\n",
       "  assPreconditionRemplie autoEntrepreneurActiviteType  autresRevenusTns  \\\n",
       "0                    NaN                          NaN               NaN   \n",
       "\n",
       "  autresRevenusTnsActiviteType autresRevenusTnsEmployes boursier  \\\n",
       "0                          NaN                      NaN      NaN   \n",
       "\n",
       "  boursierEnseignementSup      ...        situation  situationsPro  \\\n",
       "0                     NaN      ...              NaN            NaN   \n",
       "\n",
       "   specificSituations statusMarital statutMarital tauxIncapacite  \\\n",
       "0                  []           NaN           NaN            NaN   \n",
       "\n",
       "  tauxInvalidite tnsActiviteType tnsStructureType villeNaissance  \n",
       "0            NaN             NaN              NaN            NaN  \n",
       "\n",
       "[1 rows x 54 columns]"
      ]
     },
     "execution_count": 196,
     "metadata": {},
     "output_type": "execute_result"
    }
   ],
   "source": [
    "t_individus.head(1)"
   ]
  },
  {
   "cell_type": "code",
   "execution_count": 197,
   "metadata": {
    "collapsed": false
   },
   "outputs": [],
   "source": [
    "# -- On ne conserve que la date (sans les nanosecondes..)\n",
    "t_individus.dateDeNaissance = [x.split(' ')[0] for x in t_individus.dateDeNaissance]"
   ]
  },
  {
   "cell_type": "code",
   "execution_count": 198,
   "metadata": {
    "collapsed": false
   },
   "outputs": [
    {
     "data": {
      "text/plain": [
       "0    1954-09-14\n",
       "1    1984-09-14\n",
       "2    1981-09-14\n",
       "3    1982-09-14\n",
       "4    1989-09-14\n",
       "Name: dateDeNaissance, dtype: object"
      ]
     },
     "execution_count": 198,
     "metadata": {},
     "output_type": "execute_result"
    }
   ],
   "source": [
    "t_individus.dateDeNaissance.head()"
   ]
  },
  {
   "cell_type": "code",
   "execution_count": 199,
   "metadata": {
    "collapsed": false
   },
   "outputs": [],
   "source": [
    "t_individus.dateDeNaissance = pd.to_datetime(t_individus.dateDeNaissance, errors='coerce')"
   ]
  },
  {
   "cell_type": "code",
   "execution_count": 200,
   "metadata": {
    "collapsed": false
   },
   "outputs": [
    {
     "data": {
      "text/plain": [
       "16"
      ]
     },
     "execution_count": 200,
     "metadata": {},
     "output_type": "execute_result"
    }
   ],
   "source": [
    "t_individus.dateDeNaissance.isnull().sum() # nombre de dates de naissances invalides"
   ]
  },
  {
   "cell_type": "code",
   "execution_count": 201,
   "metadata": {
    "collapsed": false
   },
   "outputs": [
    {
     "data": {
      "text/plain": [
       "1385    NaT\n",
       "1533    NaT\n",
       "1553    NaT\n",
       "5575    NaT\n",
       "5576    NaT\n",
       "9550    NaT\n",
       "10536   NaT\n",
       "10538   NaT\n",
       "12141   NaT\n",
       "12439   NaT\n",
       "13617   NaT\n",
       "14379   NaT\n",
       "15089   NaT\n",
       "15467   NaT\n",
       "18299   NaT\n",
       "18322   NaT\n",
       "Name: dateDeNaissance, dtype: datetime64[ns]"
      ]
     },
     "execution_count": 201,
     "metadata": {},
     "output_type": "execute_result"
    }
   ],
   "source": [
    "t_individus[t_individus.dateDeNaissance.isnull()].dateDeNaissance"
   ]
  },
  {
   "cell_type": "markdown",
   "metadata": {},
   "source": [
    "#### Basic filter\n"
   ]
  },
  {
   "cell_type": "code",
   "execution_count": 202,
   "metadata": {
    "collapsed": false
   },
   "outputs": [],
   "source": [
    "t_individus = t_individus.loc[t_individus.dateDeNaissance != '12-12-2012']"
   ]
  },
  {
   "cell_type": "markdown",
   "metadata": {},
   "source": [
    "### Missing values"
   ]
  },
  {
   "cell_type": "code",
   "execution_count": 203,
   "metadata": {
    "collapsed": false
   },
   "outputs": [],
   "source": [
    "individus_NA = t_individus.isnull().sum().reset_index()\n",
    "individus_NA.columns = ['features', 'na']\n",
    "individus_NA.set_index('features', inplace=True)"
   ]
  },
  {
   "cell_type": "code",
   "execution_count": 204,
   "metadata": {
    "collapsed": false
   },
   "outputs": [
    {
     "data": {
      "text/html": [
       "<div>\n",
       "<table border=\"1\" class=\"dataframe\">\n",
       "  <thead>\n",
       "    <tr style=\"text-align: right;\">\n",
       "      <th></th>\n",
       "      <th>na</th>\n",
       "    </tr>\n",
       "    <tr>\n",
       "      <th>features</th>\n",
       "      <th></th>\n",
       "    </tr>\n",
       "  </thead>\n",
       "  <tbody>\n",
       "    <tr>\n",
       "      <th>_id</th>\n",
       "      <td>0</td>\n",
       "    </tr>\n",
       "    <tr>\n",
       "      <th>_id_demandeur</th>\n",
       "      <td>0</td>\n",
       "    </tr>\n",
       "    <tr>\n",
       "      <th>aCharge</th>\n",
       "      <td>39447</td>\n",
       "    </tr>\n",
       "    <tr>\n",
       "      <th>assPreconditionRemplie</th>\n",
       "      <td>186112</td>\n",
       "    </tr>\n",
       "    <tr>\n",
       "      <th>autoEntrepreneurActiviteType</th>\n",
       "      <td>73300</td>\n",
       "    </tr>\n",
       "  </tbody>\n",
       "</table>\n",
       "</div>"
      ],
      "text/plain": [
       "                                  na\n",
       "features                            \n",
       "_id                                0\n",
       "_id_demandeur                      0\n",
       "aCharge                        39447\n",
       "assPreconditionRemplie        186112\n",
       "autoEntrepreneurActiviteType   73300"
      ]
     },
     "execution_count": 204,
     "metadata": {},
     "output_type": "execute_result"
    }
   ],
   "source": [
    "individus_NA.head(5)"
   ]
  },
  {
   "cell_type": "code",
   "execution_count": 206,
   "metadata": {
    "collapsed": false
   },
   "outputs": [],
   "source": [
    "individus_NA['ratio'] = individus_NA['na'] / len(t_individus)"
   ]
  },
  {
   "cell_type": "code",
   "execution_count": 207,
   "metadata": {
    "collapsed": false
   },
   "outputs": [
    {
     "data": {
      "text/plain": [
       "<matplotlib.text.Text at 0x7fa9151cff28>"
      ]
     },
     "execution_count": 207,
     "metadata": {},
     "output_type": "execute_result"
    },
    {
     "data": {
      "image/png": "[encoded data removed]",
      "text/plain": [
       "<matplotlib.figure.Figure at 0x7fa91420c5c0>"
      ]
     },
     "metadata": {},
     "output_type": "display_data"
    }
   ],
   "source": [
    "individus_NA.sort_values('ratio', ascending='False').plot(y= 'ratio', kind='barh', figsize=(12, 10), color='grey')\n",
    "plt.xlabel('Missing value (%)')"
   ]
  },
  {
   "cell_type": "markdown",
   "metadata": {},
   "source": [
    "### Enfant"
   ]
  },
  {
   "cell_type": "code",
   "execution_count": 174,
   "metadata": {
    "collapsed": false
   },
   "outputs": [],
   "source": [
    "grouped = t_individus.groupby('_id_demandeur')['role']"
   ]
  },
  {
   "cell_type": "code",
   "execution_count": 176,
   "metadata": {
    "collapsed": false
   },
   "outputs": [
    {
     "data": {
      "text/plain": [
       "_id_demandeur             role     \n",
       "53cd46e76e5e3202000f4617  demandeur    1\n",
       "53cd48556e5e3202000f4625  demandeur    1\n",
       "53d0c86489d7bd02003d8459  conjoint     1\n",
       "                          demandeur    1\n",
       "53d0d01889d7bd02003d84a4  enfant       2\n",
       "dtype: int64"
      ]
     },
     "execution_count": 176,
     "metadata": {},
     "output_type": "execute_result"
    }
   ],
   "source": [
    "grouped.value_counts().head()"
   ]
  },
  {
   "cell_type": "code",
   "execution_count": 177,
   "metadata": {
    "collapsed": false
   },
   "outputs": [
    {
     "data": {
      "text/html": [
       "<div>\n",
       "<table border=\"1\" class=\"dataframe\">\n",
       "  <thead>\n",
       "    <tr style=\"text-align: right;\">\n",
       "      <th></th>\n",
       "      <th>_id_demandeur</th>\n",
       "      <th>role</th>\n",
       "      <th>nb</th>\n",
       "    </tr>\n",
       "  </thead>\n",
       "  <tbody>\n",
       "    <tr>\n",
       "      <th>2</th>\n",
       "      <td>53d0c86489d7bd02003d8459</td>\n",
       "      <td>conjoint</td>\n",
       "      <td>1</td>\n",
       "    </tr>\n",
       "    <tr>\n",
       "      <th>4</th>\n",
       "      <td>53d0d01889d7bd02003d84a4</td>\n",
       "      <td>enfant</td>\n",
       "      <td>2</td>\n",
       "    </tr>\n",
       "    <tr>\n",
       "      <th>6</th>\n",
       "      <td>53d0d35089d7bd02003d84ab</td>\n",
       "      <td>enfant</td>\n",
       "      <td>3</td>\n",
       "    </tr>\n",
       "  </tbody>\n",
       "</table>\n",
       "</div>"
      ],
      "text/plain": [
       "              _id_demandeur      role  nb\n",
       "2  53d0c86489d7bd02003d8459  conjoint   1\n",
       "4  53d0d01889d7bd02003d84a4    enfant   2\n",
       "6  53d0d35089d7bd02003d84ab    enfant   3"
      ]
     },
     "execution_count": 177,
     "metadata": {},
     "output_type": "execute_result"
    }
   ],
   "source": [
    "t_role = grouped.value_counts().reset_index()\n",
    "t_role.columns = ['_id_demandeur', 'role', 'nb']\n",
    "t_role = t_role[t_role.role != 'demandeur']\n",
    "t_role.head(3)"
   ]
  },
  {
   "cell_type": "code",
   "execution_count": 178,
   "metadata": {
    "collapsed": false
   },
   "outputs": [
    {
     "data": {
      "text/plain": [
       "<matplotlib.text.Text at 0x7fa9503f6630>"
      ]
     },
     "execution_count": 178,
     "metadata": {},
     "output_type": "execute_result"
    },
    {
     "data": {
      "image/png": "[encoded data removed]",
      "text/plain": [
       "<matplotlib.figure.Figure at 0x7fa93cd205f8>"
      ]
     },
     "metadata": {},
     "output_type": "display_data"
    }
   ],
   "source": [
    "plt.subplot(111)\n",
    "t_role[t_role.role == 'enfant']['nb'].hist(color='green')\n",
    "plt.title('Nombre d\\'enfants moyen')"
   ]
  },
  {
   "cell_type": "markdown",
   "metadata": {},
   "source": [
    "### Situation pro"
   ]
  },
  {
   "cell_type": "code",
   "execution_count": 179,
   "metadata": {
    "collapsed": false
   },
   "outputs": [
    {
     "data": {
      "text/html": [
       "<div>\n",
       "<table border=\"1\" class=\"dataframe\">\n",
       "  <thead>\n",
       "    <tr style=\"text-align: right;\">\n",
       "      <th></th>\n",
       "      <th>_id</th>\n",
       "      <th>_id_demandeur</th>\n",
       "      <th>situationsPro</th>\n",
       "    </tr>\n",
       "  </thead>\n",
       "  <tbody>\n",
       "    <tr>\n",
       "      <th>200113</th>\n",
       "      <td>56fd555a91dac855400fd4ab</td>\n",
       "      <td>56fd555a91dac855400fd4ab</td>\n",
       "      <td>[{'_id': ObjectId('56fd555a91dac855400fd4ac'),...</td>\n",
       "    </tr>\n",
       "    <tr>\n",
       "      <th>200114</th>\n",
       "      <td>56fd555a91dac855400fd4a9</td>\n",
       "      <td>56fd555a91dac855400fd4ab</td>\n",
       "      <td>[{'_id': ObjectId('56fd555a91dac855400fd4aa'),...</td>\n",
       "    </tr>\n",
       "  </tbody>\n",
       "</table>\n",
       "</div>"
      ],
      "text/plain": [
       "                             _id             _id_demandeur  \\\n",
       "200113  56fd555a91dac855400fd4ab  56fd555a91dac855400fd4ab   \n",
       "200114  56fd555a91dac855400fd4a9  56fd555a91dac855400fd4ab   \n",
       "\n",
       "                                            situationsPro  \n",
       "200113  [{'_id': ObjectId('56fd555a91dac855400fd4ac'),...  \n",
       "200114  [{'_id': ObjectId('56fd555a91dac855400fd4aa'),...  "
      ]
     },
     "execution_count": 179,
     "metadata": {},
     "output_type": "execute_result"
    }
   ],
   "source": [
    "t_individus[['_id', '_id_demandeur', 'situationsPro']].loc[200113:200114]"
   ]
  },
  {
   "cell_type": "code",
   "execution_count": 22,
   "metadata": {
    "collapsed": false
   },
   "outputs": [],
   "source": [
    "situation_pro = t_individus.situationsPro.apply(lambda x: [] if (pd.isnull(x) or x == '[]') else x)"
   ]
  },
  {
   "cell_type": "code",
   "execution_count": 104,
   "metadata": {
    "collapsed": false
   },
   "outputs": [],
   "source": [
    "situation_pro = [ast.literal_eval(x.replace(\"ObjectId('\", '\\'').replace(\"')\", '\\'')) if type(x) == str else x for x in situation_pro]"
   ]
  },
  {
   "cell_type": "code",
   "execution_count": 105,
   "metadata": {
    "collapsed": false
   },
   "outputs": [],
   "source": [
    "serie = situation_pro\n",
    "k = 0\n",
    "for list_ind in serie:\n",
    "    if len(list_ind) > 0:\n",
    "        for d in list_ind:\n",
    "            d['_id_demandeur'] = t_individus.iloc[k]._id\n",
    "    else:\n",
    "        pass\n",
    "    k += 1"
   ]
  },
  {
   "cell_type": "code",
   "execution_count": 106,
   "metadata": {
    "collapsed": false
   },
   "outputs": [],
   "source": [
    "t_situations_pro = pd.DataFrame(pd.Series(situation_pro).sum())"
   ]
  },
  {
   "cell_type": "code",
   "execution_count": 108,
   "metadata": {
    "collapsed": false
   },
   "outputs": [],
   "source": [
    "t_situations_pro['_id'] = [x.replace(\"ObjectId('\", '').replace(\"')\", '') for x in t_situations_pro._id]"
   ]
  },
  {
   "cell_type": "code",
   "execution_count": 209,
   "metadata": {
    "collapsed": false
   },
   "outputs": [
    {
     "data": {
      "text/html": [
       "<div>\n",
       "<table border=\"1\" class=\"dataframe\">\n",
       "  <thead>\n",
       "    <tr style=\"text-align: right;\">\n",
       "      <th></th>\n",
       "      <th>_id</th>\n",
       "      <th>_id_demandeur</th>\n",
       "      <th>situationsPro</th>\n",
       "    </tr>\n",
       "  </thead>\n",
       "  <tbody>\n",
       "    <tr>\n",
       "      <th>0</th>\n",
       "      <td>5422b60b5be58c0200a07549</td>\n",
       "      <td>5422b60b5be58c0200a07548</td>\n",
       "      <td>demandeur_emploi</td>\n",
       "    </tr>\n",
       "  </tbody>\n",
       "</table>\n",
       "</div>"
      ],
      "text/plain": [
       "                        _id             _id_demandeur     situationsPro\n",
       "0  5422b60b5be58c0200a07549  5422b60b5be58c0200a07548  demandeur_emploi"
      ]
     },
     "execution_count": 209,
     "metadata": {},
     "output_type": "execute_result"
    }
   ],
   "source": [
    "t_situations_pro.columns = ['_id', '_id_demandeur', 'situationsPro']\n",
    "t_situations_pro.head(1)"
   ]
  },
  {
   "cell_type": "code",
   "execution_count": 212,
   "metadata": {
    "collapsed": true
   },
   "outputs": [],
   "source": [
    "del t_individus['situationsPro']"
   ]
  },
  {
   "cell_type": "code",
   "execution_count": 215,
   "metadata": {
    "collapsed": false
   },
   "outputs": [],
   "source": [
    "t_individus = pd.merge(t_individus,\n",
    "                       t_situations_pro[[\"_id_demandeur\", \"situationsPro\"]],\n",
    "                       left_on=\"_id_demandeur\",\n",
    "                       right_on=\"_id_demandeur\")"
   ]
  },
  {
   "cell_type": "code",
   "execution_count": 223,
   "metadata": {
    "collapsed": false
   },
   "outputs": [
    {
     "data": {
      "text/plain": [
       "<matplotlib.text.Text at 0x7fa9137d7ef0>"
      ]
     },
     "execution_count": 223,
     "metadata": {},
     "output_type": "execute_result"
    },
    {
     "data": {
      "image/png": "[encoded data removed]",
      "text/plain": [
       "<matplotlib.figure.Figure at 0x7fa912e7e7f0>"
      ]
     },
     "metadata": {},
     "output_type": "display_data"
    }
   ],
   "source": [
    "t_individus.situationsPro.value_counts().plot(kind='barh', color='orange')\n",
    "plt.title('Situations professionnelles des individus')"
   ]
  },
  {
   "cell_type": "markdown",
   "metadata": {},
   "source": [
    "### Age"
   ]
  },
  {
   "cell_type": "code",
   "execution_count": 225,
   "metadata": {
    "collapsed": false
   },
   "outputs": [
    {
     "data": {
      "text/plain": [
       "0        1989-09-14\n",
       "1        1989-09-14\n",
       "2        1989-09-14\n",
       "3        1989-09-14\n",
       "4        1989-09-14\n",
       "5        1989-09-14\n",
       "6        1989-09-14\n",
       "7        1989-09-14\n",
       "8        1989-09-14\n",
       "9        1987-11-29\n",
       "10       1980-08-12\n",
       "11       1980-08-12\n",
       "12       1989-09-14\n",
       "13       1989-09-14\n",
       "14       1989-09-14\n",
       "15       1989-09-14\n",
       "16       1989-09-14\n",
       "17       1989-09-14\n",
       "18       1940-05-31\n",
       "19       1948-10-09\n",
       "20       1924-04-02\n",
       "21       1973-08-05\n",
       "22       2006-08-12\n",
       "23       1980-08-12\n",
       "24       1970-12-02\n",
       "25       1991-10-22\n",
       "26       1939-08-08\n",
       "27       1939-08-08\n",
       "28       1958-10-11\n",
       "29       1982-01-01\n",
       "            ...    \n",
       "144361   1982-06-18\n",
       "144362   1992-06-12\n",
       "144363   1994-07-06\n",
       "144364   1969-11-20\n",
       "144365   1999-06-01\n",
       "144366   1954-07-21\n",
       "144367   1958-11-28\n",
       "144368   1985-03-22\n",
       "144369   2008-01-25\n",
       "144370   2005-01-15\n",
       "144371   2010-05-09\n",
       "144372   1988-08-23\n",
       "144373   1959-09-27\n",
       "144374   1990-07-10\n",
       "144375   1994-09-30\n",
       "144376   1977-12-17\n",
       "144377   2005-08-08\n",
       "144378   2007-09-15\n",
       "144379   2010-09-17\n",
       "144380   1978-05-08\n",
       "144381   1981-12-31\n",
       "144382   1979-12-28\n",
       "144383   1979-12-28\n",
       "144384   2007-07-11\n",
       "144385   2007-07-11\n",
       "144386   2013-12-31\n",
       "144387   2013-12-31\n",
       "144388   1981-11-06\n",
       "144389   1981-11-06\n",
       "144390   1989-12-30\n",
       "Name: dateDeNaissance, dtype: datetime64[ns]"
      ]
     },
     "execution_count": 225,
     "metadata": {},
     "output_type": "execute_result"
    }
   ],
   "source": [
    "t_individus.dateDeNaissance"
   ]
  },
  {
   "cell_type": "markdown",
   "metadata": {},
   "source": [
    "### Basic stats"
   ]
  },
  {
   "cell_type": "code",
   "execution_count": 74,
   "metadata": {
    "collapsed": false
   },
   "outputs": [
    {
     "data": {
      "text/plain": [
       "[]                                                                                                                                                          28251\n",
       "[{'situation': 'autre', '_id': ObjectId('567ac5c13bab88c24dc09ec4')}]                                                                                           1\n",
       "[{'situation': 'demandeur_emploi', '_id': ObjectId('55bd2c585382d05d729b86c2')}]                                                                                1\n",
       "[{'situation': 'retraite', '_id': ObjectId('55f67466dad6d1151d57841d')}]                                                                                        1\n",
       "[{'situation': 'handicap', '_id': ObjectId('56910f68b450d43f51567dd6')}]                                                                                        1\n",
       "[{'situation': 'demandeur_emploi', '_id': ObjectId('5697b0d432f7d034486c035d')}]                                                                                1\n",
       "[{'situation': 'retraite', '_id': ObjectId('563cc772096a0dac4206b5f6')}]                                                                                        1\n",
       "[{'situation': 'demandeur_emploi', '_id': ObjectId('561ba980c414eef26ed21b8b')}]                                                                                1\n",
       "[{'situation': 'retraite', '_id': ObjectId('55de339ddbf9098059ecf1ab')}]                                                                                        1\n",
       "[{'situation': 'demandeur_emploi', '_id': ObjectId('563c5ca7183dc25a04c0613c')}]                                                                                1\n",
       "[{'situation': 'autre', '_id': ObjectId('56b23fc1020d69ca491ed810')}]                                                                                           1\n",
       "[{'situation': 'demandeur_emploi', '_id': ObjectId('5656205a9e135a1b0291767f')}]                                                                                1\n",
       "[{'situation': 'demandeur_emploi', '_id': ObjectId('56e29944204bc45179380935')}, {'situation': 'autre', '_id': ObjectId('56e29944204bc45179380934')}]           1\n",
       "[{'situation': 'demandeur_emploi', '_id': ObjectId('55f69bf985a3c93740ff0ffc')}]                                                                                1\n",
       "[{'situation': 'demandeur_emploi', '_id': ObjectId('565c8860341ac1012f21fe87')}]                                                                                1\n",
       "[{'situation': 'demandeur_emploi', '_id': ObjectId('560d65fe85b4ccfe6e8c1b02')}]                                                                                1\n",
       "[{'situation': 'etudiant', '_id': ObjectId('56eaaae58d9e09514090c848')}]                                                                                        1\n",
       "[{'situation': 'autre', '_id': ObjectId('56d728a19cd31c3e4513eee5')}]                                                                                           1\n",
       "[{'situation': 'demandeur_emploi', '_id': ObjectId('5639d48dac15d86e04670e01')}]                                                                                1\n",
       "[{'situation': 'demandeur_emploi', '_id': ObjectId('5697e9b1cc232531487f6230')}]                                                                                1\n",
       "[{'situation': 'autre', '_id': ObjectId('5693c1dfb450d43f51568c41')}]                                                                                           1\n",
       "[{'situation': 'autre', '_id': ObjectId('567307463bab88c24dc08794')}]                                                                                           1\n",
       "[{'situation': 'demandeur_emploi', '_id': ObjectId('568c511ea3f83843518d87ce')}]                                                                                1\n",
       "[{'situation': 'etudiant', '_id': ObjectId('553e13a4001d03792d483324')}]                                                                                        1\n",
       "[{'situation': 'demandeur_emploi', '_id': ObjectId('56cc00c5eb538b9119131247')}]                                                                                1\n",
       "[{'situation': 'demandeur_emploi', '_id': ObjectId('55bc9a4d2cdf295972b4ea21')}]                                                                                1\n",
       "[{'situation': 'autre', '_id': ObjectId('56aa1defb5c016f81f863a5a')}]                                                                                           1\n",
       "[{'situation': 'autre', '_id': ObjectId('5696c0369ac6ad3848fedfe5')}]                                                                                           1\n",
       "[{'situation': 'autre', '_id': ObjectId('56954772a3f83843518dc5c5')}]                                                                                           1\n",
       "[{'situation': 'autre', '_id': ObjectId('567e9b95ab9436c74ddaa149')}]                                                                                           1\n",
       "                                                                                                                                                            ...  \n",
       "[{'situation': 'retraite', '_id': ObjectId('55a36dc82a5b3c1b25117842')}]                                                                                        1\n",
       "[{'situation': 'inapte_travail', '_id': ObjectId('551fc692c29acbc423a74d4d')}]                                                                                  1\n",
       "[{'situation': 'demandeur_emploi', '_id': ObjectId('55d8de88886d5ab708b9059c')}, {'situation': 'handicap', '_id': ObjectId('55d8de88886d5ab708b9059b')}]        1\n",
       "[{'situation': 'demandeur_emploi', '_id': ObjectId('5628ea1b2a3fa58c45ffa4ae')}]                                                                                1\n",
       "[{'situation': 'etudiant', '_id': ObjectId('560d94de85b4ccfe6e8c1c03')}]                                                                                        1\n",
       "[{'situation': 'retraite', '_id': ObjectId('55463fd917d9db60391c3d2c')}]                                                                                        1\n",
       "[{'situation': 'retraite', '_id': ObjectId('55cc6143d0eefe327b46efff')}]                                                                                        1\n",
       "[{'situation': 'etudiant', '_id': ObjectId('56d099e6ce84248919974217')}]                                                                                        1\n",
       "[{'situation': 'demandeur_emploi', '_id': ObjectId('560893f285b4ccfe6e8bfd93')}]                                                                                1\n",
       "[{'situation': 'demandeur_emploi', '_id': ObjectId('56af1504f104f7f61f5b2afb')}]                                                                                1\n",
       "[{'situation': 'demandeur_emploi', '_id': ObjectId('55f7eea285a3c93740ff1245')}]                                                                                1\n",
       "[{'situation': 'autre', '_id': ObjectId('56d9a3b4e621614e79c484bb')}]                                                                                           1\n",
       "[{'situation': 'autre', '_id': ObjectId('5633cabd183dc25a04c043b1')}]                                                                                           1\n",
       "[{'situation': 'demandeur_emploi', '_id': ObjectId('556b4e54a38f5d14462ec575')}]                                                                                1\n",
       "[{'situation': 'demandeur_emploi', '_id': ObjectId('55acec6c2a5b3c1b25118735')}]                                                                                1\n",
       "[{'situation': 'demandeur_emploi', '_id': ObjectId('56a15657cd1a28364874887e')}]                                                                                1\n",
       "[{'situation': 'demandeur_emploi', '_id': ObjectId('56ab602ab5c016f81f864148')}, {'situation': 'handicap', '_id': ObjectId('56ab602ab5c016f81f864147')}]        1\n",
       "[{'situation': 'demandeur_emploi', '_id': ObjectId('56cf55b662cb978619eaf269')}]                                                                                1\n",
       "[{'situation': 'demandeur_emploi', '_id': ObjectId('56ab9f7feb6379eb1fe0ce80')}]                                                                                1\n",
       "[{'situation': 'autre', '_id': ObjectId('5632218b7b75b88445da3c7c')}]                                                                                           1\n",
       "[{'situation': 'inapte_travail', '_id': ObjectId('56424a6e54c6b7a542dbcd0f')}]                                                                                  1\n",
       "[{'situation': 'demandeur_emploi', '_id': ObjectId('56f7953b760e614940d12e7e')}]                                                                                1\n",
       "[{'situation': 'demandeur_emploi', '_id': ObjectId('566473325b71d7fb2eaedceb')}]                                                                                1\n",
       "[{'situation': 'demandeur_emploi', '_id': ObjectId('56c7573d65b14a1f42872612')}]                                                                                1\n",
       "[{'situation': 'demandeur_emploi', '_id': ObjectId('56a4f7b99ac6ad3848ff37b8')}]                                                                                1\n",
       "[{'situation': 'demandeur_emploi', '_id': ObjectId('56de107c4853554a7933c74b')}]                                                                                1\n",
       "[{'situation': 'autre', '_id': ObjectId('5614d73971654ff16e9d0f05')}]                                                                                           1\n",
       "[{'situation': 'retraite', '_id': ObjectId('56250621e362b2854555f869')}, {'situation': 'demandeur_emploi', '_id': ObjectId('56250621e362b2854555f868')}]        1\n",
       "[{'situation': 'autre', '_id': ObjectId('5624c05e9506438345b5354a')}]                                                                                           1\n",
       "[{'situation': 'handicap', '_id': ObjectId('5666c8932df624fe2e1d1852')}]                                                                                        1\n",
       "Name: situationsPro, dtype: int64"
      ]
     },
     "execution_count": 74,
     "metadata": {},
     "output_type": "execute_result"
    }
   ],
   "source": [
    "t_individus.situationsPro.value_counts()"
   ]
  }
 ],
 "metadata": {
  "kernelspec": {
   "display_name": "Python 3",
   "language": "python",
   "name": "python3"
  },
  "language_info": {
   "codemirror_mode": {
    "name": "ipython",
    "version": 3
   },
   "file_extension": ".py",
   "mimetype": "text/x-python",
   "name": "python",
   "nbconvert_exporter": "python",
   "pygments_lexer": "ipython3",
   "version": "3.4.3"
  }
 },
 "nbformat": 4,
 "nbformat_minor": 0
}
