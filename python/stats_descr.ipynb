{
 "cells": [
  {
   "cell_type": "code",
   "execution_count": 2,
   "metadata": {
    "collapsed": true
   },
   "outputs": [],
   "source": [
    "import numpy as np\n",
    "import pandas as pd\n",
    "import json\n",
    "import pymongo\n",
    "\n",
    "path = '/media/flo/Stockage/Data/MesAides/tables/'"
   ]
  },
  {
   "cell_type": "code",
   "execution_count": 6,
   "metadata": {
    "collapsed": false
   },
   "outputs": [
    {
     "name": "stderr",
     "output_type": "stream",
     "text": [
      "/usr/local/lib/python3.4/dist-packages/IPython/parallel.py:13: ShimWarning: The `IPython.parallel` package has been deprecated. You should import from ipyparallel instead.\n",
      "  \"You should import from ipyparallel instead.\", ShimWarning)\n"
     ]
    }
   ],
   "source": [
    "%qtconsole\n",
    "%matplotlib inline"
   ]
  },
  {
   "cell_type": "markdown",
   "metadata": {},
   "source": [
    "### Individus"
   ]
  },
  {
   "cell_type": "code",
   "execution_count": 4,
   "metadata": {
    "collapsed": false,
    "scrolled": true
   },
   "outputs": [
    {
     "name": "stderr",
     "output_type": "stream",
     "text": [
      "/usr/local/lib/python3.4/dist-packages/IPython/core/interactiveshell.py:2902: DtypeWarning: Columns (2,9,13,15,16,17,19,20,21,24,27,29,30,31,32,33,35,37,40,42,44,45,46,47,48) have mixed types. Specify dtype option on import or set low_memory=False.\n",
      "  interactivity=interactivity, compiler=compiler, result=result)\n"
     ]
    }
   ],
   "source": [
    "t_individus = pd.read_csv(path + \"individus.csv\")"
   ]
  },
  {
   "cell_type": "code",
   "execution_count": 5,
   "metadata": {
    "collapsed": false
   },
   "outputs": [
    {
     "data": {
      "text/plain": [
       "Unnamed: 0                            0\n",
       "_id                                   0\n",
       "aCharge                           19466\n",
       "assPreconditionRemplie            76804\n",
       "autoEntrepreneurActiviteType      35601\n",
       "autresRevenusTns                 109712\n",
       "autresRevenusTnsActiviteType      35856\n",
       "autresRevenusTnsEmployes         110057\n",
       "boursier                         101547\n",
       "boursierEnseignementSup          110197\n",
       "caAutoEntrepreneur               109667\n",
       "caAutresRevenusTns               109917\n",
       "caMicroEntreprise                109837\n",
       "civilite                         104405\n",
       "dateDeNaissance                       0\n",
       "dateSituationFamiliale           109260\n",
       "demandeurEmploi                  110185\n",
       "departementNaissance             106439\n",
       "enceinte                         105785\n",
       "etudiant                         110197\n",
       "firstName                        105812\n",
       "inscritCaf                       105938\n",
       "interruptedRessources                 1\n",
       "isolementRecent                  100449\n",
       "lastName                         105837\n",
       "microEntrepriseActiviteType       36004\n",
       "nationalite                          41\n",
       "nir                              106350\n",
       "niveauPerteAutonomie             110186\n",
       "nomUsage                         108973\n",
       "numeroAllocataire                108237\n",
       "paysNaissance                    104418\n",
       "perteAutonomie                    47596\n",
       "place                             19466\n",
       "ressources                            0\n",
       "ressourcesApproxAnnuel           109513\n",
       "ressourcesYearlyApproximation     38042\n",
       "retraite                         110196\n",
       "revenusAgricolesTns              110149\n",
       "role                                  0\n",
       "situationsPro                     12597\n",
       "specificSituations                91897\n",
       "statusMarital                    110187\n",
       "statutMarital                     60188\n",
       "tauxIncapacite                   106685\n",
       "tauxInvalidite                   107324\n",
       "tnsActiviteType                  109951\n",
       "tnsStructureType                 109951\n",
       "villeNaissance                   106338\n",
       "dtype: int64"
      ]
     },
     "execution_count": 5,
     "metadata": {},
     "output_type": "execute_result"
    }
   ],
   "source": [
    "plot(t_individus.isnull().sum(), type"
   ]
  }
 ],
 "metadata": {
  "kernelspec": {
   "display_name": "Python 3",
   "language": "python",
   "name": "python3"
  },
  "language_info": {
   "codemirror_mode": {
    "name": "ipython",
    "version": 3
   },
   "file_extension": ".py",
   "mimetype": "text/x-python",
   "name": "python",
   "nbconvert_exporter": "python",
   "pygments_lexer": "ipython3",
   "version": "3.4.3"
  }
 },
 "nbformat": 4,
 "nbformat_minor": 0
}
