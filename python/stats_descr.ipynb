{
 "cells": [
  {
   "cell_type": "code",
   "execution_count": 271,
   "metadata": {
    "collapsed": false
   },
   "outputs": [],
   "source": [
    "import numpy as np\n",
    "import pandas as pd\n",
    "import json\n",
    "import ast\n",
    "import pymongo\n",
    "from matplotlib import pyplot as plt\n",
    "from clean_table import clean_individus, calculate_age, add_id_to_serie\n",
    "path = '/media/flo/Stockage/Data/MesAides/tables/'"
   ]
  },
  {
   "cell_type": "code",
   "execution_count": 272,
   "metadata": {
    "collapsed": false
   },
   "outputs": [],
   "source": [
    "%qtconsole\n",
    "%matplotlib inline"
   ]
  },
  {
   "cell_type": "markdown",
   "metadata": {},
   "source": [
    "# Individus\n",
    "\n",
    "Les individus ne sont pas uniquement des \"demandeurs\", ce sont aussi des enfants & conjoints. En fait, ce sont tous les \"individus\" qui peuvent figurer dans une simulation."
   ]
  },
  {
   "cell_type": "code",
   "execution_count": 469,
   "metadata": {
    "collapsed": false,
    "scrolled": true
   },
   "outputs": [
    {
     "name": "stderr",
     "output_type": "stream",
     "text": [
      "/usr/local/lib/python3.4/dist-packages/IPython/core/interactiveshell.py:3006: DtypeWarning: Columns (3,5,10,14,15,17,18,19,21,24,27,28,31,33,34,35,36,37,39,41,45,46,48,50,51,52,53,54) have mixed types. Specify dtype option on import or set low_memory=False.\n",
      "  if self.run_code(code, result):\n"
     ]
    }
   ],
   "source": [
    "t_individus = clean_individus()"
   ]
  },
  {
   "cell_type": "code",
   "execution_count": 461,
   "metadata": {
    "collapsed": false,
    "scrolled": true
   },
   "outputs": [
    {
     "data": {
      "text/html": [
       "<div>\n",
       "<table border=\"1\" class=\"dataframe\">\n",
       "  <thead>\n",
       "    <tr style=\"text-align: right;\">\n",
       "      <th></th>\n",
       "      <th>_id_individu</th>\n",
       "      <th>_id_demandeur</th>\n",
       "      <th>aCharge</th>\n",
       "      <th>assPreconditionRemplie</th>\n",
       "      <th>autoEntrepreneurActiviteType</th>\n",
       "      <th>autresRevenusTns</th>\n",
       "      <th>autresRevenusTnsActiviteType</th>\n",
       "      <th>autresRevenusTnsEmployes</th>\n",
       "      <th>boursier</th>\n",
       "      <th>boursierEnseignementSup</th>\n",
       "      <th>...</th>\n",
       "      <th>situation</th>\n",
       "      <th>situationsPro</th>\n",
       "      <th>specificSituations</th>\n",
       "      <th>statusMarital</th>\n",
       "      <th>statutMarital</th>\n",
       "      <th>tauxIncapacite</th>\n",
       "      <th>tauxInvalidite</th>\n",
       "      <th>tnsActiviteType</th>\n",
       "      <th>tnsStructureType</th>\n",
       "      <th>villeNaissance</th>\n",
       "    </tr>\n",
       "  </thead>\n",
       "  <tbody>\n",
       "    <tr>\n",
       "      <th>0</th>\n",
       "      <td>53cd46e76e5e3202000f4617</td>\n",
       "      <td>53cd46e76e5e3202000f4616</td>\n",
       "      <td>NaN</td>\n",
       "      <td>NaN</td>\n",
       "      <td>NaN</td>\n",
       "      <td>NaN</td>\n",
       "      <td>NaN</td>\n",
       "      <td>NaN</td>\n",
       "      <td>NaN</td>\n",
       "      <td>NaN</td>\n",
       "      <td>...</td>\n",
       "      <td>NaN</td>\n",
       "      <td>[]</td>\n",
       "      <td>[]</td>\n",
       "      <td>NaN</td>\n",
       "      <td>NaN</td>\n",
       "      <td>NaN</td>\n",
       "      <td>NaN</td>\n",
       "      <td>NaN</td>\n",
       "      <td>NaN</td>\n",
       "      <td>NaN</td>\n",
       "    </tr>\n",
       "  </tbody>\n",
       "</table>\n",
       "<p>1 rows × 54 columns</p>\n",
       "</div>"
      ],
      "text/plain": [
       "               _id_individu             _id_demandeur aCharge  \\\n",
       "0  53cd46e76e5e3202000f4617  53cd46e76e5e3202000f4616     NaN   \n",
       "\n",
       "  assPreconditionRemplie autoEntrepreneurActiviteType  autresRevenusTns  \\\n",
       "0                    NaN                          NaN               NaN   \n",
       "\n",
       "  autresRevenusTnsActiviteType autresRevenusTnsEmployes boursier  \\\n",
       "0                          NaN                      NaN      NaN   \n",
       "\n",
       "  boursierEnseignementSup      ...        situation  situationsPro  \\\n",
       "0                     NaN      ...              NaN             []   \n",
       "\n",
       "   specificSituations statusMarital statutMarital tauxIncapacite  \\\n",
       "0                  []           NaN           NaN            NaN   \n",
       "\n",
       "  tauxInvalidite tnsActiviteType tnsStructureType villeNaissance  \n",
       "0            NaN             NaN              NaN            NaN  \n",
       "\n",
       "[1 rows x 54 columns]"
      ]
     },
     "execution_count": 461,
     "metadata": {},
     "output_type": "execute_result"
    }
   ],
   "source": [
    "t_individus.head(1)"
   ]
  },
  {
   "cell_type": "code",
   "execution_count": 322,
   "metadata": {
    "collapsed": false
   },
   "outputs": [
    {
     "data": {
      "text/plain": [
       "0   1954-09-14\n",
       "1   1984-09-14\n",
       "2   1981-09-14\n",
       "3   1982-09-14\n",
       "4   1989-09-14\n",
       "Name: dateDeNaissance, dtype: datetime64[ns]"
      ]
     },
     "execution_count": 322,
     "metadata": {},
     "output_type": "execute_result"
    }
   ],
   "source": [
    "t_individus.dateDeNaissance.head()"
   ]
  },
  {
   "cell_type": "markdown",
   "metadata": {},
   "source": [
    "### Missing values"
   ]
  },
  {
   "cell_type": "code",
   "execution_count": 283,
   "metadata": {
    "collapsed": false
   },
   "outputs": [],
   "source": [
    "individus_NA = t_individus.isnull().sum().reset_index()\n",
    "individus_NA.columns = ['features', 'na']\n",
    "individus_NA.set_index('features', inplace=True)"
   ]
  },
  {
   "cell_type": "code",
   "execution_count": 284,
   "metadata": {
    "collapsed": false
   },
   "outputs": [
    {
     "data": {
      "text/html": [
       "<div>\n",
       "<table border=\"1\" class=\"dataframe\">\n",
       "  <thead>\n",
       "    <tr style=\"text-align: right;\">\n",
       "      <th></th>\n",
       "      <th>na</th>\n",
       "    </tr>\n",
       "    <tr>\n",
       "      <th>features</th>\n",
       "      <th></th>\n",
       "    </tr>\n",
       "  </thead>\n",
       "  <tbody>\n",
       "    <tr>\n",
       "      <th>_id</th>\n",
       "      <td>0</td>\n",
       "    </tr>\n",
       "    <tr>\n",
       "      <th>_id_demandeur</th>\n",
       "      <td>0</td>\n",
       "    </tr>\n",
       "    <tr>\n",
       "      <th>aCharge</th>\n",
       "      <td>39447</td>\n",
       "    </tr>\n",
       "    <tr>\n",
       "      <th>assPreconditionRemplie</th>\n",
       "      <td>186112</td>\n",
       "    </tr>\n",
       "    <tr>\n",
       "      <th>autoEntrepreneurActiviteType</th>\n",
       "      <td>73300</td>\n",
       "    </tr>\n",
       "  </tbody>\n",
       "</table>\n",
       "</div>"
      ],
      "text/plain": [
       "                                  na\n",
       "features                            \n",
       "_id                                0\n",
       "_id_demandeur                      0\n",
       "aCharge                        39447\n",
       "assPreconditionRemplie        186112\n",
       "autoEntrepreneurActiviteType   73300"
      ]
     },
     "execution_count": 284,
     "metadata": {},
     "output_type": "execute_result"
    }
   ],
   "source": [
    "individus_NA.head(5)"
   ]
  },
  {
   "cell_type": "code",
   "execution_count": 285,
   "metadata": {
    "collapsed": false
   },
   "outputs": [],
   "source": [
    "individus_NA['ratio'] = individus_NA['na'] / len(t_individus)"
   ]
  },
  {
   "cell_type": "code",
   "execution_count": 286,
   "metadata": {
    "collapsed": false
   },
   "outputs": [
    {
     "data": {
      "text/plain": [
       "<matplotlib.text.Text at 0x7fa91edc0c50>"
      ]
     },
     "execution_count": 286,
     "metadata": {},
     "output_type": "execute_result"
    },
    {
     "data": {
      "image/png": "[encoded data removed]",
      "text/plain": [
       "<matplotlib.figure.Figure at 0x7fa909a2b668>"
      ]
     },
     "metadata": {},
     "output_type": "display_data"
    }
   ],
   "source": [
    "individus_NA.sort_values('ratio', ascending='False').plot(y= 'ratio', kind='barh', figsize=(12, 10), color='grey')\n",
    "plt.xlabel('Missing value (%)')"
   ]
  },
  {
   "cell_type": "markdown",
   "metadata": {},
   "source": [
    "### Enfant"
   ]
  },
  {
   "cell_type": "code",
   "execution_count": 287,
   "metadata": {
    "collapsed": false
   },
   "outputs": [],
   "source": [
    "grouped = t_individus.groupby('_id_demandeur')['role']"
   ]
  },
  {
   "cell_type": "code",
   "execution_count": 288,
   "metadata": {
    "collapsed": false
   },
   "outputs": [
    {
     "data": {
      "text/plain": [
       "_id_demandeur             role     \n",
       "53cd46e76e5e3202000f4616  demandeur    1\n",
       "53cd48556e5e3202000f4624  demandeur    1\n",
       "53d0c86489d7bd02003d8457  conjoint     1\n",
       "                          demandeur    1\n",
       "53d0d01889d7bd02003d84a1  enfant       2\n",
       "dtype: int64"
      ]
     },
     "execution_count": 288,
     "metadata": {},
     "output_type": "execute_result"
    }
   ],
   "source": [
    "grouped.value_counts().head()"
   ]
  },
  {
   "cell_type": "code",
   "execution_count": 289,
   "metadata": {
    "collapsed": false
   },
   "outputs": [
    {
     "data": {
      "text/html": [
       "<div>\n",
       "<table border=\"1\" class=\"dataframe\">\n",
       "  <thead>\n",
       "    <tr style=\"text-align: right;\">\n",
       "      <th></th>\n",
       "      <th>_id_demandeur</th>\n",
       "      <th>role</th>\n",
       "      <th>nb</th>\n",
       "    </tr>\n",
       "  </thead>\n",
       "  <tbody>\n",
       "    <tr>\n",
       "      <th>2</th>\n",
       "      <td>53d0c86489d7bd02003d8457</td>\n",
       "      <td>conjoint</td>\n",
       "      <td>1</td>\n",
       "    </tr>\n",
       "    <tr>\n",
       "      <th>4</th>\n",
       "      <td>53d0d01889d7bd02003d84a1</td>\n",
       "      <td>enfant</td>\n",
       "      <td>2</td>\n",
       "    </tr>\n",
       "    <tr>\n",
       "      <th>6</th>\n",
       "      <td>53d0d35089d7bd02003d84a6</td>\n",
       "      <td>enfant</td>\n",
       "      <td>3</td>\n",
       "    </tr>\n",
       "  </tbody>\n",
       "</table>\n",
       "</div>"
      ],
      "text/plain": [
       "              _id_demandeur      role  nb\n",
       "2  53d0c86489d7bd02003d8457  conjoint   1\n",
       "4  53d0d01889d7bd02003d84a1    enfant   2\n",
       "6  53d0d35089d7bd02003d84a6    enfant   3"
      ]
     },
     "execution_count": 289,
     "metadata": {},
     "output_type": "execute_result"
    }
   ],
   "source": [
    "t_role = grouped.value_counts().reset_index()\n",
    "t_role.columns = ['_id_demandeur', 'role', 'nb']\n",
    "t_role = t_role[t_role.role != 'demandeur']\n",
    "t_role.head(3)"
   ]
  },
  {
   "cell_type": "code",
   "execution_count": 290,
   "metadata": {
    "collapsed": false
   },
   "outputs": [
    {
     "data": {
      "text/plain": [
       "<matplotlib.text.Text at 0x7fa91fab5a58>"
      ]
     },
     "execution_count": 290,
     "metadata": {},
     "output_type": "execute_result"
    },
    {
     "data": {
      "image/png": "[encoded data removed]",
      "text/plain": [
       "<matplotlib.figure.Figure at 0x7fa920543358>"
      ]
     },
     "metadata": {},
     "output_type": "display_data"
    }
   ],
   "source": [
    "plt.subplot(111)\n",
    "t_role[t_role.role == 'enfant']['nb'].hist(color='green')\n",
    "plt.title('Nombre d\\'enfants moyen')"
   ]
  },
  {
   "cell_type": "markdown",
   "metadata": {},
   "source": [
    "### Situation pro"
   ]
  },
  {
   "cell_type": "code",
   "execution_count": 470,
   "metadata": {
    "collapsed": false
   },
   "outputs": [
    {
     "data": {
      "text/html": [
       "<div>\n",
       "<table border=\"1\" class=\"dataframe\">\n",
       "  <thead>\n",
       "    <tr style=\"text-align: right;\">\n",
       "      <th></th>\n",
       "      <th>_id_individu</th>\n",
       "      <th>_id_demandeur</th>\n",
       "      <th>situationsPro</th>\n",
       "    </tr>\n",
       "  </thead>\n",
       "  <tbody>\n",
       "    <tr>\n",
       "      <th>200113</th>\n",
       "      <td>56fd555a91dac855400fd4ab</td>\n",
       "      <td>56fd555a91dac855400fd4a5</td>\n",
       "      <td>[{'situation': 'demandeur_emploi', '_id': '56f...</td>\n",
       "    </tr>\n",
       "    <tr>\n",
       "      <th>200114</th>\n",
       "      <td>56fd555a91dac855400fd4a9</td>\n",
       "      <td>56fd555a91dac855400fd4a5</td>\n",
       "      <td>[{'situation': 'autre', '_id': '56fd555a91dac8...</td>\n",
       "    </tr>\n",
       "  </tbody>\n",
       "</table>\n",
       "</div>"
      ],
      "text/plain": [
       "                    _id_individu             _id_demandeur  \\\n",
       "200113  56fd555a91dac855400fd4ab  56fd555a91dac855400fd4a5   \n",
       "200114  56fd555a91dac855400fd4a9  56fd555a91dac855400fd4a5   \n",
       "\n",
       "                                            situationsPro  \n",
       "200113  [{'situation': 'demandeur_emploi', '_id': '56f...  \n",
       "200114  [{'situation': 'autre', '_id': '56fd555a91dac8...  "
      ]
     },
     "execution_count": 470,
     "metadata": {},
     "output_type": "execute_result"
    }
   ],
   "source": [
    "t_individus[['_id_individu', '_id_demandeur', 'situationsPro']].loc[200113:200114]"
   ]
  },
  {
   "cell_type": "code",
   "execution_count": 296,
   "metadata": {
    "collapsed": false
   },
   "outputs": [],
   "source": [
    "serie = situation_pro\n",
    "k = 0\n",
    "for list_ind in serie:\n",
    "    if len(list_ind) > 0:\n",
    "        for d in list_ind:\n",
    "            d['_id'] = t_individus.iloc[k]._id\n",
    "    else:\n",
    "        pass\n",
    "    k += 1"
   ]
  },
  {
   "cell_type": "code",
   "execution_count": 471,
   "metadata": {
    "collapsed": false
   },
   "outputs": [],
   "source": [
    "add_id_to_serie(t_individus, \"situationsPro\", \"_id_individu\", \"_id_individu\")"
   ]
  },
  {
   "cell_type": "code",
   "execution_count": 472,
   "metadata": {
    "collapsed": false
   },
   "outputs": [],
   "source": [
    "t_situations_pro = pd.DataFrame(t_individus.situationsPro.sum())"
   ]
  },
  {
   "cell_type": "code",
   "execution_count": 473,
   "metadata": {
    "collapsed": false
   },
   "outputs": [
    {
     "data": {
      "text/html": [
       "<div>\n",
       "<table border=\"1\" class=\"dataframe\">\n",
       "  <thead>\n",
       "    <tr style=\"text-align: right;\">\n",
       "      <th></th>\n",
       "      <th>_id</th>\n",
       "      <th>_id_individu</th>\n",
       "      <th>situation</th>\n",
       "    </tr>\n",
       "  </thead>\n",
       "  <tbody>\n",
       "    <tr>\n",
       "      <th>0</th>\n",
       "      <td>5422b60b5be58c0200a07549</td>\n",
       "      <td>5422b60b5be58c0200a07548</td>\n",
       "      <td>demandeur_emploi</td>\n",
       "    </tr>\n",
       "  </tbody>\n",
       "</table>\n",
       "</div>"
      ],
      "text/plain": [
       "                        _id              _id_individu         situation\n",
       "0  5422b60b5be58c0200a07549  5422b60b5be58c0200a07548  demandeur_emploi"
      ]
     },
     "execution_count": 473,
     "metadata": {},
     "output_type": "execute_result"
    }
   ],
   "source": [
    "t_situations_pro.head(1)"
   ]
  },
  {
   "cell_type": "code",
   "execution_count": 474,
   "metadata": {
    "collapsed": false
   },
   "outputs": [
    {
     "data": {
      "text/html": [
       "<div>\n",
       "<table border=\"1\" class=\"dataframe\">\n",
       "  <thead>\n",
       "    <tr style=\"text-align: right;\">\n",
       "      <th></th>\n",
       "      <th>_id</th>\n",
       "      <th>_id_individu</th>\n",
       "      <th>situationsPro</th>\n",
       "    </tr>\n",
       "  </thead>\n",
       "  <tbody>\n",
       "    <tr>\n",
       "      <th>0</th>\n",
       "      <td>5422b60b5be58c0200a07549</td>\n",
       "      <td>5422b60b5be58c0200a07548</td>\n",
       "      <td>demandeur_emploi</td>\n",
       "    </tr>\n",
       "  </tbody>\n",
       "</table>\n",
       "</div>"
      ],
      "text/plain": [
       "                        _id              _id_individu     situationsPro\n",
       "0  5422b60b5be58c0200a07549  5422b60b5be58c0200a07548  demandeur_emploi"
      ]
     },
     "execution_count": 474,
     "metadata": {},
     "output_type": "execute_result"
    }
   ],
   "source": [
    "t_situations_pro.columns = ['_id', '_id_individu', 'situationsPro']\n",
    "t_situations_pro.head(1)"
   ]
  },
  {
   "cell_type": "code",
   "execution_count": 475,
   "metadata": {
    "collapsed": true
   },
   "outputs": [],
   "source": [
    "del t_individus['situationsPro']"
   ]
  },
  {
   "cell_type": "code",
   "execution_count": 519,
   "metadata": {
    "collapsed": false
   },
   "outputs": [
    {
     "data": {
      "text/html": [
       "<div>\n",
       "<table border=\"1\" class=\"dataframe\">\n",
       "  <thead>\n",
       "    <tr style=\"text-align: right;\">\n",
       "      <th></th>\n",
       "      <th>_id_individu</th>\n",
       "      <th>_id_demandeur</th>\n",
       "      <th>aCharge</th>\n",
       "      <th>assPreconditionRemplie</th>\n",
       "      <th>autoEntrepreneurActiviteType</th>\n",
       "      <th>autresRevenusTns</th>\n",
       "      <th>autresRevenusTnsActiviteType</th>\n",
       "      <th>autresRevenusTnsEmployes</th>\n",
       "      <th>boursier</th>\n",
       "      <th>boursierEnseignementSup</th>\n",
       "      <th>...</th>\n",
       "      <th>situation</th>\n",
       "      <th>specificSituations</th>\n",
       "      <th>statusMarital</th>\n",
       "      <th>statutMarital</th>\n",
       "      <th>tauxIncapacite</th>\n",
       "      <th>tauxInvalidite</th>\n",
       "      <th>tnsActiviteType</th>\n",
       "      <th>tnsStructureType</th>\n",
       "      <th>villeNaissance</th>\n",
       "      <th>situationsPro</th>\n",
       "    </tr>\n",
       "  </thead>\n",
       "  <tbody>\n",
       "    <tr>\n",
       "      <th>0</th>\n",
       "      <td>53cd46e76e5e3202000f4617</td>\n",
       "      <td>53cd46e76e5e3202000f4616</td>\n",
       "      <td>NaN</td>\n",
       "      <td>NaN</td>\n",
       "      <td>NaN</td>\n",
       "      <td>NaN</td>\n",
       "      <td>NaN</td>\n",
       "      <td>NaN</td>\n",
       "      <td>NaN</td>\n",
       "      <td>NaN</td>\n",
       "      <td>...</td>\n",
       "      <td>NaN</td>\n",
       "      <td>[]</td>\n",
       "      <td>NaN</td>\n",
       "      <td>NaN</td>\n",
       "      <td>NaN</td>\n",
       "      <td>NaN</td>\n",
       "      <td>NaN</td>\n",
       "      <td>NaN</td>\n",
       "      <td>NaN</td>\n",
       "      <td>NaN</td>\n",
       "    </tr>\n",
       "    <tr>\n",
       "      <th>1</th>\n",
       "      <td>53cd48556e5e3202000f4625</td>\n",
       "      <td>53cd48556e5e3202000f4624</td>\n",
       "      <td>NaN</td>\n",
       "      <td>NaN</td>\n",
       "      <td>NaN</td>\n",
       "      <td>NaN</td>\n",
       "      <td>NaN</td>\n",
       "      <td>NaN</td>\n",
       "      <td>NaN</td>\n",
       "      <td>NaN</td>\n",
       "      <td>...</td>\n",
       "      <td>NaN</td>\n",
       "      <td>[]</td>\n",
       "      <td>NaN</td>\n",
       "      <td>NaN</td>\n",
       "      <td>NaN</td>\n",
       "      <td>NaN</td>\n",
       "      <td>NaN</td>\n",
       "      <td>NaN</td>\n",
       "      <td>NaN</td>\n",
       "      <td>NaN</td>\n",
       "    </tr>\n",
       "  </tbody>\n",
       "</table>\n",
       "<p>2 rows × 54 columns</p>\n",
       "</div>"
      ],
      "text/plain": [
       "               _id_individu             _id_demandeur aCharge  \\\n",
       "0  53cd46e76e5e3202000f4617  53cd46e76e5e3202000f4616     NaN   \n",
       "1  53cd48556e5e3202000f4625  53cd48556e5e3202000f4624     NaN   \n",
       "\n",
       "  assPreconditionRemplie autoEntrepreneurActiviteType  autresRevenusTns  \\\n",
       "0                    NaN                          NaN               NaN   \n",
       "1                    NaN                          NaN               NaN   \n",
       "\n",
       "  autresRevenusTnsActiviteType autresRevenusTnsEmployes boursier  \\\n",
       "0                          NaN                      NaN      NaN   \n",
       "1                          NaN                      NaN      NaN   \n",
       "\n",
       "  boursierEnseignementSup      ...       situation  specificSituations  \\\n",
       "0                     NaN      ...             NaN                  []   \n",
       "1                     NaN      ...             NaN                  []   \n",
       "\n",
       "   statusMarital statutMarital tauxIncapacite tauxInvalidite tnsActiviteType  \\\n",
       "0            NaN           NaN            NaN            NaN             NaN   \n",
       "1            NaN           NaN            NaN            NaN             NaN   \n",
       "\n",
       "  tnsStructureType villeNaissance situationsPro  \n",
       "0              NaN            NaN           NaN  \n",
       "1              NaN            NaN           NaN  \n",
       "\n",
       "[2 rows x 54 columns]"
      ]
     },
     "execution_count": 519,
     "metadata": {},
     "output_type": "execute_result"
    }
   ],
   "source": [
    "t_individus = pd.merge(t_individus,\n",
    "                       t_situations_pro[[\"_id_individu\", \"situationsPro\"]],\n",
    "                       on=\"_id_individu\",\n",
    "                       how=\"left\")\n",
    "t_individus.head(2)"
   ]
  },
  {
   "cell_type": "code",
   "execution_count": 520,
   "metadata": {
    "collapsed": false
   },
   "outputs": [
    {
     "data": {
      "text/plain": [
       "<matplotlib.text.Text at 0x7fa87bf142e8>"
      ]
     },
     "execution_count": 520,
     "metadata": {},
     "output_type": "execute_result"
    },
    {
     "data": {
      "image/png": "[encoded data removed]",
      "text/plain": [
       "<matplotlib.figure.Figure at 0x7fa8615e0d30>"
      ]
     },
     "metadata": {},
     "output_type": "display_data"
    }
   ],
   "source": [
    "t_individus.situationsPro.value_counts().plot(kind='barh', color='orange')\n",
    "plt.title('Situations professionnelles des individus')"
   ]
  },
  {
   "cell_type": "markdown",
   "metadata": {},
   "source": [
    "### Age"
   ]
  },
  {
   "cell_type": "code",
   "execution_count": 522,
   "metadata": {
    "collapsed": true
   },
   "outputs": [],
   "source": [
    "from datetime import date\n",
    "\n",
    "def calculate_age(born):\n",
    "    today = date.today()\n",
    "    return today.year - born.year - ((today.month, today.day) < (born.month, born.day))"
   ]
  },
  {
   "cell_type": "code",
   "execution_count": 523,
   "metadata": {
    "collapsed": false
   },
   "outputs": [],
   "source": [
    "t_individus['age'] = t_individus.dateDeNaissance.apply(calculate_age)"
   ]
  },
  {
   "cell_type": "code",
   "execution_count": 524,
   "metadata": {
    "collapsed": false
   },
   "outputs": [
    {
     "data": {
      "text/plain": [
       "<matplotlib.text.Text at 0x7fa889c5bd68>"
      ]
     },
     "execution_count": 524,
     "metadata": {},
     "output_type": "execute_result"
    },
    {
     "data": {
      "image/png": "[encoded data removed]",
      "text/plain": [
       "<matplotlib.figure.Figure at 0x7fa8898025c0>"
      ]
     },
     "metadata": {},
     "output_type": "display_data"
    }
   ],
   "source": [
    "t_individus.age.hist(color='red', bins=60)\n",
    "plt.title('Répartition des ages')"
   ]
  },
  {
   "cell_type": "code",
   "execution_count": 525,
   "metadata": {
    "collapsed": false
   },
   "outputs": [
    {
     "data": {
      "text/html": [
       "<div>\n",
       "<table border=\"1\" class=\"dataframe\">\n",
       "  <thead>\n",
       "    <tr style=\"text-align: right;\">\n",
       "      <th></th>\n",
       "      <th>dateDeNaissance</th>\n",
       "      <th>age</th>\n",
       "      <th>_id_demandeur</th>\n",
       "    </tr>\n",
       "  </thead>\n",
       "  <tbody>\n",
       "    <tr>\n",
       "      <th>3220</th>\n",
       "      <td>2015-08-20</td>\n",
       "      <td>0</td>\n",
       "      <td>54fa2d46e33d9c7979b87724</td>\n",
       "    </tr>\n",
       "    <tr>\n",
       "      <th>4029</th>\n",
       "      <td>2015-10-01</td>\n",
       "      <td>0</td>\n",
       "      <td>54fde69b7f2195de05aaf6a2</td>\n",
       "    </tr>\n",
       "    <tr>\n",
       "      <th>4030</th>\n",
       "      <td>2015-10-01</td>\n",
       "      <td>0</td>\n",
       "      <td>54fde69b7f2195de05aaf6a2</td>\n",
       "    </tr>\n",
       "    <tr>\n",
       "      <th>4610</th>\n",
       "      <td>2015-10-21</td>\n",
       "      <td>0</td>\n",
       "      <td>5501447050a4762d5ab00058</td>\n",
       "    </tr>\n",
       "    <tr>\n",
       "      <th>5749</th>\n",
       "      <td>2015-10-10</td>\n",
       "      <td>0</td>\n",
       "      <td>55059f44ba0c71992f3bf5ee</td>\n",
       "    </tr>\n",
       "  </tbody>\n",
       "</table>\n",
       "</div>"
      ],
      "text/plain": [
       "     dateDeNaissance  age             _id_demandeur\n",
       "3220      2015-08-20    0  54fa2d46e33d9c7979b87724\n",
       "4029      2015-10-01    0  54fde69b7f2195de05aaf6a2\n",
       "4030      2015-10-01    0  54fde69b7f2195de05aaf6a2\n",
       "4610      2015-10-21    0  5501447050a4762d5ab00058\n",
       "5749      2015-10-10    0  55059f44ba0c71992f3bf5ee"
      ]
     },
     "execution_count": 525,
     "metadata": {},
     "output_type": "execute_result"
    }
   ],
   "source": [
    "t_individus[t_individus.age == 0].ix[:, ['dateDeNaissance', 'age', '_id_demandeur']].head(5)"
   ]
  },
  {
   "cell_type": "markdown",
   "metadata": {},
   "source": [
    "### Enfants et Moins de 10 ans\n",
    "\n",
    "Validity check"
   ]
  },
  {
   "cell_type": "code",
   "execution_count": 557,
   "metadata": {
    "collapsed": false
   },
   "outputs": [
    {
     "data": {
      "text/plain": [
       "<matplotlib.text.Text at 0x7fa88081f208>"
      ]
     },
     "execution_count": 557,
     "metadata": {},
     "output_type": "execute_result"
    },
    {
     "data": {
      "image/png": "[encoded data removed]",
      "text/plain": [
       "<matplotlib.figure.Figure at 0x7fa87ec4eb70>"
      ]
     },
     "metadata": {},
     "output_type": "display_data"
    }
   ],
   "source": [
    "plt.figure(figsize=(10, 10))\n",
    "plt.subplot(221)\n",
    "t_individus[t_individus.age < 10].role.value_counts().plot(kind='barh', color='red')\n",
    "plt.title('Répartition des rôles : individus -10 ans')\n",
    "plt.subplot(222)\n",
    "t_individus[t_individus.age < 10].situationsPro.value_counts().plot(kind='barh', color='red')\n",
    "plt.title('Répartition situations professionnelles : individus -10 ans')\n",
    "plt.subplot(223)\n",
    "t_individus[t_individus.role == 'enfant'].situationsPro.value_counts().plot(kind='barh', color='red')\n",
    "plt.title('Répartition situations professionnelles : enfants')\n"
   ]
  },
  {
   "cell_type": "markdown",
   "metadata": {},
   "source": [
    "### Basic stats"
   ]
  },
  {
   "cell_type": "code",
   "execution_count": 265,
   "metadata": {
    "collapsed": false
   },
   "outputs": [
    {
     "data": {
      "text/plain": [
       "Index(['_id', '_id_demandeur', 'aCharge', 'assPreconditionRemplie',\n",
       "       'autoEntrepreneurActiviteType', 'autresRevenusTns',\n",
       "       'autresRevenusTnsActiviteType', 'autresRevenusTnsEmployes', 'boursier',\n",
       "       'boursierEnseignementSup', 'caAutoEntrepreneur', 'caAutresRevenusTns',\n",
       "       'caMicroEntreprise', 'civilite', 'dateArriveeFoyer', 'dateDeNaissance',\n",
       "       'dateSituationFamiliale', 'demandeurEmploi', 'departementNaissance',\n",
       "       'enceinte', 'etudiant', 'firstName', 'gardeAlternee', 'inscritCaf',\n",
       "       'interruptedRessources', 'isolementRecent', 'lastName', 'lienParente',\n",
       "       'microEntrepriseActiviteType', 'nationalite', 'nir',\n",
       "       'niveauPerteAutonomie', 'nomUsage', 'numeroAllocataire',\n",
       "       'paysNaissance', 'perteAutonomie', 'place', 'ressources',\n",
       "       'ressourcesApproxAnnuel', 'ressourcesYearlyApproximation', 'retraite',\n",
       "       'revenusAgricolesTns', 'role', 'scolarite', 'situation',\n",
       "       'specificSituations', 'statusMarital', 'statutMarital',\n",
       "       'tauxIncapacite', 'tauxInvalidite', 'tnsActiviteType',\n",
       "       'tnsStructureType', 'villeNaissance', 'situationsPro', 'age'],\n",
       "      dtype='object')"
      ]
     },
     "execution_count": 265,
     "metadata": {},
     "output_type": "execute_result"
    }
   ],
   "source": [
    "t_individus[t_individus.age < 10].columns t_individus.s"
   ]
  },
  {
   "cell_type": "code",
   "execution_count": null,
   "metadata": {
    "collapsed": true
   },
   "outputs": [],
   "source": []
  }
 ],
 "metadata": {
  "kernelspec": {
   "display_name": "Python 3",
   "language": "python",
   "name": "python3"
  },
  "language_info": {
   "codemirror_mode": {
    "name": "ipython",
    "version": 3
   },
   "file_extension": ".py",
   "mimetype": "text/x-python",
   "name": "python",
   "nbconvert_exporter": "python",
   "pygments_lexer": "ipython3",
   "version": "3.4.3"
  }
 },
 "nbformat": 4,
 "nbformat_minor": 0
}
