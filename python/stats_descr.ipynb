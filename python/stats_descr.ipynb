{
 "cells": [
  {
   "cell_type": "code",
   "execution_count": 271,
   "metadata": {
    "collapsed": false
   },
   "outputs": [],
   "source": [
    "import numpy as np\n",
    "import pandas as pd\n",
    "import json\n",
    "import ast\n",
    "import pymongo\n",
    "from matplotlib import pyplot as plt\n",
    "from clean_table import clean_individus, calculate_age, add_id_to_serie\n",
    "path = '/media/flo/Stockage/Data/MesAides/tables/'"
   ]
  },
  {
   "cell_type": "code",
   "execution_count": 272,
   "metadata": {
    "collapsed": false
   },
   "outputs": [],
   "source": [
    "%qtconsole\n",
    "%matplotlib inline"
   ]
  },
  {
   "cell_type": "markdown",
   "metadata": {},
   "source": [
    "# Individus\n",
    "\n",
    "Les individus ne sont pas uniquement des \"demandeurs\", ce sont aussi des enfants & conjoints. En fait, ce sont tous les \"individus\" qui peuvent figurer dans une simulation."
   ]
  },
  {
   "cell_type": "code",
   "execution_count": 1155,
   "metadata": {
    "collapsed": false,
    "scrolled": true
   },
   "outputs": [
    {
     "name": "stderr",
     "output_type": "stream",
     "text": [
      "/usr/local/lib/python3.4/dist-packages/IPython/core/interactiveshell.py:3006: DtypeWarning: Columns (3,5,10,14,15,17,18,19,21,24,27,28,31,33,34,35,36,37,39,41,45,46,48,50,51,52,53,54) have mixed types. Specify dtype option on import or set low_memory=False.\n",
      "  if self.run_code(code, result):\n"
     ]
    }
   ],
   "source": [
    "t_individus = clean_individus()"
   ]
  },
  {
   "cell_type": "code",
   "execution_count": 1156,
   "metadata": {
    "collapsed": false,
    "scrolled": true
   },
   "outputs": [
    {
     "data": {
      "text/html": [
       "<div>\n",
       "<table border=\"1\" class=\"dataframe\">\n",
       "  <thead>\n",
       "    <tr style=\"text-align: right;\">\n",
       "      <th></th>\n",
       "      <th>_id_individu</th>\n",
       "      <th>_id_demandeur</th>\n",
       "      <th>aCharge</th>\n",
       "      <th>assPreconditionRemplie</th>\n",
       "      <th>autoEntrepreneurActiviteType</th>\n",
       "      <th>autresRevenusTns</th>\n",
       "      <th>autresRevenusTnsActiviteType</th>\n",
       "      <th>autresRevenusTnsEmployes</th>\n",
       "      <th>boursier</th>\n",
       "      <th>boursierEnseignementSup</th>\n",
       "      <th>...</th>\n",
       "      <th>situationsPro</th>\n",
       "      <th>specificSituations</th>\n",
       "      <th>statusMarital</th>\n",
       "      <th>statutMarital</th>\n",
       "      <th>tauxIncapacite</th>\n",
       "      <th>tauxInvalidite</th>\n",
       "      <th>tnsActiviteType</th>\n",
       "      <th>tnsStructureType</th>\n",
       "      <th>villeNaissance</th>\n",
       "      <th>age</th>\n",
       "    </tr>\n",
       "  </thead>\n",
       "  <tbody>\n",
       "    <tr>\n",
       "      <th>0</th>\n",
       "      <td>53cd46e76e5e3202000f4617</td>\n",
       "      <td>53cd46e76e5e3202000f4616</td>\n",
       "      <td>NaN</td>\n",
       "      <td>NaN</td>\n",
       "      <td>NaN</td>\n",
       "      <td>NaN</td>\n",
       "      <td>NaN</td>\n",
       "      <td>NaN</td>\n",
       "      <td>NaN</td>\n",
       "      <td>NaN</td>\n",
       "      <td>...</td>\n",
       "      <td>[]</td>\n",
       "      <td>[]</td>\n",
       "      <td>NaN</td>\n",
       "      <td>NaN</td>\n",
       "      <td>NaN</td>\n",
       "      <td>NaN</td>\n",
       "      <td>NaN</td>\n",
       "      <td>NaN</td>\n",
       "      <td>NaN</td>\n",
       "      <td>61</td>\n",
       "    </tr>\n",
       "  </tbody>\n",
       "</table>\n",
       "<p>1 rows × 55 columns</p>\n",
       "</div>"
      ],
      "text/plain": [
       "               _id_individu             _id_demandeur aCharge  \\\n",
       "0  53cd46e76e5e3202000f4617  53cd46e76e5e3202000f4616     NaN   \n",
       "\n",
       "  assPreconditionRemplie autoEntrepreneurActiviteType  autresRevenusTns  \\\n",
       "0                    NaN                          NaN               NaN   \n",
       "\n",
       "  autresRevenusTnsActiviteType autresRevenusTnsEmployes boursier  \\\n",
       "0                          NaN                      NaN      NaN   \n",
       "\n",
       "  boursierEnseignementSup ...  situationsPro  specificSituations  \\\n",
       "0                     NaN ...             []                  []   \n",
       "\n",
       "   statusMarital statutMarital tauxIncapacite tauxInvalidite tnsActiviteType  \\\n",
       "0            NaN           NaN            NaN            NaN             NaN   \n",
       "\n",
       "  tnsStructureType villeNaissance age  \n",
       "0              NaN            NaN  61  \n",
       "\n",
       "[1 rows x 55 columns]"
      ]
     },
     "execution_count": 1156,
     "metadata": {},
     "output_type": "execute_result"
    }
   ],
   "source": [
    "t_individus.head(1)"
   ]
  },
  {
   "cell_type": "code",
   "execution_count": 322,
   "metadata": {
    "collapsed": false
   },
   "outputs": [
    {
     "data": {
      "text/plain": [
       "0   1954-09-14\n",
       "1   1984-09-14\n",
       "2   1981-09-14\n",
       "3   1982-09-14\n",
       "4   1989-09-14\n",
       "Name: dateDeNaissance, dtype: datetime64[ns]"
      ]
     },
     "execution_count": 322,
     "metadata": {},
     "output_type": "execute_result"
    }
   ],
   "source": [
    "t_individus.dateDeNaissance.head()"
   ]
  },
  {
   "cell_type": "markdown",
   "metadata": {},
   "source": [
    "### Missing values"
   ]
  },
  {
   "cell_type": "code",
   "execution_count": 283,
   "metadata": {
    "collapsed": false
   },
   "outputs": [],
   "source": [
    "individus_NA = t_individus.isnull().sum().reset_index()\n",
    "individus_NA.columns = ['features', 'na']\n",
    "individus_NA.set_index('features', inplace=True)"
   ]
  },
  {
   "cell_type": "code",
   "execution_count": 284,
   "metadata": {
    "collapsed": false
   },
   "outputs": [
    {
     "data": {
      "text/html": [
       "<div>\n",
       "<table border=\"1\" class=\"dataframe\">\n",
       "  <thead>\n",
       "    <tr style=\"text-align: right;\">\n",
       "      <th></th>\n",
       "      <th>na</th>\n",
       "    </tr>\n",
       "    <tr>\n",
       "      <th>features</th>\n",
       "      <th></th>\n",
       "    </tr>\n",
       "  </thead>\n",
       "  <tbody>\n",
       "    <tr>\n",
       "      <th>_id</th>\n",
       "      <td>0</td>\n",
       "    </tr>\n",
       "    <tr>\n",
       "      <th>_id_demandeur</th>\n",
       "      <td>0</td>\n",
       "    </tr>\n",
       "    <tr>\n",
       "      <th>aCharge</th>\n",
       "      <td>39447</td>\n",
       "    </tr>\n",
       "    <tr>\n",
       "      <th>assPreconditionRemplie</th>\n",
       "      <td>186112</td>\n",
       "    </tr>\n",
       "    <tr>\n",
       "      <th>autoEntrepreneurActiviteType</th>\n",
       "      <td>73300</td>\n",
       "    </tr>\n",
       "  </tbody>\n",
       "</table>\n",
       "</div>"
      ],
      "text/plain": [
       "                                  na\n",
       "features                            \n",
       "_id                                0\n",
       "_id_demandeur                      0\n",
       "aCharge                        39447\n",
       "assPreconditionRemplie        186112\n",
       "autoEntrepreneurActiviteType   73300"
      ]
     },
     "execution_count": 284,
     "metadata": {},
     "output_type": "execute_result"
    }
   ],
   "source": [
    "individus_NA.head(5)"
   ]
  },
  {
   "cell_type": "code",
   "execution_count": 285,
   "metadata": {
    "collapsed": false
   },
   "outputs": [],
   "source": [
    "individus_NA['ratio'] = individus_NA['na'] / len(t_individus)"
   ]
  },
  {
   "cell_type": "code",
   "execution_count": 286,
   "metadata": {
    "collapsed": false
   },
   "outputs": [
    {
     "data": {
      "text/plain": [
       "<matplotlib.text.Text at 0x7fa91edc0c50>"
      ]
     },
     "execution_count": 286,
     "metadata": {},
     "output_type": "execute_result"
    },
    {
     "data": {
      "image/png": "[encoded data removed]",
      "text/plain": [
       "<matplotlib.figure.Figure at 0x7fa909a2b668>"
      ]
     },
     "metadata": {},
     "output_type": "display_data"
    }
   ],
   "source": [
    "individus_NA.sort_values('ratio', ascending='False').plot(y= 'ratio', kind='barh', figsize=(12, 10), color='grey')\n",
    "plt.xlabel('Missing value (%)')"
   ]
  },
  {
   "cell_type": "markdown",
   "metadata": {},
   "source": [
    "### Enfant"
   ]
  },
  {
   "cell_type": "code",
   "execution_count": 287,
   "metadata": {
    "collapsed": false
   },
   "outputs": [],
   "source": [
    "grouped = t_individus.groupby('_id_demandeur')['role']"
   ]
  },
  {
   "cell_type": "code",
   "execution_count": 288,
   "metadata": {
    "collapsed": false
   },
   "outputs": [
    {
     "data": {
      "text/plain": [
       "_id_demandeur             role     \n",
       "53cd46e76e5e3202000f4616  demandeur    1\n",
       "53cd48556e5e3202000f4624  demandeur    1\n",
       "53d0c86489d7bd02003d8457  conjoint     1\n",
       "                          demandeur    1\n",
       "53d0d01889d7bd02003d84a1  enfant       2\n",
       "dtype: int64"
      ]
     },
     "execution_count": 288,
     "metadata": {},
     "output_type": "execute_result"
    }
   ],
   "source": [
    "grouped.value_counts().head()"
   ]
  },
  {
   "cell_type": "code",
   "execution_count": 289,
   "metadata": {
    "collapsed": false
   },
   "outputs": [
    {
     "data": {
      "text/html": [
       "<div>\n",
       "<table border=\"1\" class=\"dataframe\">\n",
       "  <thead>\n",
       "    <tr style=\"text-align: right;\">\n",
       "      <th></th>\n",
       "      <th>_id_demandeur</th>\n",
       "      <th>role</th>\n",
       "      <th>nb</th>\n",
       "    </tr>\n",
       "  </thead>\n",
       "  <tbody>\n",
       "    <tr>\n",
       "      <th>2</th>\n",
       "      <td>53d0c86489d7bd02003d8457</td>\n",
       "      <td>conjoint</td>\n",
       "      <td>1</td>\n",
       "    </tr>\n",
       "    <tr>\n",
       "      <th>4</th>\n",
       "      <td>53d0d01889d7bd02003d84a1</td>\n",
       "      <td>enfant</td>\n",
       "      <td>2</td>\n",
       "    </tr>\n",
       "    <tr>\n",
       "      <th>6</th>\n",
       "      <td>53d0d35089d7bd02003d84a6</td>\n",
       "      <td>enfant</td>\n",
       "      <td>3</td>\n",
       "    </tr>\n",
       "  </tbody>\n",
       "</table>\n",
       "</div>"
      ],
      "text/plain": [
       "              _id_demandeur      role  nb\n",
       "2  53d0c86489d7bd02003d8457  conjoint   1\n",
       "4  53d0d01889d7bd02003d84a1    enfant   2\n",
       "6  53d0d35089d7bd02003d84a6    enfant   3"
      ]
     },
     "execution_count": 289,
     "metadata": {},
     "output_type": "execute_result"
    }
   ],
   "source": [
    "t_role = grouped.value_counts().reset_index()\n",
    "t_role.columns = ['_id_demandeur', 'role', 'nb']\n",
    "t_role = t_role[t_role.role != 'demandeur']\n",
    "t_role.head(3)"
   ]
  },
  {
   "cell_type": "code",
   "execution_count": 290,
   "metadata": {
    "collapsed": false
   },
   "outputs": [
    {
     "data": {
      "text/plain": [
       "<matplotlib.text.Text at 0x7fa91fab5a58>"
      ]
     },
     "execution_count": 290,
     "metadata": {},
     "output_type": "execute_result"
    },
    {
     "data": {
      "image/png": "[encoded data removed]",
      "text/plain": [
       "<matplotlib.figure.Figure at 0x7fa920543358>"
      ]
     },
     "metadata": {},
     "output_type": "display_data"
    }
   ],
   "source": [
    "plt.subplot(111)\n",
    "t_role[t_role.role == 'enfant']['nb'].hist(color='green')\n",
    "plt.title('Nombre d\\'enfants moyen')"
   ]
  },
  {
   "cell_type": "markdown",
   "metadata": {},
   "source": [
    "### Situation pro"
   ]
  },
  {
   "cell_type": "code",
   "execution_count": 470,
   "metadata": {
    "collapsed": false
   },
   "outputs": [
    {
     "data": {
      "text/html": [
       "<div>\n",
       "<table border=\"1\" class=\"dataframe\">\n",
       "  <thead>\n",
       "    <tr style=\"text-align: right;\">\n",
       "      <th></th>\n",
       "      <th>_id_individu</th>\n",
       "      <th>_id_demandeur</th>\n",
       "      <th>situationsPro</th>\n",
       "    </tr>\n",
       "  </thead>\n",
       "  <tbody>\n",
       "    <tr>\n",
       "      <th>200113</th>\n",
       "      <td>56fd555a91dac855400fd4ab</td>\n",
       "      <td>56fd555a91dac855400fd4a5</td>\n",
       "      <td>[{'situation': 'demandeur_emploi', '_id': '56f...</td>\n",
       "    </tr>\n",
       "    <tr>\n",
       "      <th>200114</th>\n",
       "      <td>56fd555a91dac855400fd4a9</td>\n",
       "      <td>56fd555a91dac855400fd4a5</td>\n",
       "      <td>[{'situation': 'autre', '_id': '56fd555a91dac8...</td>\n",
       "    </tr>\n",
       "  </tbody>\n",
       "</table>\n",
       "</div>"
      ],
      "text/plain": [
       "                    _id_individu             _id_demandeur  \\\n",
       "200113  56fd555a91dac855400fd4ab  56fd555a91dac855400fd4a5   \n",
       "200114  56fd555a91dac855400fd4a9  56fd555a91dac855400fd4a5   \n",
       "\n",
       "                                            situationsPro  \n",
       "200113  [{'situation': 'demandeur_emploi', '_id': '56f...  \n",
       "200114  [{'situation': 'autre', '_id': '56fd555a91dac8...  "
      ]
     },
     "execution_count": 470,
     "metadata": {},
     "output_type": "execute_result"
    }
   ],
   "source": [
    "t_individus[['_id_individu', '_id_demandeur', 'situationsPro']].loc[200113:200114]"
   ]
  },
  {
   "cell_type": "code",
   "execution_count": 296,
   "metadata": {
    "collapsed": false
   },
   "outputs": [],
   "source": [
    "serie = situation_pro\n",
    "k = 0\n",
    "for list_ind in serie:\n",
    "    if len(list_ind) > 0:\n",
    "        for d in list_ind:\n",
    "            d['_id'] = t_individus.iloc[k]._id\n",
    "    else:\n",
    "        pass\n",
    "    k += 1"
   ]
  },
  {
   "cell_type": "code",
   "execution_count": 471,
   "metadata": {
    "collapsed": false
   },
   "outputs": [],
   "source": [
    "add_id_to_serie(t_individus, \"situationsPro\", \"_id_individu\", \"_id_individu\")"
   ]
  },
  {
   "cell_type": "code",
   "execution_count": 472,
   "metadata": {
    "collapsed": false
   },
   "outputs": [],
   "source": [
    "t_situations_pro = pd.DataFrame(t_individus.situationsPro.sum())"
   ]
  },
  {
   "cell_type": "code",
   "execution_count": 473,
   "metadata": {
    "collapsed": false
   },
   "outputs": [
    {
     "data": {
      "text/html": [
       "<div>\n",
       "<table border=\"1\" class=\"dataframe\">\n",
       "  <thead>\n",
       "    <tr style=\"text-align: right;\">\n",
       "      <th></th>\n",
       "      <th>_id</th>\n",
       "      <th>_id_individu</th>\n",
       "      <th>situation</th>\n",
       "    </tr>\n",
       "  </thead>\n",
       "  <tbody>\n",
       "    <tr>\n",
       "      <th>0</th>\n",
       "      <td>5422b60b5be58c0200a07549</td>\n",
       "      <td>5422b60b5be58c0200a07548</td>\n",
       "      <td>demandeur_emploi</td>\n",
       "    </tr>\n",
       "  </tbody>\n",
       "</table>\n",
       "</div>"
      ],
      "text/plain": [
       "                        _id              _id_individu         situation\n",
       "0  5422b60b5be58c0200a07549  5422b60b5be58c0200a07548  demandeur_emploi"
      ]
     },
     "execution_count": 473,
     "metadata": {},
     "output_type": "execute_result"
    }
   ],
   "source": [
    "t_situations_pro.head(1)"
   ]
  },
  {
   "cell_type": "code",
   "execution_count": 474,
   "metadata": {
    "collapsed": false
   },
   "outputs": [
    {
     "data": {
      "text/html": [
       "<div>\n",
       "<table border=\"1\" class=\"dataframe\">\n",
       "  <thead>\n",
       "    <tr style=\"text-align: right;\">\n",
       "      <th></th>\n",
       "      <th>_id</th>\n",
       "      <th>_id_individu</th>\n",
       "      <th>situationsPro</th>\n",
       "    </tr>\n",
       "  </thead>\n",
       "  <tbody>\n",
       "    <tr>\n",
       "      <th>0</th>\n",
       "      <td>5422b60b5be58c0200a07549</td>\n",
       "      <td>5422b60b5be58c0200a07548</td>\n",
       "      <td>demandeur_emploi</td>\n",
       "    </tr>\n",
       "  </tbody>\n",
       "</table>\n",
       "</div>"
      ],
      "text/plain": [
       "                        _id              _id_individu     situationsPro\n",
       "0  5422b60b5be58c0200a07549  5422b60b5be58c0200a07548  demandeur_emploi"
      ]
     },
     "execution_count": 474,
     "metadata": {},
     "output_type": "execute_result"
    }
   ],
   "source": [
    "t_situations_pro.columns = ['_id', '_id_individu', 'situationsPro']\n",
    "t_situations_pro.head(1)"
   ]
  },
  {
   "cell_type": "code",
   "execution_count": 1158,
   "metadata": {
    "collapsed": false
   },
   "outputs": [
    {
     "data": {
      "text/html": [
       "<div>\n",
       "<table border=\"1\" class=\"dataframe\">\n",
       "  <thead>\n",
       "    <tr style=\"text-align: right;\">\n",
       "      <th></th>\n",
       "      <th>_id_individu</th>\n",
       "      <th>_id_demandeur</th>\n",
       "      <th>aCharge</th>\n",
       "      <th>assPreconditionRemplie</th>\n",
       "      <th>autoEntrepreneurActiviteType</th>\n",
       "      <th>autresRevenusTns</th>\n",
       "      <th>autresRevenusTnsActiviteType</th>\n",
       "      <th>autresRevenusTnsEmployes</th>\n",
       "      <th>boursier</th>\n",
       "      <th>boursierEnseignementSup</th>\n",
       "      <th>...</th>\n",
       "      <th>specificSituations</th>\n",
       "      <th>statusMarital</th>\n",
       "      <th>statutMarital</th>\n",
       "      <th>tauxIncapacite</th>\n",
       "      <th>tauxInvalidite</th>\n",
       "      <th>tnsActiviteType</th>\n",
       "      <th>tnsStructureType</th>\n",
       "      <th>villeNaissance</th>\n",
       "      <th>age</th>\n",
       "      <th>situationsPro</th>\n",
       "    </tr>\n",
       "  </thead>\n",
       "  <tbody>\n",
       "    <tr>\n",
       "      <th>0</th>\n",
       "      <td>53cd46e76e5e3202000f4617</td>\n",
       "      <td>53cd46e76e5e3202000f4616</td>\n",
       "      <td>NaN</td>\n",
       "      <td>NaN</td>\n",
       "      <td>NaN</td>\n",
       "      <td>NaN</td>\n",
       "      <td>NaN</td>\n",
       "      <td>NaN</td>\n",
       "      <td>NaN</td>\n",
       "      <td>NaN</td>\n",
       "      <td>...</td>\n",
       "      <td>[]</td>\n",
       "      <td>NaN</td>\n",
       "      <td>NaN</td>\n",
       "      <td>NaN</td>\n",
       "      <td>NaN</td>\n",
       "      <td>NaN</td>\n",
       "      <td>NaN</td>\n",
       "      <td>NaN</td>\n",
       "      <td>61</td>\n",
       "      <td>NaN</td>\n",
       "    </tr>\n",
       "    <tr>\n",
       "      <th>1</th>\n",
       "      <td>53cd48556e5e3202000f4625</td>\n",
       "      <td>53cd48556e5e3202000f4624</td>\n",
       "      <td>NaN</td>\n",
       "      <td>NaN</td>\n",
       "      <td>NaN</td>\n",
       "      <td>NaN</td>\n",
       "      <td>NaN</td>\n",
       "      <td>NaN</td>\n",
       "      <td>NaN</td>\n",
       "      <td>NaN</td>\n",
       "      <td>...</td>\n",
       "      <td>[]</td>\n",
       "      <td>NaN</td>\n",
       "      <td>NaN</td>\n",
       "      <td>NaN</td>\n",
       "      <td>NaN</td>\n",
       "      <td>NaN</td>\n",
       "      <td>NaN</td>\n",
       "      <td>NaN</td>\n",
       "      <td>31</td>\n",
       "      <td>NaN</td>\n",
       "    </tr>\n",
       "  </tbody>\n",
       "</table>\n",
       "<p>2 rows × 55 columns</p>\n",
       "</div>"
      ],
      "text/plain": [
       "               _id_individu             _id_demandeur aCharge  \\\n",
       "0  53cd46e76e5e3202000f4617  53cd46e76e5e3202000f4616     NaN   \n",
       "1  53cd48556e5e3202000f4625  53cd48556e5e3202000f4624     NaN   \n",
       "\n",
       "  assPreconditionRemplie autoEntrepreneurActiviteType  autresRevenusTns  \\\n",
       "0                    NaN                          NaN               NaN   \n",
       "1                    NaN                          NaN               NaN   \n",
       "\n",
       "  autresRevenusTnsActiviteType autresRevenusTnsEmployes boursier  \\\n",
       "0                          NaN                      NaN      NaN   \n",
       "1                          NaN                      NaN      NaN   \n",
       "\n",
       "  boursierEnseignementSup      ...       specificSituations  statusMarital  \\\n",
       "0                     NaN      ...                       []            NaN   \n",
       "1                     NaN      ...                       []            NaN   \n",
       "\n",
       "   statutMarital tauxIncapacite tauxInvalidite tnsActiviteType  \\\n",
       "0            NaN            NaN            NaN             NaN   \n",
       "1            NaN            NaN            NaN             NaN   \n",
       "\n",
       "  tnsStructureType villeNaissance age situationsPro  \n",
       "0              NaN            NaN  61           NaN  \n",
       "1              NaN            NaN  31           NaN  \n",
       "\n",
       "[2 rows x 55 columns]"
      ]
     },
     "execution_count": 1158,
     "metadata": {},
     "output_type": "execute_result"
    }
   ],
   "source": [
    "del t_individus['situationsPro']\n",
    "t_individus = pd.merge(t_individus,\n",
    "                       t_situations_pro[[\"_id_individu\", \"situationsPro\"]],\n",
    "                       on=\"_id_individu\",\n",
    "                       how=\"left\")\n",
    "t_individus.head(2)"
   ]
  },
  {
   "cell_type": "code",
   "execution_count": 520,
   "metadata": {
    "collapsed": false
   },
   "outputs": [
    {
     "data": {
      "text/plain": [
       "<matplotlib.text.Text at 0x7fa87bf142e8>"
      ]
     },
     "execution_count": 520,
     "metadata": {},
     "output_type": "execute_result"
    },
    {
     "data": {
      "image/png": "[encoded data removed]",
      "text/plain": [
       "<matplotlib.figure.Figure at 0x7fa8615e0d30>"
      ]
     },
     "metadata": {},
     "output_type": "display_data"
    }
   ],
   "source": [
    "t_individus.situationsPro.value_counts().plot(kind='barh', color='orange')\n",
    "plt.title('Situations professionnelles des individus')"
   ]
  },
  {
   "cell_type": "markdown",
   "metadata": {},
   "source": [
    "### Age"
   ]
  },
  {
   "cell_type": "markdown",
   "metadata": {},
   "source": [
    "#### Age = 0 "
   ]
  },
  {
   "cell_type": "code",
   "execution_count": 525,
   "metadata": {
    "collapsed": false
   },
   "outputs": [
    {
     "data": {
      "text/html": [
       "<div>\n",
       "<table border=\"1\" class=\"dataframe\">\n",
       "  <thead>\n",
       "    <tr style=\"text-align: right;\">\n",
       "      <th></th>\n",
       "      <th>dateDeNaissance</th>\n",
       "      <th>age</th>\n",
       "      <th>_id_demandeur</th>\n",
       "    </tr>\n",
       "  </thead>\n",
       "  <tbody>\n",
       "    <tr>\n",
       "      <th>3220</th>\n",
       "      <td>2015-08-20</td>\n",
       "      <td>0</td>\n",
       "      <td>54fa2d46e33d9c7979b87724</td>\n",
       "    </tr>\n",
       "    <tr>\n",
       "      <th>4029</th>\n",
       "      <td>2015-10-01</td>\n",
       "      <td>0</td>\n",
       "      <td>54fde69b7f2195de05aaf6a2</td>\n",
       "    </tr>\n",
       "    <tr>\n",
       "      <th>4030</th>\n",
       "      <td>2015-10-01</td>\n",
       "      <td>0</td>\n",
       "      <td>54fde69b7f2195de05aaf6a2</td>\n",
       "    </tr>\n",
       "    <tr>\n",
       "      <th>4610</th>\n",
       "      <td>2015-10-21</td>\n",
       "      <td>0</td>\n",
       "      <td>5501447050a4762d5ab00058</td>\n",
       "    </tr>\n",
       "    <tr>\n",
       "      <th>5749</th>\n",
       "      <td>2015-10-10</td>\n",
       "      <td>0</td>\n",
       "      <td>55059f44ba0c71992f3bf5ee</td>\n",
       "    </tr>\n",
       "  </tbody>\n",
       "</table>\n",
       "</div>"
      ],
      "text/plain": [
       "     dateDeNaissance  age             _id_demandeur\n",
       "3220      2015-08-20    0  54fa2d46e33d9c7979b87724\n",
       "4029      2015-10-01    0  54fde69b7f2195de05aaf6a2\n",
       "4030      2015-10-01    0  54fde69b7f2195de05aaf6a2\n",
       "4610      2015-10-21    0  5501447050a4762d5ab00058\n",
       "5749      2015-10-10    0  55059f44ba0c71992f3bf5ee"
      ]
     },
     "execution_count": 525,
     "metadata": {},
     "output_type": "execute_result"
    }
   ],
   "source": [
    "t_individus[t_individus.age == 0].ix[:, ['dateDeNaissance', 'age', '_id_demandeur']].head(5)"
   ]
  },
  {
   "cell_type": "markdown",
   "metadata": {},
   "source": [
    "#### Age > 120 "
   ]
  },
  {
   "cell_type": "code",
   "execution_count": 604,
   "metadata": {
    "collapsed": false
   },
   "outputs": [
    {
     "data": {
      "text/plain": [
       "28"
      ]
     },
     "execution_count": 604,
     "metadata": {},
     "output_type": "execute_result"
    }
   ],
   "source": [
    "# Nombre d'individus avec age > 120\n",
    "t_individus[t_individus.age > 120].age.count()"
   ]
  },
  {
   "cell_type": "code",
   "execution_count": 609,
   "metadata": {
    "collapsed": false
   },
   "outputs": [
    {
     "data": {
      "text/plain": [
       "4845      326\n",
       "18967     325\n",
       "12921     319\n",
       "16033     223\n",
       "9537      217\n",
       "14164     161\n",
       "5626      150\n",
       "12085     146\n",
       "8938      144\n",
       "8941      144\n",
       "13515     131\n",
       "197938    130\n",
       "221100    130\n",
       "201157    128\n",
       "111247    128\n",
       "94803     128\n",
       "230156    127\n",
       "69989     126\n",
       "113980    126\n",
       "161959    126\n",
       "18521     125\n",
       "213699    124\n",
       "46080     124\n",
       "60110     123\n",
       "174038    123\n",
       "110254    121\n",
       "157034    121\n",
       "7305      121\n",
       "Name: age, dtype: float64"
      ]
     },
     "execution_count": 609,
     "metadata": {},
     "output_type": "execute_result"
    }
   ],
   "source": [
    "# Les individus avec age > 120\n",
    "t_individus[t_individus.age > 120].age.sort_values(ascending=False)"
   ]
  },
  {
   "cell_type": "markdown",
   "metadata": {},
   "source": [
    "#### Filtre sur l'age"
   ]
  },
  {
   "cell_type": "code",
   "execution_count": 1159,
   "metadata": {
    "collapsed": false
   },
   "outputs": [],
   "source": [
    "# -- On les enlèvve\n",
    "t_individus = t_individus.loc[(t_individus.age > 0) & (t_individus.age < 120)]"
   ]
  },
  {
   "cell_type": "markdown",
   "metadata": {},
   "source": [
    "#### Répartition"
   ]
  },
  {
   "cell_type": "code",
   "execution_count": 622,
   "metadata": {
    "collapsed": false
   },
   "outputs": [
    {
     "data": {
      "text/plain": [
       "<matplotlib.text.Text at 0x7fa87f214cf8>"
      ]
     },
     "execution_count": 622,
     "metadata": {},
     "output_type": "execute_result"
    },
    {
     "data": {
      "image/png": "[encoded data removed]",
      "text/plain": [
       "<matplotlib.figure.Figure at 0x7fa87f243c88>"
      ]
     },
     "metadata": {},
     "output_type": "display_data"
    }
   ],
   "source": [
    "t_individus.age.hist(color='red', bins=60)\n",
    "plt.title('Répartition des ages')"
   ]
  },
  {
   "cell_type": "code",
   "execution_count": 623,
   "metadata": {
    "collapsed": false
   },
   "outputs": [
    {
     "data": {
      "text/plain": [
       "<matplotlib.text.Text at 0x7fa8678cf860>"
      ]
     },
     "execution_count": 623,
     "metadata": {},
     "output_type": "execute_result"
    },
    {
     "data": {
      "image/png": "[encoded data removed]",
      "text/plain": [
       "<matplotlib.figure.Figure at 0x7fa87f23ce10>"
      ]
     },
     "metadata": {},
     "output_type": "display_data"
    }
   ],
   "source": [
    "plt.figure(figsize=(14, 14))\n",
    "plt.subplot(321)\n",
    "t_individus[t_individus.situationsPro == 'etudiant'].age.hist(color='red', bins=60)\n",
    "plt.title('Répartition des ages: étudiants')\n",
    "plt.subplot(322)\n",
    "t_individus[t_individus.situationsPro == 'demandeur_emploi'].age.hist(color='red', bins=60)\n",
    "plt.title('Répartition des ages: demandeur_emploi')\n",
    "plt.subplot(323)\n",
    "t_individus[t_individus.situationsPro == 'retraite'].age.hist(color='red', bins=60)\n",
    "plt.title('Répartition des ages: retraite')\n",
    "plt.subplot(324)\n",
    "t_individus[t_individus.situationsPro == 'handicap'].age.hist(color='red', bins=60)\n",
    "plt.title('Répartition des ages: handicap')\n",
    "plt.subplot(325)\n",
    "t_individus[t_individus.situationsPro == 'inapte_travail'].age.hist(color='red', bins=60)\n",
    "plt.title('Répartition des ages: inapte_travail')"
   ]
  },
  {
   "cell_type": "code",
   "execution_count": 600,
   "metadata": {
    "collapsed": false
   },
   "outputs": [
    {
     "data": {
      "text/plain": [
       "(0, 100)"
      ]
     },
     "execution_count": 600,
     "metadata": {},
     "output_type": "execute_result"
    },
    {
     "data": {
      "image/png": "[encoded data removed]",
      "text/plain": [
       "<matplotlib.figure.Figure at 0x7fa867feb0f0>"
      ]
     },
     "metadata": {},
     "output_type": "display_data"
    }
   ],
   "source": [
    "from matplotlib import gridspec\n",
    "plt.figure(figsize=(15, 8))\n",
    "gs = gridspec.GridSpec(1, 1)\n",
    "ax1 = plt.subplot(gs[0])\n",
    "# -- On filtre sur les individus ayant moins de 120 ans (enleve les outliers)\n",
    "t_individus[t_individus.age < 120].boxplot(column=['age'], by='situationsPro', ax=ax1)\n",
    "plt.ylim((0, 100))"
   ]
  },
  {
   "cell_type": "markdown",
   "metadata": {},
   "source": [
    "#### enfant et -10 ans\n",
    "Validity check"
   ]
  },
  {
   "cell_type": "code",
   "execution_count": 624,
   "metadata": {
    "collapsed": false
   },
   "outputs": [
    {
     "data": {
      "text/plain": [
       "<matplotlib.text.Text at 0x7fa8676698d0>"
      ]
     },
     "execution_count": 624,
     "metadata": {},
     "output_type": "execute_result"
    },
    {
     "data": {
      "image/png": "[encoded data removed]",
      "text/plain": [
       "<matplotlib.figure.Figure at 0x7fa867e8f6a0>"
      ]
     },
     "metadata": {},
     "output_type": "display_data"
    }
   ],
   "source": [
    "plt.figure(figsize=(10, 10))\n",
    "plt.subplot(221)\n",
    "t_individus[t_individus.age < 10].role.value_counts().plot(kind='barh', color='red')\n",
    "plt.title('Répartition des rôles : individus -10 ans')\n",
    "plt.subplot(222)\n",
    "t_individus[t_individus.age < 10].situationsPro.value_counts().plot(kind='barh', color='red')\n",
    "plt.title('Répartition situations professionnelles : individus -10 ans')\n",
    "plt.subplot(223)\n",
    "t_individus[t_individus.role == 'enfant'].situationsPro.value_counts().plot(kind='barh', color='red')\n",
    "plt.title('Répartition situations professionnelles : enfants')\n"
   ]
  },
  {
   "cell_type": "markdown",
   "metadata": {},
   "source": [
    "### Ressources"
   ]
  },
  {
   "cell_type": "code",
   "execution_count": 635,
   "metadata": {
    "collapsed": false
   },
   "outputs": [
    {
     "data": {
      "text/plain": [
       "\"[{'periode': '2014-04', '_id': ObjectId('54465def99337c9d5413681f'), 'montant': 720, 'type': 'revenusSalarie'}, {'periode': '2014-05', '_id': ObjectId('54465def99337c9d5413681e'), 'montant': 720, 'type': 'revenusSalarie'}, {'periode': '2014-06', '_id': ObjectId('54465def99337c9d5413681d'), 'montant': 720, 'type': 'revenusSalarie'}]\""
      ]
     },
     "execution_count": 635,
     "metadata": {},
     "output_type": "execute_result"
    }
   ],
   "source": [
    "t_individus.ressources[0]"
   ]
  },
  {
   "cell_type": "code",
   "execution_count": 632,
   "metadata": {
    "collapsed": false
   },
   "outputs": [],
   "source": [
    "t_individus_test = t_individus.copy()"
   ]
  },
  {
   "cell_type": "code",
   "execution_count": 644,
   "metadata": {
    "collapsed": false
   },
   "outputs": [],
   "source": [
    "t_individus_test.ressources =\\\n",
    "    t_individus_test.ressources.apply(\n",
    "        lambda x: [] if (pd.isnull(x) or x == '[]') else x)\n",
    "\n",
    "t_individus_test.ressources =\\\n",
    "    [ast.literal_eval(x.replace(\"ObjectId('\", '\\'').replace(\"')\", '\\''))\n",
    "        if type(x) == str else x for x in t_individus_test.ressources]"
   ]
  },
  {
   "cell_type": "code",
   "execution_count": 645,
   "metadata": {
    "collapsed": false
   },
   "outputs": [],
   "source": [
    "add_id_to_serie(t_individus_test, 'ressources', '_id_individu', '_id_individu')"
   ]
  },
  {
   "cell_type": "raw",
   "metadata": {},
   "source": [
    "# -- Attention : Très long\n",
    "t_ressources = pd.DataFrame(t_individus_test.ressources.sum())"
   ]
  },
  {
   "cell_type": "code",
   "execution_count": 647,
   "metadata": {
    "collapsed": false
   },
   "outputs": [
    {
     "data": {
      "text/html": [
       "<div>\n",
       "<table border=\"1\" class=\"dataframe\">\n",
       "  <thead>\n",
       "    <tr style=\"text-align: right;\">\n",
       "      <th></th>\n",
       "      <th>_id</th>\n",
       "      <th>_id_individu</th>\n",
       "      <th>montant</th>\n",
       "      <th>periode</th>\n",
       "      <th>type</th>\n",
       "    </tr>\n",
       "  </thead>\n",
       "  <tbody>\n",
       "    <tr>\n",
       "      <th>0</th>\n",
       "      <td>54465def99337c9d5413681f</td>\n",
       "      <td>53cd46e76e5e3202000f4617</td>\n",
       "      <td>720</td>\n",
       "      <td>2014-04</td>\n",
       "      <td>revenusSalarie</td>\n",
       "    </tr>\n",
       "    <tr>\n",
       "      <th>1</th>\n",
       "      <td>54465def99337c9d5413681e</td>\n",
       "      <td>53cd46e76e5e3202000f4617</td>\n",
       "      <td>720</td>\n",
       "      <td>2014-05</td>\n",
       "      <td>revenusSalarie</td>\n",
       "    </tr>\n",
       "    <tr>\n",
       "      <th>2</th>\n",
       "      <td>54465def99337c9d5413681d</td>\n",
       "      <td>53cd46e76e5e3202000f4617</td>\n",
       "      <td>720</td>\n",
       "      <td>2014-06</td>\n",
       "      <td>revenusSalarie</td>\n",
       "    </tr>\n",
       "    <tr>\n",
       "      <th>3</th>\n",
       "      <td>54465def99337c9d54136822</td>\n",
       "      <td>53cd48556e5e3202000f4625</td>\n",
       "      <td>800</td>\n",
       "      <td>2014-04</td>\n",
       "      <td>revenusSalarie</td>\n",
       "    </tr>\n",
       "    <tr>\n",
       "      <th>4</th>\n",
       "      <td>54465def99337c9d54136821</td>\n",
       "      <td>53cd48556e5e3202000f4625</td>\n",
       "      <td>800</td>\n",
       "      <td>2014-05</td>\n",
       "      <td>revenusSalarie</td>\n",
       "    </tr>\n",
       "  </tbody>\n",
       "</table>\n",
       "</div>"
      ],
      "text/plain": [
       "                        _id              _id_individu  montant  periode  \\\n",
       "0  54465def99337c9d5413681f  53cd46e76e5e3202000f4617      720  2014-04   \n",
       "1  54465def99337c9d5413681e  53cd46e76e5e3202000f4617      720  2014-05   \n",
       "2  54465def99337c9d5413681d  53cd46e76e5e3202000f4617      720  2014-06   \n",
       "3  54465def99337c9d54136822  53cd48556e5e3202000f4625      800  2014-04   \n",
       "4  54465def99337c9d54136821  53cd48556e5e3202000f4625      800  2014-05   \n",
       "\n",
       "             type  \n",
       "0  revenusSalarie  \n",
       "1  revenusSalarie  \n",
       "2  revenusSalarie  \n",
       "3  revenusSalarie  \n",
       "4  revenusSalarie  "
      ]
     },
     "execution_count": 647,
     "metadata": {},
     "output_type": "execute_result"
    }
   ],
   "source": [
    "t_ressources.head()"
   ]
  },
  {
   "cell_type": "code",
   "execution_count": 648,
   "metadata": {
    "collapsed": true
   },
   "outputs": [],
   "source": [
    "t_ressources.to_csv(path + 't_ressources.csv')"
   ]
  },
  {
   "cell_type": "code",
   "execution_count": 652,
   "metadata": {
    "collapsed": false
   },
   "outputs": [],
   "source": [
    "t_ressources.drop('_id', axis=1, inplace=True)"
   ]
  },
  {
   "cell_type": "code",
   "execution_count": 1160,
   "metadata": {
    "collapsed": false
   },
   "outputs": [
    {
     "data": {
      "text/html": [
       "<div>\n",
       "<table border=\"1\" class=\"dataframe\">\n",
       "  <thead>\n",
       "    <tr style=\"text-align: right;\">\n",
       "      <th></th>\n",
       "      <th>_id_individu</th>\n",
       "      <th>_id_demandeur</th>\n",
       "      <th>aCharge</th>\n",
       "      <th>assPreconditionRemplie</th>\n",
       "      <th>autoEntrepreneurActiviteType</th>\n",
       "      <th>autresRevenusTns</th>\n",
       "      <th>autresRevenusTnsActiviteType</th>\n",
       "      <th>autresRevenusTnsEmployes</th>\n",
       "      <th>boursier</th>\n",
       "      <th>boursierEnseignementSup</th>\n",
       "      <th>...</th>\n",
       "      <th>tauxIncapacite</th>\n",
       "      <th>tauxInvalidite</th>\n",
       "      <th>tnsActiviteType</th>\n",
       "      <th>tnsStructureType</th>\n",
       "      <th>villeNaissance</th>\n",
       "      <th>age</th>\n",
       "      <th>situationsPro</th>\n",
       "      <th>montant</th>\n",
       "      <th>periode</th>\n",
       "      <th>type</th>\n",
       "    </tr>\n",
       "  </thead>\n",
       "  <tbody>\n",
       "    <tr>\n",
       "      <th>0</th>\n",
       "      <td>53cd46e76e5e3202000f4617</td>\n",
       "      <td>53cd46e76e5e3202000f4616</td>\n",
       "      <td>NaN</td>\n",
       "      <td>NaN</td>\n",
       "      <td>NaN</td>\n",
       "      <td>NaN</td>\n",
       "      <td>NaN</td>\n",
       "      <td>NaN</td>\n",
       "      <td>NaN</td>\n",
       "      <td>NaN</td>\n",
       "      <td>...</td>\n",
       "      <td>NaN</td>\n",
       "      <td>NaN</td>\n",
       "      <td>NaN</td>\n",
       "      <td>NaN</td>\n",
       "      <td>NaN</td>\n",
       "      <td>61</td>\n",
       "      <td>NaN</td>\n",
       "      <td>720</td>\n",
       "      <td>2014-04</td>\n",
       "      <td>revenusSalarie</td>\n",
       "    </tr>\n",
       "    <tr>\n",
       "      <th>1</th>\n",
       "      <td>53cd46e76e5e3202000f4617</td>\n",
       "      <td>53cd46e76e5e3202000f4616</td>\n",
       "      <td>NaN</td>\n",
       "      <td>NaN</td>\n",
       "      <td>NaN</td>\n",
       "      <td>NaN</td>\n",
       "      <td>NaN</td>\n",
       "      <td>NaN</td>\n",
       "      <td>NaN</td>\n",
       "      <td>NaN</td>\n",
       "      <td>...</td>\n",
       "      <td>NaN</td>\n",
       "      <td>NaN</td>\n",
       "      <td>NaN</td>\n",
       "      <td>NaN</td>\n",
       "      <td>NaN</td>\n",
       "      <td>61</td>\n",
       "      <td>NaN</td>\n",
       "      <td>720</td>\n",
       "      <td>2014-05</td>\n",
       "      <td>revenusSalarie</td>\n",
       "    </tr>\n",
       "  </tbody>\n",
       "</table>\n",
       "<p>2 rows × 58 columns</p>\n",
       "</div>"
      ],
      "text/plain": [
       "               _id_individu             _id_demandeur aCharge  \\\n",
       "0  53cd46e76e5e3202000f4617  53cd46e76e5e3202000f4616     NaN   \n",
       "1  53cd46e76e5e3202000f4617  53cd46e76e5e3202000f4616     NaN   \n",
       "\n",
       "  assPreconditionRemplie autoEntrepreneurActiviteType  autresRevenusTns  \\\n",
       "0                    NaN                          NaN               NaN   \n",
       "1                    NaN                          NaN               NaN   \n",
       "\n",
       "  autresRevenusTnsActiviteType autresRevenusTnsEmployes boursier  \\\n",
       "0                          NaN                      NaN      NaN   \n",
       "1                          NaN                      NaN      NaN   \n",
       "\n",
       "  boursierEnseignementSup       ...        tauxIncapacite  tauxInvalidite  \\\n",
       "0                     NaN       ...                   NaN             NaN   \n",
       "1                     NaN       ...                   NaN             NaN   \n",
       "\n",
       "   tnsActiviteType tnsStructureType villeNaissance age situationsPro montant  \\\n",
       "0              NaN              NaN            NaN  61           NaN     720   \n",
       "1              NaN              NaN            NaN  61           NaN     720   \n",
       "\n",
       "   periode            type  \n",
       "0  2014-04  revenusSalarie  \n",
       "1  2014-05  revenusSalarie  \n",
       "\n",
       "[2 rows x 58 columns]"
      ]
     },
     "execution_count": 1160,
     "metadata": {},
     "output_type": "execute_result"
    }
   ],
   "source": [
    "## -- Merge\n",
    "t_individus = pd.merge(t_individus,\n",
    "                       t_ressources,\n",
    "                       on=\"_id_individu\",\n",
    "                       how=\"left\")\n",
    "t_individus.head(2)"
   ]
  },
  {
   "cell_type": "code",
   "execution_count": 688,
   "metadata": {
    "collapsed": false
   },
   "outputs": [
    {
     "data": {
      "text/html": [
       "<div>\n",
       "<table border=\"1\" class=\"dataframe\">\n",
       "  <thead>\n",
       "    <tr style=\"text-align: right;\">\n",
       "      <th></th>\n",
       "      <th>_id_individu</th>\n",
       "      <th>montant</th>\n",
       "      <th>periode</th>\n",
       "      <th>type</th>\n",
       "    </tr>\n",
       "  </thead>\n",
       "  <tbody>\n",
       "    <tr>\n",
       "      <th>0</th>\n",
       "      <td>53cd46e76e5e3202000f4617</td>\n",
       "      <td>720</td>\n",
       "      <td>2014-04</td>\n",
       "      <td>revenusSalarie</td>\n",
       "    </tr>\n",
       "    <tr>\n",
       "      <th>1</th>\n",
       "      <td>53cd46e76e5e3202000f4617</td>\n",
       "      <td>720</td>\n",
       "      <td>2014-05</td>\n",
       "      <td>revenusSalarie</td>\n",
       "    </tr>\n",
       "    <tr>\n",
       "      <th>2</th>\n",
       "      <td>53cd46e76e5e3202000f4617</td>\n",
       "      <td>720</td>\n",
       "      <td>2014-06</td>\n",
       "      <td>revenusSalarie</td>\n",
       "    </tr>\n",
       "    <tr>\n",
       "      <th>3</th>\n",
       "      <td>53cd48556e5e3202000f4625</td>\n",
       "      <td>800</td>\n",
       "      <td>2014-04</td>\n",
       "      <td>revenusSalarie</td>\n",
       "    </tr>\n",
       "    <tr>\n",
       "      <th>4</th>\n",
       "      <td>53cd48556e5e3202000f4625</td>\n",
       "      <td>800</td>\n",
       "      <td>2014-05</td>\n",
       "      <td>revenusSalarie</td>\n",
       "    </tr>\n",
       "  </tbody>\n",
       "</table>\n",
       "</div>"
      ],
      "text/plain": [
       "               _id_individu  montant  periode            type\n",
       "0  53cd46e76e5e3202000f4617      720  2014-04  revenusSalarie\n",
       "1  53cd46e76e5e3202000f4617      720  2014-05  revenusSalarie\n",
       "2  53cd46e76e5e3202000f4617      720  2014-06  revenusSalarie\n",
       "3  53cd48556e5e3202000f4625      800  2014-04  revenusSalarie\n",
       "4  53cd48556e5e3202000f4625      800  2014-05  revenusSalarie"
      ]
     },
     "execution_count": 688,
     "metadata": {},
     "output_type": "execute_result"
    }
   ],
   "source": [
    "t_ressources.head()"
   ]
  },
  {
   "cell_type": "markdown",
   "metadata": {},
   "source": [
    "# Import des tables"
   ]
  },
  {
   "cell_type": "code",
   "execution_count": 699,
   "metadata": {
    "collapsed": false
   },
   "outputs": [],
   "source": [
    "from pymongo import MongoClient\n",
    "import bson\n",
    "client = MongoClient('localhost', 27017)\n",
    "db = client['MesAides']\n",
    "collection = db['situations']\n",
    "input_data = db.situations\n",
    "data = pd.DataFrame(list(input_data.find()))"
   ]
  },
  {
   "cell_type": "code",
   "execution_count": 745,
   "metadata": {
    "collapsed": true
   },
   "outputs": [],
   "source": [
    "t_simultation = data.copy()"
   ]
  },
  {
   "cell_type": "code",
   "execution_count": 746,
   "metadata": {
    "collapsed": false
   },
   "outputs": [],
   "source": [
    "t_simultation.dateDeValeur = pd.to_datetime(t_simultation.dateDeValeur)"
   ]
  },
  {
   "cell_type": "code",
   "execution_count": 748,
   "metadata": {
    "collapsed": false
   },
   "outputs": [],
   "source": [
    "t_simultation = t_simultation.loc[t_simultation.dateDeValeur >= '01-01-2015']"
   ]
  },
  {
   "cell_type": "code",
   "execution_count": 749,
   "metadata": {
    "collapsed": false
   },
   "outputs": [],
   "source": [
    "t_simultation._id = t_simultation._id.astype(str)"
   ]
  },
  {
   "cell_type": "code",
   "execution_count": 666,
   "metadata": {
    "collapsed": false
   },
   "outputs": [],
   "source": [
    "t_patrimoines = pd.read_csv(path + 'patrimoines.csv')"
   ]
  },
  {
   "cell_type": "code",
   "execution_count": 1048,
   "metadata": {
    "collapsed": false,
    "scrolled": true
   },
   "outputs": [
    {
     "name": "stderr",
     "output_type": "stream",
     "text": [
      "/usr/local/lib/python3.4/dist-packages/IPython/core/interactiveshell.py:2902: DtypeWarning: Columns (2,6,7,14) have mixed types. Specify dtype option on import or set low_memory=False.\n",
      "  interactivity=interactivity, compiler=compiler, result=result)\n"
     ]
    }
   ],
   "source": [
    "t_logements = pd.read_csv(path + 'logements.csv')"
   ]
  },
  {
   "cell_type": "markdown",
   "metadata": {},
   "source": [
    "# Clean des tables\n",
    "### sur 2015"
   ]
  },
  {
   "cell_type": "code",
   "execution_count": 820,
   "metadata": {
    "collapsed": false
   },
   "outputs": [],
   "source": [
    "id_demandeurs_2015 = pd.unique(t_simultation._id).tolist()"
   ]
  },
  {
   "cell_type": "code",
   "execution_count": 1161,
   "metadata": {
    "collapsed": false
   },
   "outputs": [],
   "source": [
    "t_individus = t_individus.loc[t_individus._id_demandeur.isin(id_demandeurs_2015)]"
   ]
  },
  {
   "cell_type": "code",
   "execution_count": 1162,
   "metadata": {
    "collapsed": true
   },
   "outputs": [],
   "source": [
    "t_individus['type'] = t_individus['type'].astype(str)"
   ]
  },
  {
   "cell_type": "code",
   "execution_count": 1163,
   "metadata": {
    "collapsed": false
   },
   "outputs": [],
   "source": [
    "t_individus['type'] = t_individus['type'].replace('nan', np.nan)"
   ]
  },
  {
   "cell_type": "code",
   "execution_count": 1164,
   "metadata": {
    "collapsed": false
   },
   "outputs": [],
   "source": [
    "t_individus = t_individus.rename(columns = {'montant': 'ressources_montant',\n",
    "                                            'periode': 'ressources_periode',\n",
    "                                            'type': 'ressources_type'})"
   ]
  },
  {
   "cell_type": "code",
   "execution_count": 1280,
   "metadata": {
    "collapsed": true
   },
   "outputs": [],
   "source": [
    "t_individus.statutMarital = t_individus.statutMarital.astype(str)\n",
    "t_individus.statutMarital = t_individus.statutMarital.replace('nan', np.nan)"
   ]
  },
  {
   "cell_type": "markdown",
   "metadata": {},
   "source": [
    "### Pourcentages de simulations avec au moins une déclaration commençant par 'rnc_'\n",
    "\n",
    "25,6 % des simulations contiennent au moins 1 rnc"
   ]
  },
  {
   "cell_type": "code",
   "execution_count": 784,
   "metadata": {
    "collapsed": false,
    "scrolled": true
   },
   "outputs": [
    {
     "data": {
      "text/html": [
       "<div>\n",
       "<table border=\"1\" class=\"dataframe\">\n",
       "  <thead>\n",
       "    <tr style=\"text-align: right;\">\n",
       "      <th></th>\n",
       "      <th>__v</th>\n",
       "      <th>_id</th>\n",
       "      <th>_updated</th>\n",
       "      <th>dateDeValeur</th>\n",
       "      <th>email</th>\n",
       "      <th>individus</th>\n",
       "      <th>logement</th>\n",
       "      <th>mobilierValue</th>\n",
       "      <th>patrimoine</th>\n",
       "      <th>phoneNumber</th>\n",
       "      <th>ressourcesYearMoins2Captured</th>\n",
       "      <th>rfr</th>\n",
       "      <th>status</th>\n",
       "      <th>token</th>\n",
       "    </tr>\n",
       "  </thead>\n",
       "  <tbody>\n",
       "    <tr>\n",
       "      <th>414</th>\n",
       "      <td>1</td>\n",
       "      <td>54abaf5ed20bc238169b42a0</td>\n",
       "      <td>NaN</td>\n",
       "      <td>2015-01-06 09:48:14.922</td>\n",
       "      <td>NaN</td>\n",
       "      <td>[{'ressources': [], '_id': 54abaf5ed20bc238169...</td>\n",
       "      <td>{'membreFamilleProprietaire': False, 'adresse'...</td>\n",
       "      <td>NaN</td>\n",
       "      <td>{'epargneSurLivret': 0, 'valeurLocativeImmoNon...</td>\n",
       "      <td>NaN</td>\n",
       "      <td>False</td>\n",
       "      <td>NaN</td>\n",
       "      <td>test</td>\n",
       "      <td>8bx6BuVVD-WrlM-k_1M7kaa3Ycv339XLJLY6KV7lc2A99h...</td>\n",
       "    </tr>\n",
       "    <tr>\n",
       "      <th>485</th>\n",
       "      <td>1</td>\n",
       "      <td>54abb15f608e752d1629e1e0</td>\n",
       "      <td>NaN</td>\n",
       "      <td>2015-01-06 09:56:47.892</td>\n",
       "      <td>NaN</td>\n",
       "      <td>[{'ressources': [], '_id': 54abb15f608e752d162...</td>\n",
       "      <td>{'membreFamilleProprietaire': False, 'adresse'...</td>\n",
       "      <td>NaN</td>\n",
       "      <td>{'epargneSurLivret': 0, 'valeurLocativeImmoNon...</td>\n",
       "      <td>NaN</td>\n",
       "      <td>False</td>\n",
       "      <td>NaN</td>\n",
       "      <td>test</td>\n",
       "      <td>pMmisXLdOw1bVc6_5uwZtCeJnllZXr02fgd_kITy38ftvw...</td>\n",
       "    </tr>\n",
       "  </tbody>\n",
       "</table>\n",
       "</div>"
      ],
      "text/plain": [
       "     __v                       _id _updated            dateDeValeur email  \\\n",
       "414    1  54abaf5ed20bc238169b42a0      NaN 2015-01-06 09:48:14.922   NaN   \n",
       "485    1  54abb15f608e752d1629e1e0      NaN 2015-01-06 09:56:47.892   NaN   \n",
       "\n",
       "                                             individus  \\\n",
       "414  [{'ressources': [], '_id': 54abaf5ed20bc238169...   \n",
       "485  [{'ressources': [], '_id': 54abb15f608e752d162...   \n",
       "\n",
       "                                              logement  mobilierValue  \\\n",
       "414  {'membreFamilleProprietaire': False, 'adresse'...            NaN   \n",
       "485  {'membreFamilleProprietaire': False, 'adresse'...            NaN   \n",
       "\n",
       "                                            patrimoine phoneNumber  \\\n",
       "414  {'epargneSurLivret': 0, 'valeurLocativeImmoNon...         NaN   \n",
       "485  {'epargneSurLivret': 0, 'valeurLocativeImmoNon...         NaN   \n",
       "\n",
       "    ressourcesYearMoins2Captured  rfr status  \\\n",
       "414                        False  NaN   test   \n",
       "485                        False  NaN   test   \n",
       "\n",
       "                                                 token  \n",
       "414  8bx6BuVVD-WrlM-k_1M7kaa3Ycv339XLJLY6KV7lc2A99h...  \n",
       "485  pMmisXLdOw1bVc6_5uwZtCeJnllZXr02fgd_kITy38ftvw...  "
      ]
     },
     "execution_count": 784,
     "metadata": {},
     "output_type": "execute_result"
    }
   ],
   "source": [
    "t_simultation.head(2)"
   ]
  },
  {
   "cell_type": "code",
   "execution_count": 823,
   "metadata": {
    "collapsed": false
   },
   "outputs": [],
   "source": [
    "start_with_rnc = [x for x in t_individus['type'] if (x.startswith('rnc') == True)]"
   ]
  },
  {
   "cell_type": "code",
   "execution_count": 826,
   "metadata": {
    "collapsed": false
   },
   "outputs": [
    {
     "data": {
      "text/plain": [
       "['rncRevenusActivite',\n",
       " 'rncAutresRevenus',\n",
       " 'rncPensionsRetraitesRentes',\n",
       " 'rncPensionsAlimentaires',\n",
       " 'rncPensionsAlimentairesVersees']"
      ]
     },
     "execution_count": 826,
     "metadata": {},
     "output_type": "execute_result"
    }
   ],
   "source": [
    "start_with_rnc[:5]"
   ]
  },
  {
   "cell_type": "code",
   "execution_count": 827,
   "metadata": {
    "collapsed": true
   },
   "outputs": [],
   "source": [
    "demandeurs_au_moins_1rnc = pd.unique(t_individus[t_individus.type.isin(start_with_rnc)]._id_demandeur).tolist()"
   ]
  },
  {
   "cell_type": "code",
   "execution_count": 828,
   "metadata": {
    "collapsed": false
   },
   "outputs": [
    {
     "data": {
      "text/plain": [
       "(28138, 14)"
      ]
     },
     "execution_count": 828,
     "metadata": {},
     "output_type": "execute_result"
    }
   ],
   "source": [
    "# -- Simulation avec au moins 1 rnc\n",
    "t_simultation[t_simultation._id.isin(demandeurs_au_moins_1rnc)].shape  # 28138"
   ]
  },
  {
   "cell_type": "code",
   "execution_count": 829,
   "metadata": {
    "collapsed": false
   },
   "outputs": [
    {
     "data": {
      "text/plain": [
       "(109715, 14)"
      ]
     },
     "execution_count": 829,
     "metadata": {},
     "output_type": "execute_result"
    }
   ],
   "source": [
    "t_simultation.shape  # 109715"
   ]
  },
  {
   "cell_type": "code",
   "execution_count": 830,
   "metadata": {
    "collapsed": false
   },
   "outputs": [
    {
     "data": {
      "text/plain": [
       "0.25646447614273343"
      ]
     },
     "execution_count": 830,
     "metadata": {},
     "output_type": "execute_result"
    }
   ],
   "source": [
    "28138/109715"
   ]
  },
  {
   "cell_type": "markdown",
   "metadata": {},
   "source": [
    "### Répartition des types de ressources par individu\n",
    "Remarque : attention, un individu peut avori plusieurs type de ressources."
   ]
  },
  {
   "cell_type": "code",
   "execution_count": 840,
   "metadata": {
    "collapsed": true
   },
   "outputs": [
    {
     "data": {
      "text/plain": [
       "revenusSalarie                    1023096\n",
       "allocationsChomage                 287148\n",
       "pensionsAlimentairesVersees        191532\n",
       "pensionsRetraitesRentes            141396\n",
       "aide_logement                      128628\n",
       "af                                 109944\n",
       "nan                                 94455\n",
       "pensionsAlimentaires                75564\n",
       "pensionsInvalidite                  71136\n",
       "rsa                                 61824\n",
       "ass                                 55416\n",
       "aah                                 50220\n",
       "paje_base                           48324\n",
       "indJourMaladie                      40284\n",
       "rncRevenusActivite                  35604\n",
       "bourseEnseignementSup               33804\n",
       "revenusStageFormationPro            32076\n",
       "caAutoEntrepreneur                  31752\n",
       "stage                               28572\n",
       "asf                                 21624\n",
       "indJourMaternite                    20532\n",
       "clca                                20100\n",
       "cf                                  20076\n",
       "rncAutresRevenus                    16245\n",
       "rncPensionsRetraitesRentes          15467\n",
       "indJourAccidentDuTravail            14352\n",
       "allocationLogement                  13776\n",
       "rncPensionsAlimentaires             12542\n",
       "rncPensionsAlimentairesVersees      12218\n",
       "gainsExceptionnels                  10620\n",
       "allocationSecurisationPro           10092\n",
       "indVolontariat                       9792\n",
       "prestationCompensatoire              9348\n",
       "primeRepriseActivite                 8568\n",
       "indJourMaladieProf                   8532\n",
       "retraiteCombattant                   8316\n",
       "aeeh                                 8280\n",
       "indChomagePartiel                    8076\n",
       "prepare                              7932\n",
       "aspa                                 7332\n",
       "asi                                  6924\n",
       "bourseRecherche                      6468\n",
       "dedommagementAmiante                 5832\n",
       "fraisReelsDeductibles                4433\n",
       "paje                                 4104\n",
       "caAutresRevenusTns                   1504\n",
       "autresRevenusTns                     1504\n",
       "caMicroEntreprise                     845\n",
       "revenusAgricolesTns                   842\n",
       "Name: type, dtype: int64"
      ]
     },
     "execution_count": 840,
     "metadata": {},
     "output_type": "execute_result"
    }
   ],
   "source": [
    "t_individus.type.value_counts()"
   ]
  },
  {
   "cell_type": "code",
   "execution_count": 918,
   "metadata": {
    "collapsed": false
   },
   "outputs": [],
   "source": [
    "t = t_individus.loc[(~t_individus.type.isin(start_with_rnc)) & (t_individus['type'].isnull() == False)]"
   ]
  },
  {
   "cell_type": "code",
   "execution_count": 919,
   "metadata": {
    "collapsed": false
   },
   "outputs": [],
   "source": [
    "t_count = t.groupby('_id_individu')['type'].value_counts()"
   ]
  },
  {
   "cell_type": "code",
   "execution_count": 926,
   "metadata": {
    "collapsed": false
   },
   "outputs": [
    {
     "data": {
      "text/html": [
       "<div>\n",
       "<table border=\"1\" class=\"dataframe\">\n",
       "  <thead>\n",
       "    <tr style=\"text-align: right;\">\n",
       "      <th></th>\n",
       "      <th>_id_individu_grouped</th>\n",
       "      <th>type</th>\n",
       "      <th>count</th>\n",
       "    </tr>\n",
       "  </thead>\n",
       "  <tbody>\n",
       "    <tr>\n",
       "      <th>0</th>\n",
       "      <td>54ad0c4f638f222b16b10a8e</td>\n",
       "      <td>revenusSalarie</td>\n",
       "      <td>12</td>\n",
       "    </tr>\n",
       "    <tr>\n",
       "      <th>1</th>\n",
       "      <td>54ad4354638f222b16b112b1</td>\n",
       "      <td>revenusSalarie</td>\n",
       "      <td>12</td>\n",
       "    </tr>\n",
       "    <tr>\n",
       "      <th>2</th>\n",
       "      <td>54ad4354638f222b16b112be</td>\n",
       "      <td>revenusSalarie</td>\n",
       "      <td>12</td>\n",
       "    </tr>\n",
       "    <tr>\n",
       "      <th>3</th>\n",
       "      <td>54ad4354638f222b16b112cb</td>\n",
       "      <td>revenusSalarie</td>\n",
       "      <td>12</td>\n",
       "    </tr>\n",
       "    <tr>\n",
       "      <th>4</th>\n",
       "      <td>54ad4354638f222b16b112d8</td>\n",
       "      <td>revenusSalarie</td>\n",
       "      <td>12</td>\n",
       "    </tr>\n",
       "  </tbody>\n",
       "</table>\n",
       "</div>"
      ],
      "text/plain": [
       "       _id_individu_grouped            type  count\n",
       "0  54ad0c4f638f222b16b10a8e  revenusSalarie     12\n",
       "1  54ad4354638f222b16b112b1  revenusSalarie     12\n",
       "2  54ad4354638f222b16b112be  revenusSalarie     12\n",
       "3  54ad4354638f222b16b112cb  revenusSalarie     12\n",
       "4  54ad4354638f222b16b112d8  revenusSalarie     12"
      ]
     },
     "execution_count": 926,
     "metadata": {},
     "output_type": "execute_result"
    }
   ],
   "source": [
    "t_count = t_count.reset_index()\n",
    "t_count.columns = ['_id_individu_grouped', 'type', 'count']\n",
    "t_count.head()"
   ]
  },
  {
   "cell_type": "code",
   "execution_count": 951,
   "metadata": {
    "collapsed": false
   },
   "outputs": [
    {
     "data": {
      "text/plain": [
       "<matplotlib.text.Text at 0x7fa6e4300390>"
      ]
     },
     "execution_count": 951,
     "metadata": {},
     "output_type": "execute_result"
    },
    {
     "data": {
      "image/png": "[encoded data removed]",
      "text/plain": [
       "<matplotlib.figure.Figure at 0x7fa6e6d79320>"
      ]
     },
     "metadata": {},
     "output_type": "display_data"
    }
   ],
   "source": [
    "plt.figure(figsize=(10, 8))\n",
    "plt.subplot(211)\n",
    "t_count['type'].value_counts()[:5].plot(kind='barh')\n",
    "plt.title('Top 5 type de ressources par individu')\n",
    "plt.subplot(212)\n",
    "t_count['type'].value_counts()[:10].plot(kind='barh')\n",
    "plt.title('Top 10 type de ressources par individu')\n"
   ]
  },
  {
   "cell_type": "code",
   "execution_count": 954,
   "metadata": {
    "collapsed": false
   },
   "outputs": [
    {
     "data": {
      "text/plain": [
       "<matplotlib.text.Text at 0x7fa6e18b3f28>"
      ]
     },
     "execution_count": 954,
     "metadata": {},
     "output_type": "execute_result"
    },
    {
     "data": {
      "image/png": "[encoded data removed]",
      "text/plain": [
       "<matplotlib.figure.Figure at 0x7fa6e21b28d0>"
      ]
     },
     "metadata": {},
     "output_type": "display_data"
    }
   ],
   "source": [
    "plt.figure(figsize=(10, 8))\n",
    "t_count['type'].value_counts()[2:].plot(kind='barh')\n",
    "plt.title('(Sans le top2) ! type de ressources par individu')"
   ]
  },
  {
   "cell_type": "markdown",
   "metadata": {},
   "source": [
    "# Répartition des codes postaux"
   ]
  },
  {
   "cell_type": "code",
   "execution_count": 1049,
   "metadata": {
    "collapsed": false
   },
   "outputs": [],
   "source": [
    "t_logements.adresse = t_logements.adresse.apply(lambda x: [] if (pd.isnull(x) or x == '[]') else x)\n",
    "t_logements.adresse = [ast.literal_eval(x) if type(x) == str else x for x in t_logements.adresse]\n",
    "t_logements.adresse = t_logements.adresse.apply(lambda x: [x] if type(x) != list else x)"
   ]
  },
  {
   "cell_type": "code",
   "execution_count": 1050,
   "metadata": {
    "collapsed": false
   },
   "outputs": [],
   "source": [
    "del t_logements['Unnamed: 0']"
   ]
  },
  {
   "cell_type": "code",
   "execution_count": 1051,
   "metadata": {
    "collapsed": false
   },
   "outputs": [],
   "source": [
    "t_logements._id_demandeur = t_logements._id_demandeur.astype('str')"
   ]
  },
  {
   "cell_type": "code",
   "execution_count": 1052,
   "metadata": {
    "collapsed": false
   },
   "outputs": [
    {
     "data": {
      "text/html": [
       "<div>\n",
       "<table border=\"1\" class=\"dataframe\">\n",
       "  <thead>\n",
       "    <tr style=\"text-align: right;\">\n",
       "      <th></th>\n",
       "      <th>adresse</th>\n",
       "      <th>adresseConjoint</th>\n",
       "      <th>charges</th>\n",
       "      <th>codePostal</th>\n",
       "      <th>colocation</th>\n",
       "      <th>conjointMemeAdresse</th>\n",
       "      <th>dateArrivee</th>\n",
       "      <th>inhabitantForThreeYearsOutOfLastFive</th>\n",
       "      <th>isChambre</th>\n",
       "      <th>locationType</th>\n",
       "      <th>loyer</th>\n",
       "      <th>membreFamilleProprietaire</th>\n",
       "      <th>participationFrais</th>\n",
       "      <th>pretConventionne</th>\n",
       "      <th>primoAccedant</th>\n",
       "      <th>type</th>\n",
       "      <th>_id_demandeur</th>\n",
       "    </tr>\n",
       "  </thead>\n",
       "  <tbody>\n",
       "    <tr>\n",
       "      <th>0</th>\n",
       "      <td>[{'codePostal': '123'}]</td>\n",
       "      <td>NaN</td>\n",
       "      <td>NaN</td>\n",
       "      <td>123</td>\n",
       "      <td>NaN</td>\n",
       "      <td>NaN</td>\n",
       "      <td>NaN</td>\n",
       "      <td>NaN</td>\n",
       "      <td>NaN</td>\n",
       "      <td>NaN</td>\n",
       "      <td>123</td>\n",
       "      <td>True</td>\n",
       "      <td>NaN</td>\n",
       "      <td>NaN</td>\n",
       "      <td>NaN</td>\n",
       "      <td>locataire</td>\n",
       "      <td>53cd46e76e5e3202000f4616</td>\n",
       "    </tr>\n",
       "    <tr>\n",
       "      <th>1</th>\n",
       "      <td>[{'codePostal': '97400'}]</td>\n",
       "      <td>NaN</td>\n",
       "      <td>NaN</td>\n",
       "      <td>NaN</td>\n",
       "      <td>NaN</td>\n",
       "      <td>NaN</td>\n",
       "      <td>NaN</td>\n",
       "      <td>NaN</td>\n",
       "      <td>NaN</td>\n",
       "      <td>NaN</td>\n",
       "      <td>123</td>\n",
       "      <td>NaN</td>\n",
       "      <td>NaN</td>\n",
       "      <td>NaN</td>\n",
       "      <td>False</td>\n",
       "      <td>proprietaire</td>\n",
       "      <td>53cd48556e5e3202000f4624</td>\n",
       "    </tr>\n",
       "  </tbody>\n",
       "</table>\n",
       "</div>"
      ],
      "text/plain": [
       "                     adresse adresseConjoint  charges  codePostal colocation  \\\n",
       "0    [{'codePostal': '123'}]             NaN      NaN         123        NaN   \n",
       "1  [{'codePostal': '97400'}]             NaN      NaN         NaN        NaN   \n",
       "\n",
       "  conjointMemeAdresse dateArrivee inhabitantForThreeYearsOutOfLastFive  \\\n",
       "0                 NaN         NaN                                  NaN   \n",
       "1                 NaN         NaN                                  NaN   \n",
       "\n",
       "  isChambre locationType  loyer membreFamilleProprietaire participationFrais  \\\n",
       "0       NaN          NaN    123                      True                NaN   \n",
       "1       NaN          NaN    123                       NaN                NaN   \n",
       "\n",
       "  pretConventionne primoAccedant          type             _id_demandeur  \n",
       "0              NaN           NaN     locataire  53cd46e76e5e3202000f4616  \n",
       "1              NaN         False  proprietaire  53cd48556e5e3202000f4624  "
      ]
     },
     "execution_count": 1052,
     "metadata": {},
     "output_type": "execute_result"
    }
   ],
   "source": [
    "t_logements.head(2)"
   ]
  },
  {
   "cell_type": "code",
   "execution_count": 1038,
   "metadata": {
    "collapsed": false
   },
   "outputs": [
    {
     "data": {
      "text/plain": [
       "(110199, 17)"
      ]
     },
     "execution_count": 1038,
     "metadata": {},
     "output_type": "execute_result"
    }
   ],
   "source": [
    "t_logements.shape"
   ]
  },
  {
   "cell_type": "code",
   "execution_count": 1053,
   "metadata": {
    "collapsed": false
   },
   "outputs": [],
   "source": [
    "add_id_to_serie(t_logements, 'adresse', '_id_demandeur', '_id_demandeur')"
   ]
  },
  {
   "cell_type": "code",
   "execution_count": 1039,
   "metadata": {
    "collapsed": false
   },
   "outputs": [],
   "source": [
    "t_adresses = pd.DataFrame(t_logements.adresse.sum())"
   ]
  },
  {
   "cell_type": "code",
   "execution_count": 1042,
   "metadata": {
    "collapsed": false
   },
   "outputs": [
    {
     "data": {
      "text/html": [
       "<div>\n",
       "<table border=\"1\" class=\"dataframe\">\n",
       "  <thead>\n",
       "    <tr style=\"text-align: right;\">\n",
       "      <th></th>\n",
       "      <th>_id_demandeur</th>\n",
       "      <th>adresse</th>\n",
       "      <th>codeInsee</th>\n",
       "      <th>codePostal</th>\n",
       "      <th>nomCommune</th>\n",
       "      <th>ville</th>\n",
       "    </tr>\n",
       "  </thead>\n",
       "  <tbody>\n",
       "    <tr>\n",
       "      <th>0</th>\n",
       "      <td>53cd46e76e5e3202000f4616</td>\n",
       "      <td>NaN</td>\n",
       "      <td>NaN</td>\n",
       "      <td>123</td>\n",
       "      <td>NaN</td>\n",
       "      <td>NaN</td>\n",
       "    </tr>\n",
       "  </tbody>\n",
       "</table>\n",
       "</div>"
      ],
      "text/plain": [
       "              _id_demandeur adresse codeInsee codePostal nomCommune ville\n",
       "0  53cd46e76e5e3202000f4616     NaN       NaN        123        NaN   NaN"
      ]
     },
     "execution_count": 1042,
     "metadata": {},
     "output_type": "execute_result"
    }
   ],
   "source": [
    "t_adresses.head(1)"
   ]
  },
  {
   "cell_type": "code",
   "execution_count": 1043,
   "metadata": {
    "collapsed": true
   },
   "outputs": [],
   "source": [
    "t_adresses.to_csv(path + 'adresses.csv')"
   ]
  },
  {
   "cell_type": "code",
   "execution_count": 1054,
   "metadata": {
    "collapsed": true
   },
   "outputs": [],
   "source": [
    "del t_logements['adresse']\n",
    "del t_logements['codePostal']"
   ]
  },
  {
   "cell_type": "code",
   "execution_count": 1055,
   "metadata": {
    "collapsed": false
   },
   "outputs": [],
   "source": [
    "t_logements = pd.merge(t_adresses, t_logements, on='_id_demandeur', how='right')"
   ]
  },
  {
   "cell_type": "code",
   "execution_count": 1084,
   "metadata": {
    "collapsed": false
   },
   "outputs": [],
   "source": [
    "t_logements = t_logements.loc[(t_logements.loyer != 123) & (t_logements.codePostal != '12345')]"
   ]
  },
  {
   "cell_type": "code",
   "execution_count": 1085,
   "metadata": {
    "collapsed": false
   },
   "outputs": [
    {
     "data": {
      "text/html": [
       "<div>\n",
       "<table border=\"1\" class=\"dataframe\">\n",
       "  <thead>\n",
       "    <tr style=\"text-align: right;\">\n",
       "      <th></th>\n",
       "      <th>_id_demandeur</th>\n",
       "      <th>adresse</th>\n",
       "      <th>codeInsee</th>\n",
       "      <th>codePostal</th>\n",
       "      <th>nomCommune</th>\n",
       "      <th>ville</th>\n",
       "      <th>adresseConjoint</th>\n",
       "      <th>charges</th>\n",
       "      <th>colocation</th>\n",
       "      <th>conjointMemeAdresse</th>\n",
       "      <th>dateArrivee</th>\n",
       "      <th>inhabitantForThreeYearsOutOfLastFive</th>\n",
       "      <th>isChambre</th>\n",
       "      <th>locationType</th>\n",
       "      <th>loyer</th>\n",
       "      <th>membreFamilleProprietaire</th>\n",
       "      <th>participationFrais</th>\n",
       "      <th>pretConventionne</th>\n",
       "      <th>primoAccedant</th>\n",
       "      <th>type</th>\n",
       "    </tr>\n",
       "  </thead>\n",
       "  <tbody>\n",
       "    <tr>\n",
       "      <th>23</th>\n",
       "      <td>53d66986be4dbe020042bdd5</td>\n",
       "      <td>NaN</td>\n",
       "      <td>NaN</td>\n",
       "      <td>75011</td>\n",
       "      <td>NaN</td>\n",
       "      <td>NaN</td>\n",
       "      <td>NaN</td>\n",
       "      <td>NaN</td>\n",
       "      <td>NaN</td>\n",
       "      <td>NaN</td>\n",
       "      <td>NaN</td>\n",
       "      <td>NaN</td>\n",
       "      <td>NaN</td>\n",
       "      <td>nonmeuble</td>\n",
       "      <td>50</td>\n",
       "      <td>False</td>\n",
       "      <td>NaN</td>\n",
       "      <td>NaN</td>\n",
       "      <td>NaN</td>\n",
       "      <td>locataire</td>\n",
       "    </tr>\n",
       "    <tr>\n",
       "      <th>27</th>\n",
       "      <td>53d79969f6aa390200a6ccff</td>\n",
       "      <td>NaN</td>\n",
       "      <td>NaN</td>\n",
       "      <td>92500</td>\n",
       "      <td>NaN</td>\n",
       "      <td>NaN</td>\n",
       "      <td>NaN</td>\n",
       "      <td>NaN</td>\n",
       "      <td>NaN</td>\n",
       "      <td>NaN</td>\n",
       "      <td>NaN</td>\n",
       "      <td>NaN</td>\n",
       "      <td>NaN</td>\n",
       "      <td>nonmeuble</td>\n",
       "      <td>499</td>\n",
       "      <td>False</td>\n",
       "      <td>NaN</td>\n",
       "      <td>NaN</td>\n",
       "      <td>NaN</td>\n",
       "      <td>locataire</td>\n",
       "    </tr>\n",
       "    <tr>\n",
       "      <th>28</th>\n",
       "      <td>53d79a06f6aa390200a6cd09</td>\n",
       "      <td>NaN</td>\n",
       "      <td>NaN</td>\n",
       "      <td>92500</td>\n",
       "      <td>NaN</td>\n",
       "      <td>NaN</td>\n",
       "      <td>NaN</td>\n",
       "      <td>NaN</td>\n",
       "      <td>NaN</td>\n",
       "      <td>NaN</td>\n",
       "      <td>NaN</td>\n",
       "      <td>NaN</td>\n",
       "      <td>NaN</td>\n",
       "      <td>NaN</td>\n",
       "      <td>NaN</td>\n",
       "      <td>NaN</td>\n",
       "      <td>False</td>\n",
       "      <td>NaN</td>\n",
       "      <td>NaN</td>\n",
       "      <td>heberge</td>\n",
       "    </tr>\n",
       "    <tr>\n",
       "      <th>29</th>\n",
       "      <td>53d79b10f6aa390200a6cd0d</td>\n",
       "      <td>NaN</td>\n",
       "      <td>NaN</td>\n",
       "      <td>92500</td>\n",
       "      <td>NaN</td>\n",
       "      <td>NaN</td>\n",
       "      <td>NaN</td>\n",
       "      <td>NaN</td>\n",
       "      <td>NaN</td>\n",
       "      <td>NaN</td>\n",
       "      <td>NaN</td>\n",
       "      <td>NaN</td>\n",
       "      <td>NaN</td>\n",
       "      <td>NaN</td>\n",
       "      <td>NaN</td>\n",
       "      <td>NaN</td>\n",
       "      <td>False</td>\n",
       "      <td>NaN</td>\n",
       "      <td>NaN</td>\n",
       "      <td>heberge</td>\n",
       "    </tr>\n",
       "  </tbody>\n",
       "</table>\n",
       "</div>"
      ],
      "text/plain": [
       "               _id_demandeur adresse codeInsee codePostal nomCommune ville  \\\n",
       "23  53d66986be4dbe020042bdd5     NaN       NaN      75011        NaN   NaN   \n",
       "27  53d79969f6aa390200a6ccff     NaN       NaN      92500        NaN   NaN   \n",
       "28  53d79a06f6aa390200a6cd09     NaN       NaN      92500        NaN   NaN   \n",
       "29  53d79b10f6aa390200a6cd0d     NaN       NaN      92500        NaN   NaN   \n",
       "\n",
       "   adresseConjoint  charges colocation conjointMemeAdresse dateArrivee  \\\n",
       "23             NaN      NaN        NaN                 NaN         NaN   \n",
       "27             NaN      NaN        NaN                 NaN         NaN   \n",
       "28             NaN      NaN        NaN                 NaN         NaN   \n",
       "29             NaN      NaN        NaN                 NaN         NaN   \n",
       "\n",
       "   inhabitantForThreeYearsOutOfLastFive isChambre locationType  loyer  \\\n",
       "23                                  NaN       NaN    nonmeuble     50   \n",
       "27                                  NaN       NaN    nonmeuble    499   \n",
       "28                                  NaN       NaN          NaN    NaN   \n",
       "29                                  NaN       NaN          NaN    NaN   \n",
       "\n",
       "   membreFamilleProprietaire participationFrais pretConventionne  \\\n",
       "23                     False                NaN              NaN   \n",
       "27                     False                NaN              NaN   \n",
       "28                       NaN              False              NaN   \n",
       "29                       NaN              False              NaN   \n",
       "\n",
       "   primoAccedant       type  \n",
       "23           NaN  locataire  \n",
       "27           NaN  locataire  \n",
       "28           NaN    heberge  \n",
       "29           NaN    heberge  "
      ]
     },
     "execution_count": 1085,
     "metadata": {},
     "output_type": "execute_result"
    }
   ],
   "source": [
    "t_logements.head(4)"
   ]
  },
  {
   "cell_type": "code",
   "execution_count": 1086,
   "metadata": {
    "collapsed": false
   },
   "outputs": [
    {
     "data": {
      "text/plain": [
       "<matplotlib.text.Text at 0x7fa7ed602240>"
      ]
     },
     "execution_count": 1086,
     "metadata": {},
     "output_type": "execute_result"
    },
    {
     "data": {
      "image/png": "[encoded data removed]",
      "text/plain": [
       "<matplotlib.figure.Figure at 0x7fa7ed555d30>"
      ]
     },
     "metadata": {},
     "output_type": "display_data"
    }
   ],
   "source": [
    "# -- Répartition des codes 50\n",
    "plt.figure(figsize=(10, 8))\n",
    "t_logements.codePostal.value_counts()[:50].plot(kind='barh', color='orange')\n",
    "plt.title('Top50 codes postaux \\n (pas trop mal aux yeux ?)')"
   ]
  },
  {
   "cell_type": "code",
   "execution_count": 1087,
   "metadata": {
    "collapsed": false
   },
   "outputs": [
    {
     "data": {
      "text/plain": [
       "<matplotlib.axes.AxesSubplot at 0x7fa7ed843a58>"
      ]
     },
     "execution_count": 1087,
     "metadata": {},
     "output_type": "execute_result"
    },
    {
     "data": {
      "image/png": "[encoded data removed]",
      "text/plain": [
       "<matplotlib.figure.Figure at 0x7fa7ed4e7588>"
      ]
     },
     "metadata": {},
     "output_type": "display_data"
    }
   ],
   "source": [
    "t_logements.type.value_counts().plot.pie()"
   ]
  },
  {
   "cell_type": "code",
   "execution_count": 1093,
   "metadata": {
    "collapsed": false
   },
   "outputs": [],
   "source": [
    "loyers = t_logements.loyer.dropna().astype(int)"
   ]
  },
  {
   "cell_type": "code",
   "execution_count": 1138,
   "metadata": {
    "collapsed": false
   },
   "outputs": [
    {
     "data": {
      "text/plain": [
       "<matplotlib.text.Text at 0x7fa7e8898908>"
      ]
     },
     "execution_count": 1138,
     "metadata": {},
     "output_type": "execute_result"
    },
    {
     "data": {
      "image/png": "[encoded data removed]",
      "text/plain": [
       "<matplotlib.figure.Figure at 0x7fa7e89381d0>"
      ]
     },
     "metadata": {},
     "output_type": "display_data"
    }
   ],
   "source": [
    "plt.figure(figsize=(10, 8))\n",
    "loyers.loc[(loyers > 50) & (loyers < 3000)].hist(bins=40, color='darkred')\n",
    "plt.title(\"Histogramme des loyers\")"
   ]
  },
  {
   "cell_type": "markdown",
   "metadata": {},
   "source": [
    "# Ressources négatives\n",
    "\n",
    " * __Individu totaux (en comptant les enfants/conjoints)__\n",
    " \n",
    "10.59% des individus contiennent au moins une ressource avec une valeur négative\n",
    "\n",
    " * __Individu \"demandeur\" (role) __\n",
    " \n",
    "15.76% des individus \"demandeur\" contiennent au moins une ressource avec une valeur négative\n"
   ]
  },
  {
   "cell_type": "code",
   "execution_count": 1179,
   "metadata": {
    "collapsed": false
   },
   "outputs": [
    {
     "data": {
      "text/plain": [
       "222124"
      ]
     },
     "execution_count": 1179,
     "metadata": {},
     "output_type": "execute_result"
    }
   ],
   "source": [
    "# individu unique\n",
    "len(pd.unique(t_individus._id_individu).tolist())"
   ]
  },
  {
   "cell_type": "code",
   "execution_count": 1177,
   "metadata": {
    "collapsed": false
   },
   "outputs": [
    {
     "data": {
      "text/plain": [
       "23513"
      ]
     },
     "execution_count": 1177,
     "metadata": {},
     "output_type": "execute_result"
    }
   ],
   "source": [
    "# individu unique ayant au moins une ressource négative\n",
    "len(pd.unique(t_individus[t_individus.ressources_montant < 0]._id_individu).tolist())"
   ]
  },
  {
   "cell_type": "code",
   "execution_count": 1181,
   "metadata": {
    "collapsed": false
   },
   "outputs": [
    {
     "data": {
      "text/plain": [
       "0.10585528803731249"
      ]
     },
     "execution_count": 1181,
     "metadata": {},
     "output_type": "execute_result"
    }
   ],
   "source": [
    "23513/222124"
   ]
  },
  {
   "cell_type": "code",
   "execution_count": 1187,
   "metadata": {
    "collapsed": false
   },
   "outputs": [
    {
     "data": {
      "text/plain": [
       "109561"
      ]
     },
     "execution_count": 1187,
     "metadata": {},
     "output_type": "execute_result"
    }
   ],
   "source": [
    "# individu \"demandeur\" unique\n",
    "len(pd.unique(t_individus[t_individus.role == 'demandeur']._id_individu).tolist())"
   ]
  },
  {
   "cell_type": "code",
   "execution_count": 1189,
   "metadata": {
    "collapsed": false
   },
   "outputs": [
    {
     "data": {
      "text/plain": [
       "17268"
      ]
     },
     "execution_count": 1189,
     "metadata": {},
     "output_type": "execute_result"
    }
   ],
   "source": [
    "len(pd.unique(t_individus[(t_individus.role == 'demandeur') & (t_individus.ressources_montant < 0)]._id_individu).tolist())"
   ]
  },
  {
   "cell_type": "code",
   "execution_count": 1190,
   "metadata": {
    "collapsed": false
   },
   "outputs": [
    {
     "data": {
      "text/plain": [
       "0.15761082867078613"
      ]
     },
     "execution_count": 1190,
     "metadata": {},
     "output_type": "execute_result"
    }
   ],
   "source": [
    "17268/109561"
   ]
  },
  {
   "cell_type": "markdown",
   "metadata": {},
   "source": [
    "# Date plot"
   ]
  },
  {
   "cell_type": "code",
   "execution_count": 1216,
   "metadata": {
    "collapsed": false
   },
   "outputs": [
    {
     "data": {
      "text/plain": [
       "<matplotlib.text.Text at 0x7fa7e64beef0>"
      ]
     },
     "execution_count": 1216,
     "metadata": {},
     "output_type": "execute_result"
    },
    {
     "data": {
      "image/png": "[encoded data removed]",
      "text/plain": [
       "<matplotlib.figure.Figure at 0x7fa7de2ea208>"
      ]
     },
     "metadata": {},
     "output_type": "display_data"
    }
   ],
   "source": [
    "t_date.resample('1d', how='sum')['temp'].plot(figsize=(15,6), color='darkgreen')\n",
    "plt.title('Nombre de simulations')"
   ]
  },
  {
   "cell_type": "markdown",
   "metadata": {},
   "source": [
    "# Type de famille"
   ]
  },
  {
   "cell_type": "code",
   "execution_count": 1251,
   "metadata": {
    "collapsed": true
   },
   "outputs": [],
   "source": [
    "%qtconsole"
   ]
  },
  {
   "cell_type": "code",
   "execution_count": 1255,
   "metadata": {
    "collapsed": false
   },
   "outputs": [
    {
     "data": {
      "text/plain": [
       "mariage              994431\n",
       "union_libre          422415\n",
       "pacs                 170822\n",
       "relation_libre        62964\n",
       "celibataire           30493\n",
       "divorce               11547\n",
       "separe                 5589\n",
       "concubinage_rompu      3075\n",
       "veuf                   2385\n",
       "pacs_rompu              655\n",
       "Name: statutMarital, dtype: int64"
      ]
     },
     "execution_count": 1255,
     "metadata": {},
     "output_type": "execute_result"
    }
   ],
   "source": [
    "t_individus.statutMarital.value_counts()"
   ]
  },
  {
   "cell_type": "code",
   "execution_count": 1256,
   "metadata": {
    "collapsed": true
   },
   "outputs": [],
   "source": [
    "statutMarital_valides = t_individus.statutMarital.value_counts().reset_index()['index'].tolist()"
   ]
  },
  {
   "cell_type": "code",
   "execution_count": 1268,
   "metadata": {
    "collapsed": false
   },
   "outputs": [
    {
     "data": {
      "text/plain": [
       "<matplotlib.axes.AxesSubplot at 0x7fa7e80dfc88>"
      ]
     },
     "execution_count": 1268,
     "metadata": {},
     "output_type": "execute_result"
    },
    {
     "data": {
      "image/png": "[encoded data removed]",
      "text/plain": [
       "<matplotlib.figure.Figure at 0x7fa7e4f70cc0>"
      ]
     },
     "metadata": {},
     "output_type": "display_data"
    }
   ],
   "source": [
    "t_individus.statutMarital[t_individus.statutMarital.isin(statutMarital_valides)].value_counts().plot(kind='bar', color='pink', figsize=(8, 8))"
   ]
  },
  {
   "cell_type": "code",
   "execution_count": 1305,
   "metadata": {
    "collapsed": false
   },
   "outputs": [
    {
     "data": {
      "text/plain": [
       "<matplotlib.text.Text at 0x7fa7e0219978>"
      ]
     },
     "execution_count": 1305,
     "metadata": {},
     "output_type": "execute_result"
    },
    {
     "data": {
      "image/png": "[encoded data removed]",
      "text/plain": [
       "<matplotlib.figure.Figure at 0x7fa7de5b7c50>"
      ]
     },
     "metadata": {},
     "output_type": "display_data"
    }
   ],
   "source": [
    "plt.figure(figsize=(18,20))\n",
    "plt.subplot(321)\n",
    "t_individus.statutMarital[t_individus.age.isin(range(0, 10))].value_counts().plot(kind='barh')\n",
    "plt.title('Moins de 10 ans \\n (lol)')\n",
    "plt.subplot(322)\n",
    "t_individus.statutMarital[t_individus.age.isin(range(10, 18))].value_counts().plot(kind='barh')\n",
    "plt.title('10-18 ans')\n",
    "plt.subplot(323)\n",
    "t_individus.statutMarital[t_individus.age.isin(range(18, 25))].value_counts().plot(kind='barh')\n",
    "plt.title('18-25 ans')\n",
    "plt.subplot(324)\n",
    "t_individus.statutMarital[t_individus.age.isin(range(25, 40))].value_counts().plot(kind='barh')\n",
    "plt.title('25-40 ans')\n",
    "plt.subplot(325)\n",
    "t_individus.statutMarital[t_individus.age.isin(range(40, 60))].value_counts().plot(kind='barh')\n",
    "plt.title('40-60 ans')\n",
    "plt.subplot(326)\n",
    "t_individus.statutMarital[t_individus.age.isin(range(60, 150))].value_counts().plot(kind='barh')\n",
    "plt.title('60 ans et +')"
   ]
  },
  {
   "cell_type": "code",
   "execution_count": null,
   "metadata": {
    "collapsed": true
   },
   "outputs": [],
   "source": []
  }
 ],
 "metadata": {
  "kernelspec": {
   "display_name": "Python 3",
   "language": "python",
   "name": "python3"
  },
  "language_info": {
   "codemirror_mode": {
    "name": "ipython",
    "version": 3
   },
   "file_extension": ".py",
   "mimetype": "text/x-python",
   "name": "python",
   "nbconvert_exporter": "python",
   "pygments_lexer": "ipython3",
   "version": "3.4.3"
  }
 },
 "nbformat": 4,
 "nbformat_minor": 0
}
