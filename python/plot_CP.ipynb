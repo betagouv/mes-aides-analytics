{
 "cells": [
  {
   "cell_type": "code",
   "execution_count": 14,
   "metadata": {
    "collapsed": false
   },
   "outputs": [],
   "source": [
    "import numpy as np\n",
    "import pandas as pd\n",
    "import json\n",
    "import folium\n",
    "from branca.colormap import linear\n",
    "from matplotlib import pyplot as plt"
   ]
  },
  {
   "cell_type": "code",
   "execution_count": 2,
   "metadata": {
    "collapsed": false
   },
   "outputs": [
    {
     "name": "stderr",
     "output_type": "stream",
     "text": [
      "/usr/local/lib/python3.4/dist-packages/IPython/parallel.py:13: ShimWarning: The `IPython.parallel` package has been deprecated. You should import from ipyparallel instead.\n",
      "  \"You should import from ipyparallel instead.\", ShimWarning)\n"
     ]
    }
   ],
   "source": [
    "%qtconsole\n",
    "%matplotlib inline"
   ]
  },
  {
   "cell_type": "markdown",
   "metadata": {},
   "source": [
    "## Pandas df"
   ]
  },
  {
   "cell_type": "code",
   "execution_count": 108,
   "metadata": {
    "collapsed": false
   },
   "outputs": [],
   "source": [
    "postal_count = pd.read_csv('/media/flo/Stockage/Data/MesAides/tables/postal_count.csv')\n",
    "del postal_count['Unnamed: 0']"
   ]
  },
  {
   "cell_type": "code",
   "execution_count": 109,
   "metadata": {
    "collapsed": false
   },
   "outputs": [
    {
     "data": {
      "text/html": [
       "<div>\n",
       "<table border=\"1\" class=\"dataframe\">\n",
       "  <thead>\n",
       "    <tr style=\"text-align: right;\">\n",
       "      <th></th>\n",
       "      <th>Code_commune_INSEE</th>\n",
       "      <th>CP_count</th>\n",
       "    </tr>\n",
       "  </thead>\n",
       "  <tbody>\n",
       "    <tr>\n",
       "      <th>0</th>\n",
       "      <td>50173</td>\n",
       "      <td>0</td>\n",
       "    </tr>\n",
       "    <tr>\n",
       "      <th>1</th>\n",
       "      <td>06079</td>\n",
       "      <td>0</td>\n",
       "    </tr>\n",
       "  </tbody>\n",
       "</table>\n",
       "</div>"
      ],
      "text/plain": [
       "  Code_commune_INSEE  CP_count\n",
       "0              50173         0\n",
       "1              06079         0"
      ]
     },
     "execution_count": 109,
     "metadata": {},
     "output_type": "execute_result"
    }
   ],
   "source": [
    "postal_count.head(2)"
   ]
  },
  {
   "cell_type": "code",
   "execution_count": 110,
   "metadata": {
    "collapsed": false
   },
   "outputs": [
    {
     "data": {
      "text/plain": [
       "0.0"
      ]
     },
     "execution_count": 110,
     "metadata": {},
     "output_type": "execute_result"
    }
   ],
   "source": [
    "postal_count_dict = postal_count.set_index('Code_commune_INSEE')['CP_count']\n",
    "postal_count_dict = postal_count_dict.to_dict()\n",
    "postal_count_dict['65405']"
   ]
  },
  {
   "cell_type": "code",
   "execution_count": 111,
   "metadata": {
    "collapsed": false
   },
   "outputs": [],
   "source": [
    "postal_count.Code_commune_INSEE = postal_count.Code_commune_INSEE.astype(str)\n",
    "postal_count.CP_count = postal_count.CP_count.astype(int)"
   ]
  },
  {
   "cell_type": "markdown",
   "metadata": {},
   "source": [
    "### GeoJSON"
   ]
  },
  {
   "cell_type": "code",
   "execution_count": 75,
   "metadata": {
    "collapsed": true
   },
   "outputs": [],
   "source": [
    "geo_json_data = json.load(open('/media/flo/Stockage/Data/communes_osm/communes_100m/simplified_communes100m.json'))"
   ]
  },
  {
   "cell_type": "markdown",
   "metadata": {},
   "source": [
    "### Map"
   ]
  },
  {
   "cell_type": "code",
   "execution_count": null,
   "metadata": {
    "collapsed": false
   },
   "outputs": [],
   "source": [
    "map_france = folium.Map(location=[47.000000, 2.000000], zoom_start=6)\n",
    "folium.GeoJson(geo_json_data).add_to(map_france)\n",
    "map_france"
   ]
  },
  {
   "cell_type": "code",
   "execution_count": null,
   "metadata": {
    "collapsed": false
   },
   "outputs": [],
   "source": [
    "map_france = folium.Map(location=[47.000000, 2.000000], zoom_start=6)\n",
    "map_france.choropleth(geo_str=open('/media/flo/Stockage/Data/communes_osm/communes_100m/simplified_communes100m.json').read())\n",
    "map_france.save('/media/flo/Stockage/Data/MesAides/map/TESTMAP.html')"
   ]
  },
  {
   "cell_type": "code",
   "execution_count": 43,
   "metadata": {
    "collapsed": false
   },
   "outputs": [],
   "source": [
    "map_france = folium.Map(location=[47.000000, 2.000000], zoom_start=6)\n",
    "\n",
    "folium.GeoJson(\n",
    "    geo_json_data,\n",
    "    style_function=lambda feature: {\n",
    "        'fillColor': '#ffff00',\n",
    "        'color' : 'black',\n",
    "        'weight' : 2,\n",
    "        'dashArray' : '5, 5'\n",
    "        }\n",
    "    ).add_to(map_france)\n",
    "\n",
    "map_france.save('/media/flo/Stockage/Data/MesAides/map/geojson_test2.html')"
   ]
  },
  {
   "cell_type": "code",
   "execution_count": 79,
   "metadata": {
    "collapsed": true
   },
   "outputs": [
    {
     "ename": "KeyError",
     "evalue": "'geometry.properties.insee'",
     "output_type": "error",
     "traceback": [
      "\u001b[1;31m---------------------------------------------------------------------------\u001b[0m",
      "\u001b[1;31mKeyError\u001b[0m                                  Traceback (most recent call last)",
      "\u001b[1;32m<ipython-input-79-98aa565cd935>\u001b[0m in \u001b[0;36m<module>\u001b[1;34m()\u001b[0m\n\u001b[0;32m     12\u001b[0m     ).add_to(map_france)\n\u001b[0;32m     13\u001b[0m \u001b[1;33m\u001b[0m\u001b[0m\n\u001b[1;32m---> 14\u001b[1;33m \u001b[0mmap_france\u001b[0m\u001b[1;33m.\u001b[0m\u001b[0msave\u001b[0m\u001b[1;33m(\u001b[0m\u001b[1;34m'/media/flo/Stockage/Data/MesAides/map/choro_test1.html'\u001b[0m\u001b[1;33m)\u001b[0m\u001b[1;33m\u001b[0m\u001b[0m\n\u001b[0m",
      "\u001b[1;32m/home/flo/.virtualenvs/mesaides/lib/python3.4/site-packages/folium/element.py\u001b[0m in \u001b[0;36msave\u001b[1;34m(self, outfile, close_file, **kwargs)\u001b[0m\n\u001b[0;32m    151\u001b[0m \u001b[1;33m\u001b[0m\u001b[0m\n\u001b[0;32m    152\u001b[0m         \u001b[0mroot\u001b[0m \u001b[1;33m=\u001b[0m \u001b[0mself\u001b[0m\u001b[1;33m.\u001b[0m\u001b[0mget_root\u001b[0m\u001b[1;33m(\u001b[0m\u001b[1;33m)\u001b[0m\u001b[1;33m\u001b[0m\u001b[0m\n\u001b[1;32m--> 153\u001b[1;33m         \u001b[0mhtml\u001b[0m \u001b[1;33m=\u001b[0m \u001b[0mroot\u001b[0m\u001b[1;33m.\u001b[0m\u001b[0mrender\u001b[0m\u001b[1;33m(\u001b[0m\u001b[1;33m**\u001b[0m\u001b[0mkwargs\u001b[0m\u001b[1;33m)\u001b[0m\u001b[1;33m\u001b[0m\u001b[0m\n\u001b[0m\u001b[0;32m    154\u001b[0m         \u001b[0mfid\u001b[0m\u001b[1;33m.\u001b[0m\u001b[0mwrite\u001b[0m\u001b[1;33m(\u001b[0m\u001b[0mhtml\u001b[0m\u001b[1;33m.\u001b[0m\u001b[0mencode\u001b[0m\u001b[1;33m(\u001b[0m\u001b[1;34m'utf8'\u001b[0m\u001b[1;33m)\u001b[0m\u001b[1;33m)\u001b[0m\u001b[1;33m\u001b[0m\u001b[0m\n\u001b[0;32m    155\u001b[0m         \u001b[1;32mif\u001b[0m \u001b[0mclose_file\u001b[0m\u001b[1;33m:\u001b[0m\u001b[1;33m\u001b[0m\u001b[0m\n",
      "\u001b[1;32m/home/flo/.virtualenvs/mesaides/lib/python3.4/site-packages/folium/element.py\u001b[0m in \u001b[0;36mrender\u001b[1;34m(self, **kwargs)\u001b[0m\n\u001b[0;32m    357\u001b[0m         \u001b[1;34m\"\"\"Renders the HTML representation of the element.\"\"\"\u001b[0m\u001b[1;33m\u001b[0m\u001b[0m\n\u001b[0;32m    358\u001b[0m         \u001b[1;32mfor\u001b[0m \u001b[0mname\u001b[0m\u001b[1;33m,\u001b[0m \u001b[0mchild\u001b[0m \u001b[1;32min\u001b[0m \u001b[0mself\u001b[0m\u001b[1;33m.\u001b[0m\u001b[0m_children\u001b[0m\u001b[1;33m.\u001b[0m\u001b[0mitems\u001b[0m\u001b[1;33m(\u001b[0m\u001b[1;33m)\u001b[0m\u001b[1;33m:\u001b[0m\u001b[1;33m\u001b[0m\u001b[0m\n\u001b[1;32m--> 359\u001b[1;33m             \u001b[0mchild\u001b[0m\u001b[1;33m.\u001b[0m\u001b[0mrender\u001b[0m\u001b[1;33m(\u001b[0m\u001b[1;33m**\u001b[0m\u001b[0mkwargs\u001b[0m\u001b[1;33m)\u001b[0m\u001b[1;33m\u001b[0m\u001b[0m\n\u001b[0m\u001b[0;32m    360\u001b[0m         \u001b[1;32mreturn\u001b[0m \u001b[0mself\u001b[0m\u001b[1;33m.\u001b[0m\u001b[0m_template\u001b[0m\u001b[1;33m.\u001b[0m\u001b[0mrender\u001b[0m\u001b[1;33m(\u001b[0m\u001b[0mthis\u001b[0m\u001b[1;33m=\u001b[0m\u001b[0mself\u001b[0m\u001b[1;33m,\u001b[0m \u001b[0mkwargs\u001b[0m\u001b[1;33m=\u001b[0m\u001b[0mkwargs\u001b[0m\u001b[1;33m)\u001b[0m\u001b[1;33m\u001b[0m\u001b[0m\n\u001b[0;32m    361\u001b[0m \u001b[1;33m\u001b[0m\u001b[0m\n",
      "\u001b[1;32m/home/flo/.virtualenvs/mesaides/lib/python3.4/site-packages/folium/element.py\u001b[0m in \u001b[0;36mrender\u001b[1;34m(self, **kwargs)\u001b[0m\n\u001b[0;32m    665\u001b[0m \u001b[1;33m\u001b[0m\u001b[0m\n\u001b[0;32m    666\u001b[0m         \u001b[1;32mfor\u001b[0m \u001b[0mname\u001b[0m\u001b[1;33m,\u001b[0m \u001b[0melement\u001b[0m \u001b[1;32min\u001b[0m \u001b[0mself\u001b[0m\u001b[1;33m.\u001b[0m\u001b[0m_children\u001b[0m\u001b[1;33m.\u001b[0m\u001b[0mitems\u001b[0m\u001b[1;33m(\u001b[0m\u001b[1;33m)\u001b[0m\u001b[1;33m:\u001b[0m\u001b[1;33m\u001b[0m\u001b[0m\n\u001b[1;32m--> 667\u001b[1;33m             \u001b[0melement\u001b[0m\u001b[1;33m.\u001b[0m\u001b[0mrender\u001b[0m\u001b[1;33m(\u001b[0m\u001b[1;33m**\u001b[0m\u001b[0mkwargs\u001b[0m\u001b[1;33m)\u001b[0m\u001b[1;33m\u001b[0m\u001b[0m\n\u001b[0m",
      "\u001b[1;32m/home/flo/.virtualenvs/mesaides/lib/python3.4/site-packages/folium/element.py\u001b[0m in \u001b[0;36mrender\u001b[1;34m(self, **kwargs)\u001b[0m\n\u001b[0;32m    661\u001b[0m         \u001b[0mscript\u001b[0m \u001b[1;33m=\u001b[0m \u001b[0mself\u001b[0m\u001b[1;33m.\u001b[0m\u001b[0m_template\u001b[0m\u001b[1;33m.\u001b[0m\u001b[0mmodule\u001b[0m\u001b[1;33m.\u001b[0m\u001b[0m__dict__\u001b[0m\u001b[1;33m.\u001b[0m\u001b[0mget\u001b[0m\u001b[1;33m(\u001b[0m\u001b[1;34m'script'\u001b[0m\u001b[1;33m,\u001b[0m \u001b[1;32mNone\u001b[0m\u001b[1;33m)\u001b[0m\u001b[1;33m\u001b[0m\u001b[0m\n\u001b[0;32m    662\u001b[0m         \u001b[1;32mif\u001b[0m \u001b[0mscript\u001b[0m \u001b[1;32mis\u001b[0m \u001b[1;32mnot\u001b[0m \u001b[1;32mNone\u001b[0m\u001b[1;33m:\u001b[0m\u001b[1;33m\u001b[0m\u001b[0m\n\u001b[1;32m--> 663\u001b[1;33m             figure.script.add_children(Element(script(self, kwargs)),\n\u001b[0m\u001b[0;32m    664\u001b[0m                                        name=self.get_name())\n\u001b[0;32m    665\u001b[0m \u001b[1;33m\u001b[0m\u001b[0m\n",
      "\u001b[1;32m/home/flo/.virtualenvs/mesaides/lib/python3.4/site-packages/jinja2/runtime.py\u001b[0m in \u001b[0;36m__call__\u001b[1;34m(self, *args, **kwargs)\u001b[0m\n\u001b[0;32m    434\u001b[0m             raise TypeError('macro %r takes not more than %d argument(s)' %\n\u001b[0;32m    435\u001b[0m                             (self.name, len(self.arguments)))\n\u001b[1;32m--> 436\u001b[1;33m         \u001b[1;32mreturn\u001b[0m \u001b[0mself\u001b[0m\u001b[1;33m.\u001b[0m\u001b[0m_func\u001b[0m\u001b[1;33m(\u001b[0m\u001b[1;33m*\u001b[0m\u001b[0marguments\u001b[0m\u001b[1;33m)\u001b[0m\u001b[1;33m\u001b[0m\u001b[0m\n\u001b[0m\u001b[0;32m    437\u001b[0m \u001b[1;33m\u001b[0m\u001b[0m\n\u001b[0;32m    438\u001b[0m     \u001b[1;32mdef\u001b[0m \u001b[0m__repr__\u001b[0m\u001b[1;33m(\u001b[0m\u001b[0mself\u001b[0m\u001b[1;33m)\u001b[0m\u001b[1;33m:\u001b[0m\u001b[1;33m\u001b[0m\u001b[0m\n",
      "\u001b[1;32m<template>\u001b[0m in \u001b[0;36mmacro\u001b[1;34m(l_this, l_kwargs)\u001b[0m\n",
      "\u001b[1;32m/home/flo/.virtualenvs/mesaides/lib/python3.4/site-packages/jinja2/runtime.py\u001b[0m in \u001b[0;36mcall\u001b[1;34m(_Context__self, _Context__obj, *args, **kwargs)\u001b[0m\n\u001b[0;32m    194\u001b[0m                 \u001b[0margs\u001b[0m \u001b[1;33m=\u001b[0m \u001b[1;33m(\u001b[0m\u001b[0m__self\u001b[0m\u001b[1;33m.\u001b[0m\u001b[0menvironment\u001b[0m\u001b[1;33m,\u001b[0m\u001b[1;33m)\u001b[0m \u001b[1;33m+\u001b[0m \u001b[0margs\u001b[0m\u001b[1;33m\u001b[0m\u001b[0m\n\u001b[0;32m    195\u001b[0m         \u001b[1;32mtry\u001b[0m\u001b[1;33m:\u001b[0m\u001b[1;33m\u001b[0m\u001b[0m\n\u001b[1;32m--> 196\u001b[1;33m             \u001b[1;32mreturn\u001b[0m \u001b[0m__obj\u001b[0m\u001b[1;33m(\u001b[0m\u001b[1;33m*\u001b[0m\u001b[0margs\u001b[0m\u001b[1;33m,\u001b[0m \u001b[1;33m**\u001b[0m\u001b[0mkwargs\u001b[0m\u001b[1;33m)\u001b[0m\u001b[1;33m\u001b[0m\u001b[0m\n\u001b[0m\u001b[0;32m    197\u001b[0m         \u001b[1;32mexcept\u001b[0m \u001b[0mStopIteration\u001b[0m\u001b[1;33m:\u001b[0m\u001b[1;33m\u001b[0m\u001b[0m\n\u001b[0;32m    198\u001b[0m             return __self.environment.undefined('value was undefined because '\n",
      "\u001b[1;32m/home/flo/.virtualenvs/mesaides/lib/python3.4/site-packages/folium/features.py\u001b[0m in \u001b[0;36mstyle_data\u001b[1;34m(self)\u001b[0m\n\u001b[0;32m    352\u001b[0m \u001b[1;33m\u001b[0m\u001b[0m\n\u001b[0;32m    353\u001b[0m         \u001b[1;32mfor\u001b[0m \u001b[0mfeature\u001b[0m \u001b[1;32min\u001b[0m \u001b[0mself\u001b[0m\u001b[1;33m.\u001b[0m\u001b[0mdata\u001b[0m\u001b[1;33m[\u001b[0m\u001b[1;34m'features'\u001b[0m\u001b[1;33m]\u001b[0m\u001b[1;33m:\u001b[0m\u001b[1;33m\u001b[0m\u001b[0m\n\u001b[1;32m--> 354\u001b[1;33m             \u001b[0mfeature\u001b[0m\u001b[1;33m.\u001b[0m\u001b[0msetdefault\u001b[0m\u001b[1;33m(\u001b[0m\u001b[1;34m'properties'\u001b[0m\u001b[1;33m,\u001b[0m \u001b[1;33m{\u001b[0m\u001b[1;33m}\u001b[0m\u001b[1;33m)\u001b[0m\u001b[1;33m.\u001b[0m\u001b[0msetdefault\u001b[0m\u001b[1;33m(\u001b[0m\u001b[1;34m'style'\u001b[0m\u001b[1;33m,\u001b[0m \u001b[1;33m{\u001b[0m\u001b[1;33m}\u001b[0m\u001b[1;33m)\u001b[0m\u001b[1;33m.\u001b[0m\u001b[0mupdate\u001b[0m\u001b[1;33m(\u001b[0m\u001b[0mself\u001b[0m\u001b[1;33m.\u001b[0m\u001b[0mstyle_function\u001b[0m\u001b[1;33m(\u001b[0m\u001b[0mfeature\u001b[0m\u001b[1;33m)\u001b[0m\u001b[1;33m)\u001b[0m  \u001b[1;31m# noqa\u001b[0m\u001b[1;33m\u001b[0m\u001b[0m\n\u001b[0m\u001b[0;32m    355\u001b[0m         \u001b[1;32mreturn\u001b[0m \u001b[0mjson\u001b[0m\u001b[1;33m.\u001b[0m\u001b[0mdumps\u001b[0m\u001b[1;33m(\u001b[0m\u001b[0mself\u001b[0m\u001b[1;33m.\u001b[0m\u001b[0mdata\u001b[0m\u001b[1;33m,\u001b[0m \u001b[0msort_keys\u001b[0m\u001b[1;33m=\u001b[0m\u001b[1;32mTrue\u001b[0m\u001b[1;33m)\u001b[0m\u001b[1;33m\u001b[0m\u001b[0m\n\u001b[0;32m    356\u001b[0m \u001b[1;33m\u001b[0m\u001b[0m\n",
      "\u001b[1;32m<ipython-input-79-98aa565cd935>\u001b[0m in \u001b[0;36m<lambda>\u001b[1;34m(feature)\u001b[0m\n\u001b[0;32m      4\u001b[0m     \u001b[0mgeo_json_data\u001b[0m\u001b[1;33m,\u001b[0m\u001b[1;33m\u001b[0m\u001b[0m\n\u001b[0;32m      5\u001b[0m     style_function=lambda feature: {\n\u001b[1;32m----> 6\u001b[1;33m         \u001b[1;34m'fillColor'\u001b[0m\u001b[1;33m:\u001b[0m \u001b[0mcolormap\u001b[0m\u001b[1;33m(\u001b[0m\u001b[0mpostal_count_dict\u001b[0m\u001b[1;33m[\u001b[0m\u001b[0mfeature\u001b[0m\u001b[1;33m[\u001b[0m\u001b[1;34m\"geometry.properties.insee\"\u001b[0m\u001b[1;33m]\u001b[0m\u001b[1;33m]\u001b[0m\u001b[1;33m)\u001b[0m\u001b[1;33m,\u001b[0m\u001b[1;33m\u001b[0m\u001b[0m\n\u001b[0m\u001b[0;32m      7\u001b[0m         \u001b[1;34m'color'\u001b[0m \u001b[1;33m:\u001b[0m \u001b[1;34m'black'\u001b[0m\u001b[1;33m,\u001b[0m\u001b[1;33m\u001b[0m\u001b[0m\n\u001b[0;32m      8\u001b[0m         \u001b[1;34m'weight'\u001b[0m \u001b[1;33m:\u001b[0m \u001b[1;36m1\u001b[0m\u001b[1;33m,\u001b[0m\u001b[1;33m\u001b[0m\u001b[0m\n",
      "\u001b[1;31mKeyError\u001b[0m: 'geometry.properties.insee'"
     ]
    }
   ],
   "source": [
    "map_france = folium.Map(location=[47.000000, 2.000000], zoom_start=6)\n",
    "\n",
    "folium.GeoJson(\n",
    "    geo_json_data,\n",
    "    style_function=lambda feature: {\n",
    "        'fillColor': colormap(postal_count_dict[feature[\"geometry.properties.insee\"]]),\n",
    "        'color' : 'black',\n",
    "        'weight' : 1,\n",
    "        'dashArray' : '5, 5',\n",
    "        'fillOpacity' : .9,\n",
    "        }\n",
    "    ).add_to(map_france)\n",
    "\n",
    "map_france.save('/media/flo/Stockage/Data/MesAides/map/choro_test1.html')"
   ]
  },
  {
   "cell_type": "markdown",
   "metadata": {},
   "source": [
    "## Choropleth"
   ]
  },
  {
   "cell_type": "code",
   "execution_count": 202,
   "metadata": {
    "collapsed": false
   },
   "outputs": [
    {
     "data": {
      "text/html": [
       "<div>\n",
       "<table border=\"1\" class=\"dataframe\">\n",
       "  <thead>\n",
       "    <tr style=\"text-align: right;\">\n",
       "      <th></th>\n",
       "      <th>Code_commune_INSEE</th>\n",
       "      <th>CP_count</th>\n",
       "    </tr>\n",
       "  </thead>\n",
       "  <tbody>\n",
       "    <tr>\n",
       "      <th>220</th>\n",
       "      <td>31555</td>\n",
       "      <td>1249</td>\n",
       "    </tr>\n",
       "    <tr>\n",
       "      <th>877</th>\n",
       "      <td>44109</td>\n",
       "      <td>910</td>\n",
       "    </tr>\n",
       "    <tr>\n",
       "      <th>18</th>\n",
       "      <td>34172</td>\n",
       "      <td>823</td>\n",
       "    </tr>\n",
       "    <tr>\n",
       "      <th>3139</th>\n",
       "      <td>33063</td>\n",
       "      <td>733</td>\n",
       "    </tr>\n",
       "    <tr>\n",
       "      <th>1339</th>\n",
       "      <td>67482</td>\n",
       "      <td>723</td>\n",
       "    </tr>\n",
       "  </tbody>\n",
       "</table>\n",
       "</div>"
      ],
      "text/plain": [
       "     Code_commune_INSEE  CP_count\n",
       "220               31555      1249\n",
       "877               44109       910\n",
       "18                34172       823\n",
       "3139              33063       733\n",
       "1339              67482       723"
      ]
     },
     "execution_count": 202,
     "metadata": {},
     "output_type": "execute_result"
    }
   ],
   "source": [
    "postal_count[postal_count.CP_count != 0].sort_values(by='CP_count', ascending=False).head()"
   ]
  },
  {
   "cell_type": "code",
   "execution_count": 17,
   "metadata": {
    "collapsed": false
   },
   "outputs": [
    {
     "data": {
      "text/plain": [
       "<matplotlib.axes.AxesSubplot at 0x7f918c2264e0>"
      ]
     },
     "execution_count": 17,
     "metadata": {},
     "output_type": "execute_result"
    },
    {
     "data": {
      "image/png": "[encoded data removed]",
      "text/plain": [
       "<matplotlib.figure.Figure at 0x7f918c210d68>"
      ]
     },
     "metadata": {},
     "output_type": "display_data"
    }
   ],
   "source": [
    "postal_count.CP_count[postal_count.CP_count > 10].hist(bins=500, figsize=(5, 5))"
   ]
  },
  {
   "cell_type": "code",
   "execution_count": 19,
   "metadata": {
    "collapsed": false,
    "scrolled": true
   },
   "outputs": [],
   "source": [
    "map_france = folium.Map(location=[47.000000, 2.000000], zoom_start=6)\n",
    "\n",
    "map_france.choropleth(\n",
    "                    geo_str=open('/media/flo/Stockage/Data/communes_osm/communes_100m/simplified_communes100m.json').read(),\n",
    "                    data=postal_count,\n",
    "                    columns=['Code_commune_INSEE', 'CP_count'],\n",
    "                    key_on='feature.properties.insee',\n",
    "                    fill_color='BuPu',\n",
    "                    line_opacity=0.05,\n",
    "                    line_weight=0.3,\n",
    "                    line_color='grey',\n",
    "                    threshold_scale=[10.0, 50.0, 90.0, 150.0, 200.0, 500.0],\n",
    "                    legend_name='Nombre de simulations',\n",
    ")\n",
    "map_france.save('/media/flo/Stockage/Data/MesAides/map/choro_test1.html')"
   ]
  },
  {
   "cell_type": "code",
   "execution_count": 20,
   "metadata": {
    "collapsed": false,
    "scrolled": true
   },
   "outputs": [],
   "source": [
    "# map_france\n",
    "# voir le HTML dictement."
   ]
  },
  {
   "cell_type": "markdown",
   "metadata": {},
   "source": [
    "### Choropleth normalisé par la population par code_insee"
   ]
  },
  {
   "cell_type": "code",
   "execution_count": 112,
   "metadata": {
    "collapsed": false
   },
   "outputs": [
    {
     "data": {
      "text/html": [
       "<div>\n",
       "<table border=\"1\" class=\"dataframe\">\n",
       "  <thead>\n",
       "    <tr style=\"text-align: right;\">\n",
       "      <th></th>\n",
       "      <th>Code région</th>\n",
       "      <th>Nom de la région</th>\n",
       "      <th>Code département</th>\n",
       "      <th>Code arrondissement</th>\n",
       "      <th>Code canton</th>\n",
       "      <th>Code commune</th>\n",
       "      <th>Nom de la commune</th>\n",
       "      <th>Population municipale</th>\n",
       "      <th>Population comptée à part</th>\n",
       "      <th>Population totale</th>\n",
       "      <th>Code_commune_INSEE</th>\n",
       "    </tr>\n",
       "  </thead>\n",
       "  <tbody>\n",
       "    <tr>\n",
       "      <th>0</th>\n",
       "      <td>82</td>\n",
       "      <td>Rhône-Alpes</td>\n",
       "      <td>01</td>\n",
       "      <td>2</td>\n",
       "      <td>8</td>\n",
       "      <td>001</td>\n",
       "      <td>L' Abergement-Clémenciat</td>\n",
       "      <td>767</td>\n",
       "      <td>13</td>\n",
       "      <td>780</td>\n",
       "      <td>01001</td>\n",
       "    </tr>\n",
       "    <tr>\n",
       "      <th>1</th>\n",
       "      <td>82</td>\n",
       "      <td>Rhône-Alpes</td>\n",
       "      <td>01</td>\n",
       "      <td>1</td>\n",
       "      <td>1</td>\n",
       "      <td>002</td>\n",
       "      <td>L' Abergement-de-Varey</td>\n",
       "      <td>236</td>\n",
       "      <td>4</td>\n",
       "      <td>240</td>\n",
       "      <td>01002</td>\n",
       "    </tr>\n",
       "  </tbody>\n",
       "</table>\n",
       "</div>"
      ],
      "text/plain": [
       "  Code région Nom de la région Code département  Code arrondissement  \\\n",
       "0          82      Rhône-Alpes               01                    2   \n",
       "1          82      Rhône-Alpes               01                    1   \n",
       "\n",
       "   Code canton Code commune         Nom de la commune  Population municipale  \\\n",
       "0            8          001  L' Abergement-Clémenciat                    767   \n",
       "1            1          002    L' Abergement-de-Varey                    236   \n",
       "\n",
       "   Population comptée à part  Population totale Code_commune_INSEE  \n",
       "0                         13                780              01001  \n",
       "1                          4                240              01002  "
      ]
     },
     "execution_count": 112,
     "metadata": {},
     "output_type": "execute_result"
    }
   ],
   "source": [
    "# recencement 2013\n",
    "t_populations = pd.read_excel('/media/flo/Stockage/Data/communes_osm/population_communes_insee/ensemble.xls',\n",
    "                              skiprows=7,\n",
    "                              sheetname='Communes',\n",
    "                              converters={'Code région': str, 'Code commune': str, 'Code département': str}\n",
    "                             )\n",
    "# code insee = code département & code commune\n",
    "t_populations['Code_commune_INSEE'] = t_populations[['Code département', 'Code commune']].astype(str).sum(axis=1)\n",
    "\n",
    "t_populations.head(2)"
   ]
  },
  {
   "cell_type": "code",
   "execution_count": 113,
   "metadata": {
    "collapsed": false
   },
   "outputs": [
    {
     "data": {
      "text/html": [
       "<div>\n",
       "<table border=\"1\" class=\"dataframe\">\n",
       "  <thead>\n",
       "    <tr style=\"text-align: right;\">\n",
       "      <th></th>\n",
       "      <th>Code_commune_INSEE</th>\n",
       "      <th>CP_count</th>\n",
       "      <th>Population totale</th>\n",
       "      <th>Nom de la commune</th>\n",
       "    </tr>\n",
       "  </thead>\n",
       "  <tbody>\n",
       "    <tr>\n",
       "      <th>0</th>\n",
       "      <td>50173</td>\n",
       "      <td>0</td>\n",
       "      <td>17841</td>\n",
       "      <td>Équeurdreville-Hainneville</td>\n",
       "    </tr>\n",
       "    <tr>\n",
       "      <th>1</th>\n",
       "      <td>06079</td>\n",
       "      <td>0</td>\n",
       "      <td>23095</td>\n",
       "      <td>Mandelieu-la-Napoule</td>\n",
       "    </tr>\n",
       "  </tbody>\n",
       "</table>\n",
       "</div>"
      ],
      "text/plain": [
       "  Code_commune_INSEE  CP_count  Population totale           Nom de la commune\n",
       "0              50173         0              17841  Équeurdreville-Hainneville\n",
       "1              06079         0              23095        Mandelieu-la-Napoule"
      ]
     },
     "execution_count": 113,
     "metadata": {},
     "output_type": "execute_result"
    }
   ],
   "source": [
    "postal_count = pd.merge(postal_count,\n",
    "               t_populations.ix[:, ['Code_commune_INSEE', 'Population totale', 'Nom de la commune']],\n",
    "               on='Code_commune_INSEE',\n",
    "               how='left')\n",
    "\n",
    "postal_count.head(2)"
   ]
  },
  {
   "cell_type": "code",
   "execution_count": 114,
   "metadata": {
    "collapsed": false
   },
   "outputs": [
    {
     "data": {
      "text/plain": [
       "<matplotlib.axes.AxesSubplot at 0x7fc5205797f0>"
      ]
     },
     "execution_count": 114,
     "metadata": {},
     "output_type": "execute_result"
    },
    {
     "data": {
      "image/png": "[encoded data removed]",
      "text/plain": [
       "<matplotlib.figure.Figure at 0x7fc52a598eb8>"
      ]
     },
     "metadata": {},
     "output_type": "display_data"
    }
   ],
   "source": [
    "postal_count['ratio'] = postal_count['CP_count'] / postal_count['Population totale']\n",
    "postal_count[postal_count.CP_count > 10].ratio.hist(bins=100)"
   ]
  },
  {
   "cell_type": "code",
   "execution_count": 205,
   "metadata": {
    "collapsed": false
   },
   "outputs": [
    {
     "data": {
      "text/plain": [
       "<matplotlib.text.Text at 0x7f91809bb978>"
      ]
     },
     "execution_count": 205,
     "metadata": {},
     "output_type": "execute_result"
    },
    {
     "data": {
      "image/png": "[encoded data removed]",
      "text/plain": [
       "<matplotlib.figure.Figure at 0x7f917cc43390>"
      ]
     },
     "metadata": {},
     "output_type": "display_data"
    }
   ],
   "source": [
    "fig = plt.figure(figsize=(12, 8))\n",
    "ax0 = plt.subplot(121)\n",
    "postal_count.sort_values('ratio', ascending=False).head(20).plot(kind='barh',\n",
    "                                                                 x='Nom de la commune',\n",
    "                                                                 y='ratio',\n",
    "                                                                 ax=ax0,\n",
    "                                                                 color='red')\n",
    "plt.gca().invert_yaxis()\n",
    "plt.xlabel('# simulations / pop totale')\n",
    "plt.legend(loc='lower right')\n",
    "\n",
    "ax1 = plt.subplot(122, sharey=ax0)\n",
    "postal_count.sort_values('ratio', ascending=False).head(20).plot(kind='barh',\n",
    "                                                                 x='Nom de la commune',\n",
    "                                                                 y=['CP_count', 'Population totale'],\n",
    "                                                                 ax=ax1)\n",
    "\n",
    "plt.gca().invert_yaxis()\n",
    "\n",
    "plt.suptitle('Top 20 des communes ayant les meilleurs ratios simulations/pop totale', fontsize=14)"
   ]
  },
  {
   "cell_type": "code",
   "execution_count": 121,
   "metadata": {
    "collapsed": true
   },
   "outputs": [],
   "source": [
    "from folium.utilities import split_six"
   ]
  },
  {
   "cell_type": "code",
   "execution_count": 40,
   "metadata": {
    "collapsed": true
   },
   "outputs": [],
   "source": [
    "postal_count_filter = postal_count.copy()"
   ]
  },
  {
   "cell_type": "code",
   "execution_count": 48,
   "metadata": {
    "collapsed": false,
    "scrolled": true
   },
   "outputs": [],
   "source": [
    "postal_count_filter.loc[(postal_count_filter['Population totale'] > 5000) & postal_count_filter['Population totale'] < 20000]['ratio'] =  -1"
   ]
  },
  {
   "cell_type": "code",
   "execution_count": 49,
   "metadata": {
    "collapsed": false
   },
   "outputs": [],
   "source": [
    "map_france = folium.Map(location=[47.000000, 2.000000], zoom_start=6)\n",
    "\n",
    "map_france.choropleth(\n",
    "                    geo_str=open('/media/flo/Stockage/Data/communes_osm/communes_100m/simplified_communes100m.json').read(),\n",
    "                    data=postal_count,\n",
    "                    columns=['Code_commune_INSEE', 'ratio'],\n",
    "                    key_on='feature.properties.insee',\n",
    "                    fill_color='RdPu',\n",
    "                    line_opacity=0.05,\n",
    "                    fill_opacity=0.8,\n",
    "                    line_weight=0.3,\n",
    "                    line_color='grey',\n",
    "                    #threshold_scale=[0.015, 0.05, 0.1, 0.2, 0.3, 0.5],\n",
    "                    legend_name='Nombre de simulations normalisé par la population'\n",
    ")\n",
    "map_france.save('/media/flo/Stockage/Data/MesAides/map/choro_ratio_f5000.html')"
   ]
  },
  {
   "cell_type": "markdown",
   "metadata": {},
   "source": [
    "## Indice pauvreté"
   ]
  },
  {
   "cell_type": "code",
   "execution_count": 57,
   "metadata": {
    "collapsed": true
   },
   "outputs": [],
   "source": [
    "%qtconsole"
   ]
  },
  {
   "cell_type": "code",
   "execution_count": 115,
   "metadata": {
    "collapsed": false,
    "scrolled": true
   },
   "outputs": [
    {
     "data": {
      "text/html": [
       "<div>\n",
       "<table border=\"1\" class=\"dataframe\">\n",
       "  <thead>\n",
       "    <tr style=\"text-align: right;\">\n",
       "      <th></th>\n",
       "      <th>Code_commune_INSEE</th>\n",
       "      <th>LIBGEO</th>\n",
       "      <th>nb_menages_fiscaux</th>\n",
       "      <th>nb_pers_menages_fiscaux</th>\n",
       "      <th>MED12</th>\n",
       "      <th>PIMP12</th>\n",
       "      <th>TP6012</th>\n",
       "      <th>TP60AGE112</th>\n",
       "      <th>TP60AGE212</th>\n",
       "      <th>TP60AGE312</th>\n",
       "      <th>...</th>\n",
       "      <th>PPEN12</th>\n",
       "      <th>PPAT12</th>\n",
       "      <th>PPSOC12</th>\n",
       "      <th>PPFAM12</th>\n",
       "      <th>PPMINI12</th>\n",
       "      <th>PPLOGT12</th>\n",
       "      <th>PIMPOT12</th>\n",
       "      <th>RD12</th>\n",
       "      <th>D112</th>\n",
       "      <th>D912</th>\n",
       "    </tr>\n",
       "  </thead>\n",
       "  <tbody>\n",
       "    <tr>\n",
       "      <th>0</th>\n",
       "      <td>01001</td>\n",
       "      <td>L'Abergement-Clémenciat</td>\n",
       "      <td>299</td>\n",
       "      <td>780.5</td>\n",
       "      <td>22253.000000</td>\n",
       "      <td>NaN</td>\n",
       "      <td>NaN</td>\n",
       "      <td>NaN</td>\n",
       "      <td>NaN</td>\n",
       "      <td>NaN</td>\n",
       "      <td>...</td>\n",
       "      <td>NaN</td>\n",
       "      <td>NaN</td>\n",
       "      <td>NaN</td>\n",
       "      <td>NaN</td>\n",
       "      <td>NaN</td>\n",
       "      <td>NaN</td>\n",
       "      <td>NaN</td>\n",
       "      <td>NaN</td>\n",
       "      <td>NaN</td>\n",
       "      <td>NaN</td>\n",
       "    </tr>\n",
       "    <tr>\n",
       "      <th>1</th>\n",
       "      <td>01002</td>\n",
       "      <td>L'Abergement-de-Varey</td>\n",
       "      <td>97</td>\n",
       "      <td>227.0</td>\n",
       "      <td>21765.714286</td>\n",
       "      <td>NaN</td>\n",
       "      <td>NaN</td>\n",
       "      <td>NaN</td>\n",
       "      <td>NaN</td>\n",
       "      <td>NaN</td>\n",
       "      <td>...</td>\n",
       "      <td>NaN</td>\n",
       "      <td>NaN</td>\n",
       "      <td>NaN</td>\n",
       "      <td>NaN</td>\n",
       "      <td>NaN</td>\n",
       "      <td>NaN</td>\n",
       "      <td>NaN</td>\n",
       "      <td>NaN</td>\n",
       "      <td>NaN</td>\n",
       "      <td>NaN</td>\n",
       "    </tr>\n",
       "  </tbody>\n",
       "</table>\n",
       "<p>2 rows × 29 columns</p>\n",
       "</div>"
      ],
      "text/plain": [
       "  Code_commune_INSEE                   LIBGEO  nb_menages_fiscaux  \\\n",
       "0              01001  L'Abergement-Clémenciat                 299   \n",
       "1              01002    L'Abergement-de-Varey                  97   \n",
       "\n",
       "   nb_pers_menages_fiscaux         MED12  PIMP12  TP6012  TP60AGE112  \\\n",
       "0                    780.5  22253.000000     NaN     NaN         NaN   \n",
       "1                    227.0  21765.714286     NaN     NaN         NaN   \n",
       "\n",
       "   TP60AGE212  TP60AGE312  ...   PPEN12  PPAT12  PPSOC12  PPFAM12  PPMINI12  \\\n",
       "0         NaN         NaN  ...      NaN     NaN      NaN      NaN       NaN   \n",
       "1         NaN         NaN  ...      NaN     NaN      NaN      NaN       NaN   \n",
       "\n",
       "   PPLOGT12  PIMPOT12  RD12  D112  D912  \n",
       "0       NaN       NaN   NaN   NaN   NaN  \n",
       "1       NaN       NaN   NaN   NaN   NaN  \n",
       "\n",
       "[2 rows x 29 columns]"
      ]
     },
     "execution_count": 115,
     "metadata": {},
     "output_type": "execute_result"
    }
   ],
   "source": [
    "# recencement 2013\n",
    "t_pauvrete = pd.read_excel('/media/flo/Stockage/Data/communes_osm/pauvrete_insee/base-cc-filosofi-12.xls',\n",
    "                              skiprows=5,\n",
    "                              sheetname='COM',\n",
    "                              converters={'CODGEO': str, 'LIBGEO': str}\n",
    "                             )\n",
    "t_pauvrete.rename(columns={'CODGEO': 'Code_commune_INSEE',\n",
    "                           'NBMENFISC12': 'nb_menages_fiscaux',\n",
    "                           'NBPERSMENFISC12': 'nb_pers_menages_fiscaux'}, inplace=True)\n",
    "t_pauvrete.head(2)"
   ]
  },
  {
   "cell_type": "code",
   "execution_count": 116,
   "metadata": {
    "collapsed": false
   },
   "outputs": [
    {
     "data": {
      "text/html": [
       "<div>\n",
       "<table border=\"1\" class=\"dataframe\">\n",
       "  <thead>\n",
       "    <tr style=\"text-align: right;\">\n",
       "      <th></th>\n",
       "      <th>Code_commune_INSEE</th>\n",
       "      <th>nb_menages_fiscaux</th>\n",
       "      <th>nb_pers_menages_fiscaux</th>\n",
       "      <th>MED12</th>\n",
       "    </tr>\n",
       "  </thead>\n",
       "  <tbody>\n",
       "    <tr>\n",
       "      <th>0</th>\n",
       "      <td>01001</td>\n",
       "      <td>299</td>\n",
       "      <td>780.5</td>\n",
       "      <td>22253.000000</td>\n",
       "    </tr>\n",
       "    <tr>\n",
       "      <th>1</th>\n",
       "      <td>01002</td>\n",
       "      <td>97</td>\n",
       "      <td>227.0</td>\n",
       "      <td>21765.714286</td>\n",
       "    </tr>\n",
       "    <tr>\n",
       "      <th>2</th>\n",
       "      <td>01004</td>\n",
       "      <td>5897</td>\n",
       "      <td>13420.0</td>\n",
       "      <td>19236.666667</td>\n",
       "    </tr>\n",
       "    <tr>\n",
       "      <th>3</th>\n",
       "      <td>01005</td>\n",
       "      <td>615</td>\n",
       "      <td>1673.5</td>\n",
       "      <td>21743.888889</td>\n",
       "    </tr>\n",
       "    <tr>\n",
       "      <th>4</th>\n",
       "      <td>01006</td>\n",
       "      <td>48</td>\n",
       "      <td>111.0</td>\n",
       "      <td>20354.400000</td>\n",
       "    </tr>\n",
       "  </tbody>\n",
       "</table>\n",
       "</div>"
      ],
      "text/plain": [
       "  Code_commune_INSEE  nb_menages_fiscaux  nb_pers_menages_fiscaux  \\\n",
       "0              01001                 299                    780.5   \n",
       "1              01002                  97                    227.0   \n",
       "2              01004                5897                  13420.0   \n",
       "3              01005                 615                   1673.5   \n",
       "4              01006                  48                    111.0   \n",
       "\n",
       "          MED12  \n",
       "0  22253.000000  \n",
       "1  21765.714286  \n",
       "2  19236.666667  \n",
       "3  21743.888889  \n",
       "4  20354.400000  "
      ]
     },
     "execution_count": 116,
     "metadata": {},
     "output_type": "execute_result"
    }
   ],
   "source": [
    "t_pauvrete = t_pauvrete.ix[:, ['Code_commune_INSEE', 'nb_menages_fiscaux', 'nb_pers_menages_fiscaux', 'MED12']]\n",
    "t_pauvrete.head()"
   ]
  },
  {
   "cell_type": "code",
   "execution_count": 117,
   "metadata": {
    "collapsed": false
   },
   "outputs": [
    {
     "data": {
      "text/html": [
       "<div>\n",
       "<table border=\"1\" class=\"dataframe\">\n",
       "  <thead>\n",
       "    <tr style=\"text-align: right;\">\n",
       "      <th></th>\n",
       "      <th>Code_commune_INSEE</th>\n",
       "      <th>CP_count</th>\n",
       "      <th>Population totale</th>\n",
       "      <th>Nom de la commune</th>\n",
       "      <th>ratio</th>\n",
       "      <th>nb_menages_fiscaux</th>\n",
       "      <th>nb_pers_menages_fiscaux</th>\n",
       "      <th>MED12</th>\n",
       "    </tr>\n",
       "  </thead>\n",
       "  <tbody>\n",
       "    <tr>\n",
       "      <th>0</th>\n",
       "      <td>50173</td>\n",
       "      <td>0</td>\n",
       "      <td>17841</td>\n",
       "      <td>Équeurdreville-Hainneville</td>\n",
       "      <td>0</td>\n",
       "      <td>7309</td>\n",
       "      <td>16766.5</td>\n",
       "      <td>19459.500000</td>\n",
       "    </tr>\n",
       "    <tr>\n",
       "      <th>1</th>\n",
       "      <td>06079</td>\n",
       "      <td>0</td>\n",
       "      <td>23095</td>\n",
       "      <td>Mandelieu-la-Napoule</td>\n",
       "      <td>0</td>\n",
       "      <td>11938</td>\n",
       "      <td>23629.5</td>\n",
       "      <td>21251.904762</td>\n",
       "    </tr>\n",
       "  </tbody>\n",
       "</table>\n",
       "</div>"
      ],
      "text/plain": [
       "  Code_commune_INSEE  CP_count  Population totale           Nom de la commune  \\\n",
       "0              50173         0              17841  Équeurdreville-Hainneville   \n",
       "1              06079         0              23095        Mandelieu-la-Napoule   \n",
       "\n",
       "   ratio  nb_menages_fiscaux  nb_pers_menages_fiscaux         MED12  \n",
       "0      0                7309                  16766.5  19459.500000  \n",
       "1      0               11938                  23629.5  21251.904762  "
      ]
     },
     "execution_count": 117,
     "metadata": {},
     "output_type": "execute_result"
    }
   ],
   "source": [
    "postal_count = pd.merge(postal_count, t_pauvrete, on='Code_commune_INSEE', how='left')\n",
    "postal_count.head(2)"
   ]
  },
  {
   "cell_type": "code",
   "execution_count": 131,
   "metadata": {
    "collapsed": false
   },
   "outputs": [
    {
     "data": {
      "text/plain": [
       "0.046293425093771066"
      ]
     },
     "execution_count": 131,
     "metadata": {},
     "output_type": "execute_result"
    }
   ],
   "source": [
    "postal_count.CP_count.corr(postal_count.MED12)"
   ]
  },
  {
   "cell_type": "code",
   "execution_count": 119,
   "metadata": {
    "collapsed": false
   },
   "outputs": [],
   "source": [
    "postal_count.fillna(-1, inplace=True)"
   ]
  },
  {
   "cell_type": "code",
   "execution_count": 132,
   "metadata": {
    "collapsed": false
   },
   "outputs": [
    {
     "name": "stderr",
     "output_type": "stream",
     "text": [
      "/usr/local/lib/python3.4/dist-packages/ipykernel/__main__.py:14: FutureWarning: 'threshold_scale' default behavior has changed. Now you get a linear scale between the 'min' and the 'max' of your data. To get former behavior, use folium.utilities.split_six.\n"
     ]
    }
   ],
   "source": [
    "map_france = folium.Map(location=[47.000000, 2.000000], zoom_start=6)\n",
    "\n",
    "map_france.choropleth(\n",
    "                    geo_str=open('/media/flo/Stockage/Data/communes_osm/communes_100m/simplified_communes100m.json').read(),\n",
    "                    data=postal_count,\n",
    "                    columns=['Code_commune_INSEE', 'MED12'],\n",
    "                    key_on='feature.properties.insee',\n",
    "                    fill_color='RdPu',\n",
    "                    line_opacity=0.05,\n",
    "                    fill_opacity=0.8,\n",
    "                    line_weight=0.3,\n",
    "                    line_color='grey',\n",
    "                    #threshold_scale=[0.015, 0.05, 0.1, 0.2, 0.3, 0.5],\n",
    "                    legend_name='MED12'\n",
    ")\n",
    "map_france.save('/media/flo/Stockage/Data/MesAides/map/choro_MED12.html')"
   ]
  },
  {
   "cell_type": "code",
   "execution_count": 160,
   "metadata": {
    "collapsed": true
   },
   "outputs": [],
   "source": [
    "postal_count_0 = postal_count.loc[postal_count.ratio > 0.01]"
   ]
  },
  {
   "cell_type": "code",
   "execution_count": 161,
   "metadata": {
    "collapsed": false
   },
   "outputs": [
    {
     "data": {
      "text/plain": [
       "0.26256485861445178"
      ]
     },
     "execution_count": 161,
     "metadata": {},
     "output_type": "execute_result"
    }
   ],
   "source": [
    "postal_count_0.CP_count.corr(postal_count_0.MED12)"
   ]
  },
  {
   "cell_type": "code",
   "execution_count": 166,
   "metadata": {
    "collapsed": false
   },
   "outputs": [
    {
     "data": {
      "text/plain": [
       "Code_commune_INSEE         1774\n",
       "CP_count                   1774\n",
       "Population totale          1774\n",
       "Nom de la commune          1774\n",
       "ratio                      1774\n",
       "nb_menages_fiscaux         1774\n",
       "nb_pers_menages_fiscaux    1774\n",
       "MED12                      1774\n",
       "dtype: int64"
      ]
     },
     "execution_count": 166,
     "metadata": {},
     "output_type": "execute_result"
    }
   ],
   "source": [
    "postal_count.loc[postal_count.ratio > 0.01].count()"
   ]
  },
  {
   "cell_type": "code",
   "execution_count": 233,
   "metadata": {
    "collapsed": false
   },
   "outputs": [
    {
     "data": {
      "text/plain": [
       "<matplotlib.text.Text at 0x7fc5609e30f0>"
      ]
     },
     "execution_count": 233,
     "metadata": {},
     "output_type": "execute_result"
    },
    {
     "data": {
      "image/png": "[encoded data removed]",
      "text/plain": [
       "<matplotlib.figure.Figure at 0x7fc560b95c50>"
      ]
     },
     "metadata": {},
     "output_type": "display_data"
    }
   ],
   "source": [
    "ratio_threshold = np.arange(1, 1000, 1)\n",
    "l_corr = []\n",
    "l_size = []\n",
    "l_thresh = []\n",
    "nb_communes = postal_count.shape[0] # nb communes initiales (31k)\n",
    "\n",
    "for thresh in ratio_threshold:\n",
    "    if (nb_communes > 100):\n",
    "        postal_count_thresh = postal_count.loc[postal_count.CP_count >= thresh]\n",
    "        corr = postal_count_thresh.CP_count.corr(postal_count_thresh.MED12)\n",
    "        nb_communes = postal_count.loc[postal_count.CP_count >= thresh].shape[0]\n",
    "        nb_communes_ratio = postal_count.loc[postal_count.CP_count >= thresh].shape[0] / postal_count.shape[0]\n",
    "        l_corr.append(corr)\n",
    "        l_size.append(nb_communes_ratio)\n",
    "        l_thresh.append(thresh)\n",
    "    else:\n",
    "        break\n",
    "\n",
    "df_res = pd.DataFrame()\n",
    "df_res['corr'] = l_corr\n",
    "df_res['size'] = l_size\n",
    "df_res.index = l_thresh\n",
    "df_res.plot(figsize=(15, 8))\n",
    "plt.xlabel('seuil de simulations')\n",
    "plt.ylabel('corrélation')\n",
    "#pd.DataFrame(l_size).plot()"
   ]
  }
 ],
 "metadata": {
  "kernelspec": {
   "display_name": "Python 3",
   "language": "python",
   "name": "python3"
  },
  "language_info": {
   "codemirror_mode": {
    "name": "ipython",
    "version": 3
   },
   "file_extension": ".py",
   "mimetype": "text/x-python",
   "name": "python",
   "nbconvert_exporter": "python",
   "pygments_lexer": "ipython3",
   "version": "3.4.3"
  }
 },
 "nbformat": 4,
 "nbformat_minor": 0
}
